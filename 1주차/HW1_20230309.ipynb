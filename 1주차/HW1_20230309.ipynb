{
 "cells": [
  {
   "cell_type": "markdown",
   "metadata": {
    "pycharm": {
     "name": "#%% md\n"
    }
   },
   "source": [
    "# Homework 1\n",
    "\n",
    "`airbnb.csv` 데이터셋은 airbnb에 등록된 샌프란시스코 지역의 listing 데이터의 일부이다. \n",
    "\n",
    "- 'id': listing id\n",
    "- 'room_type': 집 또는 방의 형태 (entire home/apt, private room, shared room)\n",
    "- 'number_of_reviews': 총 리뷰 수\n",
    "- 'review_scores_rating': 전체 리뷰 점수 \n",
    "- 'review_scores_accuracy', 'review_scores_cleanliness','review_scores_checkin', 'review_scores_communication','review_scores_location', 'review_scores_value': 각 부분의 리뷰 점수\n",
    "- 'reviews_per_month': 월 평균 리뷰 수 \n",
    "- 'Downtown': Downtown까지의 거리 \n",
    "- 'PerCapitaIncome': 해당 지역의 소득수준\n",
    "- 'most_freq_aspect': listing description에서 가장 많이 나타난 주제\n",
    "\n",
    "아래의 질문에 답하기 위해 적절한 통계량/그래프를 출력하고 서술하시오. 완성된 답안은 **html** 파일로 다운받아 제출하시오. (File>Download as>HTML)\n"
   ]
  },
  {
   "cell_type": "code",
   "execution_count": 3,
   "metadata": {
    "pycharm": {
     "name": "#%%\n"
    }
   },
   "outputs": [],
   "source": [
    "import pandas as pd\n",
    "import pandas as pd\n",
    "import numpy as np\n",
    "from scipy.stats import trim_mean\n",
    "from statsmodels import robust\n",
    "\n",
    "import seaborn as sns\n",
    "import matplotlib.pylab as plt\n",
    "data = pd.read_csv('../data/airbnb.csv')"
   ]
  },
  {
   "cell_type": "markdown",
   "metadata": {
    "pycharm": {
     "name": "#%% md\n"
    }
   },
   "source": [
    "#### 1. 데이터가 포함한 다음 변수의 종류를 구분하시오.\n",
    "- id: 범주\n",
    "- room_type: 범주\n",
    "- number_of_reviews:수치\n",
    "- Downtown: 수치\n",
    "- most_freq_aspect: 범주"
   ]
  },
  {
   "cell_type": "code",
   "execution_count": 4,
   "metadata": {
    "pycharm": {
     "name": "#%%\n"
    }
   },
   "outputs": [
    {
     "data": {
      "text/html": [
       "<div>\n",
       "<style scoped>\n",
       "    .dataframe tbody tr th:only-of-type {\n",
       "        vertical-align: middle;\n",
       "    }\n",
       "\n",
       "    .dataframe tbody tr th {\n",
       "        vertical-align: top;\n",
       "    }\n",
       "\n",
       "    .dataframe thead th {\n",
       "        text-align: right;\n",
       "    }\n",
       "</style>\n",
       "<table border=\"1\" class=\"dataframe\">\n",
       "  <thead>\n",
       "    <tr style=\"text-align: right;\">\n",
       "      <th></th>\n",
       "      <th>id</th>\n",
       "      <th>room_type</th>\n",
       "      <th>number_of_reviews</th>\n",
       "      <th>review_scores_rating</th>\n",
       "      <th>review_scores_accuracy</th>\n",
       "      <th>review_scores_cleanliness</th>\n",
       "      <th>review_scores_checkin</th>\n",
       "      <th>review_scores_communication</th>\n",
       "      <th>review_scores_location</th>\n",
       "      <th>review_scores_value</th>\n",
       "      <th>reviews_per_month</th>\n",
       "      <th>Downtown</th>\n",
       "      <th>PerCapitaIncome</th>\n",
       "      <th>most_freq_aspect</th>\n",
       "    </tr>\n",
       "  </thead>\n",
       "  <tbody>\n",
       "    <tr>\n",
       "      <th>0</th>\n",
       "      <td>958</td>\n",
       "      <td>Entire home/apt</td>\n",
       "      <td>222.0</td>\n",
       "      <td>97.0</td>\n",
       "      <td>10.0</td>\n",
       "      <td>10.0</td>\n",
       "      <td>10.0</td>\n",
       "      <td>10.0</td>\n",
       "      <td>10.0</td>\n",
       "      <td>9.0</td>\n",
       "      <td>1.77</td>\n",
       "      <td>4068.132073</td>\n",
       "      <td>110777</td>\n",
       "      <td>int_style</td>\n",
       "    </tr>\n",
       "    <tr>\n",
       "      <th>1</th>\n",
       "      <td>3850</td>\n",
       "      <td>Private room</td>\n",
       "      <td>167.0</td>\n",
       "      <td>95.0</td>\n",
       "      <td>10.0</td>\n",
       "      <td>10.0</td>\n",
       "      <td>10.0</td>\n",
       "      <td>10.0</td>\n",
       "      <td>10.0</td>\n",
       "      <td>10.0</td>\n",
       "      <td>1.33</td>\n",
       "      <td>6792.053605</td>\n",
       "      <td>93008</td>\n",
       "      <td>comm</td>\n",
       "    </tr>\n",
       "    <tr>\n",
       "      <th>2</th>\n",
       "      <td>5858</td>\n",
       "      <td>Entire home/apt</td>\n",
       "      <td>111.0</td>\n",
       "      <td>98.0</td>\n",
       "      <td>10.0</td>\n",
       "      <td>10.0</td>\n",
       "      <td>10.0</td>\n",
       "      <td>10.0</td>\n",
       "      <td>10.0</td>\n",
       "      <td>9.0</td>\n",
       "      <td>0.87</td>\n",
       "      <td>5666.128342</td>\n",
       "      <td>69778</td>\n",
       "      <td>nature</td>\n",
       "    </tr>\n",
       "    <tr>\n",
       "      <th>3</th>\n",
       "      <td>7918</td>\n",
       "      <td>Private room</td>\n",
       "      <td>18.0</td>\n",
       "      <td>86.0</td>\n",
       "      <td>8.0</td>\n",
       "      <td>8.0</td>\n",
       "      <td>9.0</td>\n",
       "      <td>9.0</td>\n",
       "      <td>9.0</td>\n",
       "      <td>8.0</td>\n",
       "      <td>0.15</td>\n",
       "      <td>5573.866947</td>\n",
       "      <td>99041</td>\n",
       "      <td>comm</td>\n",
       "    </tr>\n",
       "    <tr>\n",
       "      <th>4</th>\n",
       "      <td>8142</td>\n",
       "      <td>Private room</td>\n",
       "      <td>8.0</td>\n",
       "      <td>93.0</td>\n",
       "      <td>9.0</td>\n",
       "      <td>9.0</td>\n",
       "      <td>10.0</td>\n",
       "      <td>10.0</td>\n",
       "      <td>9.0</td>\n",
       "      <td>9.0</td>\n",
       "      <td>0.13</td>\n",
       "      <td>5632.882874</td>\n",
       "      <td>99041</td>\n",
       "      <td>comm</td>\n",
       "    </tr>\n",
       "  </tbody>\n",
       "</table>\n",
       "</div>"
      ],
      "text/plain": [
       "     id        room_type  number_of_reviews  review_scores_rating  \\\n",
       "0   958  Entire home/apt              222.0                  97.0   \n",
       "1  3850     Private room              167.0                  95.0   \n",
       "2  5858  Entire home/apt              111.0                  98.0   \n",
       "3  7918     Private room               18.0                  86.0   \n",
       "4  8142     Private room                8.0                  93.0   \n",
       "\n",
       "   review_scores_accuracy  review_scores_cleanliness  review_scores_checkin  \\\n",
       "0                    10.0                       10.0                   10.0   \n",
       "1                    10.0                       10.0                   10.0   \n",
       "2                    10.0                       10.0                   10.0   \n",
       "3                     8.0                        8.0                    9.0   \n",
       "4                     9.0                        9.0                   10.0   \n",
       "\n",
       "   review_scores_communication  review_scores_location  review_scores_value  \\\n",
       "0                         10.0                    10.0                  9.0   \n",
       "1                         10.0                    10.0                 10.0   \n",
       "2                         10.0                    10.0                  9.0   \n",
       "3                          9.0                     9.0                  8.0   \n",
       "4                         10.0                     9.0                  9.0   \n",
       "\n",
       "   reviews_per_month     Downtown  PerCapitaIncome most_freq_aspect  \n",
       "0               1.77  4068.132073           110777        int_style  \n",
       "1               1.33  6792.053605            93008             comm  \n",
       "2               0.87  5666.128342            69778           nature  \n",
       "3               0.15  5573.866947            99041             comm  \n",
       "4               0.13  5632.882874            99041             comm  "
      ]
     },
     "execution_count": 4,
     "metadata": {},
     "output_type": "execute_result"
    }
   ],
   "source": [
    "data.head()"
   ]
  },
  {
   "cell_type": "markdown",
   "metadata": {
    "pycharm": {
     "name": "#%% md\n"
    }
   },
   "source": [
    "#### 2. `reviews_per_month`의 평균, 중위수를 계산하고 비교하여 분포의 모양을 추측해보시오. "
   ]
  },
  {
   "cell_type": "code",
   "execution_count": 5,
   "metadata": {
    "pycharm": {
     "name": "#%%\n"
    }
   },
   "outputs": [
    {
     "data": {
      "text/plain": [
       "count    6105.000000\n",
       "mean        1.888251\n",
       "std         2.089904\n",
       "min         0.010000\n",
       "25%         0.310000\n",
       "50%         1.030000\n",
       "75%         2.870000\n",
       "max        18.000000\n",
       "Name: reviews_per_month, dtype: float64"
      ]
     },
     "execution_count": 5,
     "metadata": {},
     "output_type": "execute_result"
    }
   ],
   "source": [
    "data.reviews_per_month.describe()"
   ]
  },
  {
   "cell_type": "markdown",
   "metadata": {
    "pycharm": {
     "name": "#%% md\n"
    }
   },
   "source": [
    "#### 3. `reviews_per_month`의 히스토그램을 통해 위에서 추측한 사실이 맞는지 확인해보시오. "
   ]
  },
  {
   "cell_type": "code",
   "execution_count": 6,
   "metadata": {
    "pycharm": {
     "name": "#%%\n"
    }
   },
   "outputs": [
    {
     "data": {
      "text/plain": [
       "<AxesSubplot:>"
      ]
     },
     "execution_count": 6,
     "metadata": {},
     "output_type": "execute_result"
    },
    {
     "data": {
      "image/png": "[encoded data removed]",
      "text/plain": [
       "<Figure size 432x288 with 1 Axes>"
      ]
     },
     "metadata": {
      "needs_background": "light"
     },
     "output_type": "display_data"
    }
   ],
   "source": [
    "data.reviews_per_month.hist()"
   ]
  },
  {
   "cell_type": "markdown",
   "metadata": {
    "pycharm": {
     "name": "#%% md\n"
    }
   },
   "source": [
    "#### 4. `reviews_per_month`의 평균과 중위수를 각 `room_type`별로 계산하여 비교하시오."
   ]
  },
  {
   "cell_type": "code",
   "execution_count": 8,
   "metadata": {
    "pycharm": {
     "name": "#%%\n"
    }
   },
   "outputs": [
    {
     "data": {
      "text/plain": [
       "Entire home/apt    3557\n",
       "Private room       2396\n",
       "Shared room         152\n",
       "Name: room_type, dtype: int64"
      ]
     },
     "execution_count": 8,
     "metadata": {},
     "output_type": "execute_result"
    }
   ],
   "source": [
    "data.room_type.value_counts()"
   ]
  },
  {
   "cell_type": "code",
   "execution_count": 9,
   "metadata": {
    "pycharm": {
     "name": "#%%\n"
    }
   },
   "outputs": [
    {
     "data": {
      "text/html": [
       "<div>\n",
       "<style scoped>\n",
       "    .dataframe tbody tr th:only-of-type {\n",
       "        vertical-align: middle;\n",
       "    }\n",
       "\n",
       "    .dataframe tbody tr th {\n",
       "        vertical-align: top;\n",
       "    }\n",
       "\n",
       "    .dataframe thead th {\n",
       "        text-align: right;\n",
       "    }\n",
       "</style>\n",
       "<table border=\"1\" class=\"dataframe\">\n",
       "  <thead>\n",
       "    <tr style=\"text-align: right;\">\n",
       "      <th></th>\n",
       "      <th>count</th>\n",
       "      <th>mean</th>\n",
       "      <th>std</th>\n",
       "      <th>min</th>\n",
       "      <th>25%</th>\n",
       "      <th>50%</th>\n",
       "      <th>75%</th>\n",
       "      <th>max</th>\n",
       "    </tr>\n",
       "    <tr>\n",
       "      <th>room_type</th>\n",
       "      <th></th>\n",
       "      <th></th>\n",
       "      <th></th>\n",
       "      <th></th>\n",
       "      <th></th>\n",
       "      <th></th>\n",
       "      <th></th>\n",
       "      <th></th>\n",
       "    </tr>\n",
       "  </thead>\n",
       "  <tbody>\n",
       "    <tr>\n",
       "      <th>Entire home/apt</th>\n",
       "      <td>3557.0</td>\n",
       "      <td>1.530804</td>\n",
       "      <td>1.881784</td>\n",
       "      <td>0.01</td>\n",
       "      <td>0.2500</td>\n",
       "      <td>0.750</td>\n",
       "      <td>2.000</td>\n",
       "      <td>11.02</td>\n",
       "    </tr>\n",
       "    <tr>\n",
       "      <th>Private room</th>\n",
       "      <td>2396.0</td>\n",
       "      <td>2.434912</td>\n",
       "      <td>2.283888</td>\n",
       "      <td>0.01</td>\n",
       "      <td>0.4975</td>\n",
       "      <td>1.815</td>\n",
       "      <td>3.800</td>\n",
       "      <td>18.00</td>\n",
       "    </tr>\n",
       "    <tr>\n",
       "      <th>Shared room</th>\n",
       "      <td>152.0</td>\n",
       "      <td>1.635855</td>\n",
       "      <td>1.618207</td>\n",
       "      <td>0.01</td>\n",
       "      <td>0.2275</td>\n",
       "      <td>0.735</td>\n",
       "      <td>2.965</td>\n",
       "      <td>6.10</td>\n",
       "    </tr>\n",
       "  </tbody>\n",
       "</table>\n",
       "</div>"
      ],
      "text/plain": [
       "                  count      mean       std   min     25%    50%    75%    max\n",
       "room_type                                                                     \n",
       "Entire home/apt  3557.0  1.530804  1.881784  0.01  0.2500  0.750  2.000  11.02\n",
       "Private room     2396.0  2.434912  2.283888  0.01  0.4975  1.815  3.800  18.00\n",
       "Shared room       152.0  1.635855  1.618207  0.01  0.2275  0.735  2.965   6.10"
      ]
     },
     "execution_count": 9,
     "metadata": {},
     "output_type": "execute_result"
    }
   ],
   "source": [
    "data.groupby('room_type').reviews_per_month.describe()"
   ]
  },
  {
   "cell_type": "markdown",
   "metadata": {
    "pycharm": {
     "name": "#%% md\n"
    }
   },
   "source": [
    "#### 5. `reviews_per_month`의 Boxplot을  `room_type`별로 그려서 비교하시오."
   ]
  },
  {
   "cell_type": "code",
   "execution_count": 10,
   "metadata": {
    "pycharm": {
     "name": "#%%\n"
    }
   },
   "outputs": [
    {
     "data": {
      "text/plain": [
       "<AxesSubplot:xlabel='room_type', ylabel='reviews_per_month'>"
      ]
     },
     "execution_count": 10,
     "metadata": {},
     "output_type": "execute_result"
    },
    {
     "data": {
      "image/png": "[encoded data removed]",
      "text/plain": [
       "<Figure size 432x288 with 1 Axes>"
      ]
     },
     "metadata": {
      "needs_background": "light"
     },
     "output_type": "display_data"
    }
   ],
   "source": [
    "sns.boxplot(x=\"room_type\", y=\"reviews_per_month\", data= data)"
   ]
  },
  {
   "cell_type": "markdown",
   "metadata": {
    "pycharm": {
     "name": "#%% md\n"
    }
   },
   "source": [
    "#### 6. `most_freq_aspect`의 도수분포표를 출력하고 이를 활용해 bar plot을 그려서 어떤 aspect가 가장 빈번하게 나타났는지 확인하시오."
   ]
  },
  {
   "cell_type": "code",
   "execution_count": 11,
   "metadata": {
    "pycharm": {
     "name": "#%%\n"
    }
   },
   "outputs": [
    {
     "data": {
      "text/plain": [
       "comm          1187\n",
       "bldg           911\n",
       "int_style      802\n",
       "nbhd           683\n",
       "attr_trans     658\n",
       "facil          498\n",
       "visitor        479\n",
       "nature         357\n",
       "bedroom        326\n",
       "kitchen        204\n",
       "Name: most_freq_aspect, dtype: int64"
      ]
     },
     "execution_count": 11,
     "metadata": {},
     "output_type": "execute_result"
    }
   ],
   "source": [
    "data.most_freq_aspect.value_counts()"
   ]
  },
  {
   "cell_type": "code",
   "execution_count": 12,
   "metadata": {
    "pycharm": {
     "name": "#%%\n"
    }
   },
   "outputs": [
    {
     "data": {
      "text/plain": [
       "<AxesSubplot:>"
      ]
     },
     "execution_count": 12,
     "metadata": {},
     "output_type": "execute_result"
    },
    {
     "data": {
      "image/png": "[encoded data removed]",
      "text/plain": [
       "<Figure size 432x288 with 1 Axes>"
      ]
     },
     "metadata": {
      "needs_background": "light"
     },
     "output_type": "display_data"
    }
   ],
   "source": [
    "data.most_freq_aspect.value_counts().plot.bar()"
   ]
  },
  {
   "cell_type": "markdown",
   "metadata": {
    "pycharm": {
     "name": "#%% md\n"
    }
   },
   "source": [
    "#### 7. `room_type`과 `most_freq_aspect`의 mosaic plot을 통해 room type에 따라 자주 나타나는 aspect의 특징이 다른지 비교하시오."
   ]
  },
  {
   "cell_type": "code",
   "execution_count": 14,
   "metadata": {
    "pycharm": {
     "name": "#%%\n"
    }
   },
   "outputs": [
    {
     "data": {
      "text/plain": [
       "comm          1187\n",
       "bldg           911\n",
       "int_style      802\n",
       "nbhd           683\n",
       "attr_trans     658\n",
       "facil          498\n",
       "visitor        479\n",
       "nature         357\n",
       "bedroom        326\n",
       "kitchen        204\n",
       "Name: most_freq_aspect, dtype: int64"
      ]
     },
     "execution_count": 14,
     "metadata": {},
     "output_type": "execute_result"
    }
   ],
   "source": [
    "data.most_freq_aspect.value_counts()"
   ]
  },
  {
   "cell_type": "code",
   "execution_count": 17,
   "metadata": {
    "pycharm": {
     "name": "#%%\n"
    }
   },
   "outputs": [],
   "source": [
    "data.most_freq_aspect = data.most_freq_aspect.astype('category')"
   ]
  },
  {
   "cell_type": "code",
   "execution_count": 18,
   "metadata": {
    "pycharm": {
     "name": "#%%\n"
    }
   },
   "outputs": [
    {
     "data": {
      "text/plain": [
       "id                                int64\n",
       "room_type                        object\n",
       "number_of_reviews               float64\n",
       "review_scores_rating            float64\n",
       "review_scores_accuracy          float64\n",
       "review_scores_cleanliness       float64\n",
       "review_scores_checkin           float64\n",
       "review_scores_communication     float64\n",
       "review_scores_location          float64\n",
       "review_scores_value             float64\n",
       "reviews_per_month               float64\n",
       "Downtown                        float64\n",
       "PerCapitaIncome                   int64\n",
       "most_freq_aspect               category\n",
       "dtype: object"
      ]
     },
     "execution_count": 18,
     "metadata": {},
     "output_type": "execute_result"
    }
   ],
   "source": [
    "data.dtypes"
   ]
  },
  {
   "cell_type": "code",
   "execution_count": 24,
   "metadata": {
    "pycharm": {
     "name": "#%%\n"
    }
   },
   "outputs": [],
   "source": [
    "data.most_freq_aspect = data.most_freq_aspect.cat.reorder_categories(data.most_freq_aspect.value_counts().index.to_list())"
   ]
  },
  {
   "cell_type": "code",
   "execution_count": 25,
   "metadata": {
    "scrolled": true,
    "pycharm": {
     "name": "#%%\n"
    }
   },
   "outputs": [
    {
     "data": {
      "image/png": "[encoded data removed]",
      "text/plain": [
       "<Figure size 864x576 with 1 Axes>"
      ]
     },
     "metadata": {},
     "output_type": "display_data"
    }
   ],
   "source": [
    "from statsmodels.graphics.mosaicplot import mosaic\n",
    "plt.rcParams['figure.figsize'] = [12, 8]\n",
    "mosaic(data.sort_values('most_freq_aspect'), ['room_type', 'most_freq_aspect'],axes_label=False, gap=0.01)\n",
    "plt.show()"
   ]
  },
  {
   "cell_type": "markdown",
   "metadata": {
    "pycharm": {
     "name": "#%% md\n"
    }
   },
   "source": [
    "#### 8. 7개의 review_scores 변수들과 `Downtown`, `PerCapitaIncome`, `reviews_per_month` 변수와의 상관계수 행렬과 그것의 heatmap을 통해 변수들 간의 상관관계를 관찰하고 서술하시오."
   ]
  },
  {
   "cell_type": "code",
   "execution_count": 30,
   "metadata": {
    "pycharm": {
     "name": "#%%\n"
    }
   },
   "outputs": [
    {
     "data": {
      "text/plain": [
       "array([False, False, False,  True,  True,  True,  True,  True,  True,\n",
       "        True, False, False, False, False])"
      ]
     },
     "execution_count": 30,
     "metadata": {},
     "output_type": "execute_result"
    }
   ],
   "source": [
    "data.columns.str.contains('review_')"
   ]
  },
  {
   "cell_type": "code",
   "execution_count": 33,
   "metadata": {
    "pycharm": {
     "name": "#%%\n"
    }
   },
   "outputs": [],
   "source": [
    "data_score = data.loc[:, data.columns.str.contains('review_|Down|Per|reviews_per')]"
   ]
  },
  {
   "cell_type": "code",
   "execution_count": 34,
   "metadata": {
    "scrolled": true,
    "pycharm": {
     "name": "#%%\n"
    }
   },
   "outputs": [
    {
     "data": {
      "text/html": [
       "<div>\n",
       "<style scoped>\n",
       "    .dataframe tbody tr th:only-of-type {\n",
       "        vertical-align: middle;\n",
       "    }\n",
       "\n",
       "    .dataframe tbody tr th {\n",
       "        vertical-align: top;\n",
       "    }\n",
       "\n",
       "    .dataframe thead th {\n",
       "        text-align: right;\n",
       "    }\n",
       "</style>\n",
       "<table border=\"1\" class=\"dataframe\">\n",
       "  <thead>\n",
       "    <tr style=\"text-align: right;\">\n",
       "      <th></th>\n",
       "      <th>review_scores_rating</th>\n",
       "      <th>review_scores_accuracy</th>\n",
       "      <th>review_scores_cleanliness</th>\n",
       "      <th>review_scores_checkin</th>\n",
       "      <th>review_scores_communication</th>\n",
       "      <th>review_scores_location</th>\n",
       "      <th>review_scores_value</th>\n",
       "      <th>reviews_per_month</th>\n",
       "      <th>Downtown</th>\n",
       "      <th>PerCapitaIncome</th>\n",
       "    </tr>\n",
       "  </thead>\n",
       "  <tbody>\n",
       "    <tr>\n",
       "      <th>review_scores_rating</th>\n",
       "      <td>1.000000</td>\n",
       "      <td>0.705048</td>\n",
       "      <td>0.666860</td>\n",
       "      <td>0.485924</td>\n",
       "      <td>0.637921</td>\n",
       "      <td>0.451721</td>\n",
       "      <td>0.686506</td>\n",
       "      <td>0.078814</td>\n",
       "      <td>0.054043</td>\n",
       "      <td>0.125469</td>\n",
       "    </tr>\n",
       "    <tr>\n",
       "      <th>review_scores_accuracy</th>\n",
       "      <td>0.705048</td>\n",
       "      <td>1.000000</td>\n",
       "      <td>0.611907</td>\n",
       "      <td>0.462369</td>\n",
       "      <td>0.586284</td>\n",
       "      <td>0.359659</td>\n",
       "      <td>0.570344</td>\n",
       "      <td>0.135251</td>\n",
       "      <td>0.084931</td>\n",
       "      <td>0.063065</td>\n",
       "    </tr>\n",
       "    <tr>\n",
       "      <th>review_scores_cleanliness</th>\n",
       "      <td>0.666860</td>\n",
       "      <td>0.611907</td>\n",
       "      <td>1.000000</td>\n",
       "      <td>0.391978</td>\n",
       "      <td>0.496237</td>\n",
       "      <td>0.304013</td>\n",
       "      <td>0.533109</td>\n",
       "      <td>0.131440</td>\n",
       "      <td>0.057903</td>\n",
       "      <td>0.080729</td>\n",
       "    </tr>\n",
       "    <tr>\n",
       "      <th>review_scores_checkin</th>\n",
       "      <td>0.485924</td>\n",
       "      <td>0.462369</td>\n",
       "      <td>0.391978</td>\n",
       "      <td>1.000000</td>\n",
       "      <td>0.548370</td>\n",
       "      <td>0.277141</td>\n",
       "      <td>0.411180</td>\n",
       "      <td>0.134380</td>\n",
       "      <td>0.094603</td>\n",
       "      <td>0.032955</td>\n",
       "    </tr>\n",
       "    <tr>\n",
       "      <th>review_scores_communication</th>\n",
       "      <td>0.637921</td>\n",
       "      <td>0.586284</td>\n",
       "      <td>0.496237</td>\n",
       "      <td>0.548370</td>\n",
       "      <td>1.000000</td>\n",
       "      <td>0.294792</td>\n",
       "      <td>0.512375</td>\n",
       "      <td>0.124630</td>\n",
       "      <td>0.096165</td>\n",
       "      <td>0.049202</td>\n",
       "    </tr>\n",
       "    <tr>\n",
       "      <th>review_scores_location</th>\n",
       "      <td>0.451721</td>\n",
       "      <td>0.359659</td>\n",
       "      <td>0.304013</td>\n",
       "      <td>0.277141</td>\n",
       "      <td>0.294792</td>\n",
       "      <td>1.000000</td>\n",
       "      <td>0.425748</td>\n",
       "      <td>0.075669</td>\n",
       "      <td>-0.080912</td>\n",
       "      <td>0.298409</td>\n",
       "    </tr>\n",
       "    <tr>\n",
       "      <th>review_scores_value</th>\n",
       "      <td>0.686506</td>\n",
       "      <td>0.570344</td>\n",
       "      <td>0.533109</td>\n",
       "      <td>0.411180</td>\n",
       "      <td>0.512375</td>\n",
       "      <td>0.425748</td>\n",
       "      <td>1.000000</td>\n",
       "      <td>0.111472</td>\n",
       "      <td>0.083281</td>\n",
       "      <td>0.068504</td>\n",
       "    </tr>\n",
       "    <tr>\n",
       "      <th>reviews_per_month</th>\n",
       "      <td>0.078814</td>\n",
       "      <td>0.135251</td>\n",
       "      <td>0.131440</td>\n",
       "      <td>0.134380</td>\n",
       "      <td>0.124630</td>\n",
       "      <td>0.075669</td>\n",
       "      <td>0.111472</td>\n",
       "      <td>1.000000</td>\n",
       "      <td>0.267295</td>\n",
       "      <td>-0.143245</td>\n",
       "    </tr>\n",
       "    <tr>\n",
       "      <th>Downtown</th>\n",
       "      <td>0.054043</td>\n",
       "      <td>0.084931</td>\n",
       "      <td>0.057903</td>\n",
       "      <td>0.094603</td>\n",
       "      <td>0.096165</td>\n",
       "      <td>-0.080912</td>\n",
       "      <td>0.083281</td>\n",
       "      <td>0.267295</td>\n",
       "      <td>1.000000</td>\n",
       "      <td>-0.314239</td>\n",
       "    </tr>\n",
       "    <tr>\n",
       "      <th>PerCapitaIncome</th>\n",
       "      <td>0.125469</td>\n",
       "      <td>0.063065</td>\n",
       "      <td>0.080729</td>\n",
       "      <td>0.032955</td>\n",
       "      <td>0.049202</td>\n",
       "      <td>0.298409</td>\n",
       "      <td>0.068504</td>\n",
       "      <td>-0.143245</td>\n",
       "      <td>-0.314239</td>\n",
       "      <td>1.000000</td>\n",
       "    </tr>\n",
       "  </tbody>\n",
       "</table>\n",
       "</div>"
      ],
      "text/plain": [
       "                             review_scores_rating  review_scores_accuracy  \\\n",
       "review_scores_rating                     1.000000                0.705048   \n",
       "review_scores_accuracy                   0.705048                1.000000   \n",
       "review_scores_cleanliness                0.666860                0.611907   \n",
       "review_scores_checkin                    0.485924                0.462369   \n",
       "review_scores_communication              0.637921                0.586284   \n",
       "review_scores_location                   0.451721                0.359659   \n",
       "review_scores_value                      0.686506                0.570344   \n",
       "reviews_per_month                        0.078814                0.135251   \n",
       "Downtown                                 0.054043                0.084931   \n",
       "PerCapitaIncome                          0.125469                0.063065   \n",
       "\n",
       "                             review_scores_cleanliness  review_scores_checkin  \\\n",
       "review_scores_rating                          0.666860               0.485924   \n",
       "review_scores_accuracy                        0.611907               0.462369   \n",
       "review_scores_cleanliness                     1.000000               0.391978   \n",
       "review_scores_checkin                         0.391978               1.000000   \n",
       "review_scores_communication                   0.496237               0.548370   \n",
       "review_scores_location                        0.304013               0.277141   \n",
       "review_scores_value                           0.533109               0.411180   \n",
       "reviews_per_month                             0.131440               0.134380   \n",
       "Downtown                                      0.057903               0.094603   \n",
       "PerCapitaIncome                               0.080729               0.032955   \n",
       "\n",
       "                             review_scores_communication  \\\n",
       "review_scores_rating                            0.637921   \n",
       "review_scores_accuracy                          0.586284   \n",
       "review_scores_cleanliness                       0.496237   \n",
       "review_scores_checkin                           0.548370   \n",
       "review_scores_communication                     1.000000   \n",
       "review_scores_location                          0.294792   \n",
       "review_scores_value                             0.512375   \n",
       "reviews_per_month                               0.124630   \n",
       "Downtown                                        0.096165   \n",
       "PerCapitaIncome                                 0.049202   \n",
       "\n",
       "                             review_scores_location  review_scores_value  \\\n",
       "review_scores_rating                       0.451721             0.686506   \n",
       "review_scores_accuracy                     0.359659             0.570344   \n",
       "review_scores_cleanliness                  0.304013             0.533109   \n",
       "review_scores_checkin                      0.277141             0.411180   \n",
       "review_scores_communication                0.294792             0.512375   \n",
       "review_scores_location                     1.000000             0.425748   \n",
       "review_scores_value                        0.425748             1.000000   \n",
       "reviews_per_month                          0.075669             0.111472   \n",
       "Downtown                                  -0.080912             0.083281   \n",
       "PerCapitaIncome                            0.298409             0.068504   \n",
       "\n",
       "                             reviews_per_month  Downtown  PerCapitaIncome  \n",
       "review_scores_rating                  0.078814  0.054043         0.125469  \n",
       "review_scores_accuracy                0.135251  0.084931         0.063065  \n",
       "review_scores_cleanliness             0.131440  0.057903         0.080729  \n",
       "review_scores_checkin                 0.134380  0.094603         0.032955  \n",
       "review_scores_communication           0.124630  0.096165         0.049202  \n",
       "review_scores_location                0.075669 -0.080912         0.298409  \n",
       "review_scores_value                   0.111472  0.083281         0.068504  \n",
       "reviews_per_month                     1.000000  0.267295        -0.143245  \n",
       "Downtown                              0.267295  1.000000        -0.314239  \n",
       "PerCapitaIncome                      -0.143245 -0.314239         1.000000  "
      ]
     },
     "execution_count": 34,
     "metadata": {},
     "output_type": "execute_result"
    }
   ],
   "source": [
    "data_score.corr()"
   ]
  },
  {
   "cell_type": "code",
   "execution_count": 37,
   "metadata": {
    "scrolled": true,
    "pycharm": {
     "name": "#%%\n"
    }
   },
   "outputs": [
    {
     "data": {
      "image/png": "[encoded data removed]",
      "text/plain": [
       "<Figure size 504x504 with 2 Axes>"
      ]
     },
     "metadata": {
      "needs_background": "light"
     },
     "output_type": "display_data"
    }
   ],
   "source": [
    "fig, ax = plt.subplots(figsize=(7, 7))\n",
    "ax = sns.heatmap(data_score.corr(), vmin=-1, vmax=1, \n",
    "                 cmap=sns.diverging_palette(20, 220, as_cmap=True),\n",
    "                 ax=ax)\n",
    "\n",
    "plt.tight_layout()\n",
    "plt.show()"
   ]
  },
  {
   "cell_type": "code",
   "execution_count": null,
   "metadata": {
    "pycharm": {
     "name": "#%%\n"
    }
   },
   "outputs": [],
   "source": []
  }
 ],
 "metadata": {
  "kernelspec": {
   "display_name": "TensorFlow 2.8 on Python 3.8 (CUDA 11.2)",
   "language": "python",
   "name": "python3"
  },
  "language_info": {
   "codemirror_mode": {
    "name": "ipython",
    "version": 3
   },
   "file_extension": ".py",
   "mimetype": "text/x-python",
   "name": "python",
   "nbconvert_exporter": "python",
   "pygments_lexer": "ipython3",
   "version": "3.8.10"
  }
 },
 "nbformat": 4,
 "nbformat_minor": 4
}