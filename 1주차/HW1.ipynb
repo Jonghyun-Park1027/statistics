{
 "cells": [
  {
   "cell_type": "markdown",
   "metadata": {
    "pycharm": {
     "name": "#%% md\n"
    }
   },
   "source": [
    "# Homework 1\n",
    "\n",
    "`airbnb.csv` 데이터셋은 airbnb에 등록된 샌프란시스코 지역의 listing 데이터의 일부이다. \n",
    "\n",
    "- 'id': listing id\n",
    "- 'room_type': 집 또는 방의 형태 (entire home/apt, private room, shared room)\n",
    "- 'number_of_reviews': 총 리뷰 수\n",
    "- 'review_scores_rating': 전체 리뷰 점수 \n",
    "- 'review_scores_accuracy', 'review_scores_cleanliness','review_scores_checkin', 'review_scores_communication','review_scores_location', 'review_scores_value': 각 부분의 리뷰 점수\n",
    "- 'reviews_per_month': 월 평균 리뷰 수 \n",
    "- 'Downtown': Downtown까지의 거리 \n",
    "- 'PerCapitaIncome': 해당 지역의 소득수준\n",
    "- 'most_freq_aspect': listing description에서 가장 많이 나타난 주제\n",
    "\n",
    "아래의 질문에 답하기 위해 적절한 통계량/그래프를 출력하고 서술하시오. 완성된 답안은 **html** 파일로 다운받아 제출하시오. (File>Download as>HTML)\n"
   ]
  },
  {
   "cell_type": "code",
   "execution_count": 2,
   "metadata": {
    "pycharm": {
     "name": "#%%\n"
    }
   },
   "outputs": [],
   "source": [
    "import pandas as pd\n",
    "import pandas as pd\n",
    "import numpy as np\n",
    "from scipy.stats import trim_mean\n",
    "from statsmodels import robust\n",
    "\n",
    "import seaborn as sns\n",
    "import matplotlib.pylab as plt\n",
    "data = pd.read_csv('./data/airbnb.csv')"
   ]
  },
  {
   "cell_type": "code",
   "execution_count": 3,
   "outputs": [
    {
     "data": {
      "text/plain": "            id        room_type  number_of_reviews  review_scores_rating  \\\n0          958  Entire home/apt              222.0                  97.0   \n1         3850     Private room              167.0                  95.0   \n2         5858  Entire home/apt              111.0                  98.0   \n3         7918     Private room               18.0                  86.0   \n4         8142     Private room                8.0                  93.0   \n...        ...              ...                ...                   ...   \n6100  39413362     Private room                1.0                   NaN   \n6101  39652916     Private room                1.0                 100.0   \n6102  39654300  Entire home/apt                1.0                 100.0   \n6103  39704725     Private room                1.0                 100.0   \n6104  29009564  Entire home/apt                3.0                 100.0   \n\n      review_scores_accuracy  review_scores_cleanliness  \\\n0                       10.0                       10.0   \n1                       10.0                       10.0   \n2                       10.0                       10.0   \n3                        8.0                        8.0   \n4                        9.0                        9.0   \n...                      ...                        ...   \n6100                     NaN                        NaN   \n6101                    10.0                       10.0   \n6102                    10.0                       10.0   \n6103                    10.0                       10.0   \n6104                     9.0                       10.0   \n\n      review_scores_checkin  review_scores_communication  \\\n0                      10.0                         10.0   \n1                      10.0                         10.0   \n2                      10.0                         10.0   \n3                       9.0                          9.0   \n4                      10.0                         10.0   \n...                     ...                          ...   \n6100                    NaN                          NaN   \n6101                   10.0                         10.0   \n6102                   10.0                         10.0   \n6103                   10.0                         10.0   \n6104                    8.0                         10.0   \n\n      review_scores_location  review_scores_value  reviews_per_month  \\\n0                       10.0                  9.0               1.77   \n1                       10.0                 10.0               1.33   \n2                       10.0                  9.0               0.87   \n3                        9.0                  8.0               0.15   \n4                        9.0                  9.0               0.13   \n...                      ...                  ...                ...   \n6100                     NaN                  NaN               1.00   \n6101                    10.0                 10.0               1.00   \n6102                    10.0                 10.0               1.00   \n6103                    10.0                 10.0               1.00   \n6104                    10.0                 10.0               0.23   \n\n         Downtown  PerCapitaIncome most_freq_aspect  \n0     4068.132073           110777        int_style  \n1     6792.053605            93008             comm  \n2     5666.128342            69778           nature  \n3     5573.866947            99041             comm  \n4     5632.882874            99041             comm  \n...           ...              ...              ...  \n6100  7703.704979            75119             bldg  \n6101  5506.885308            61740             bldg  \n6102  5354.254655            61740             nbhd  \n6103  7646.091834            45475             bldg  \n6104   524.506491            59254             comm  \n\n[6105 rows x 14 columns]",
      "text/html": "<div>\n<style scoped>\n    .dataframe tbody tr th:only-of-type {\n        vertical-align: middle;\n    }\n\n    .dataframe tbody tr th {\n        vertical-align: top;\n    }\n\n    .dataframe thead th {\n        text-align: right;\n    }\n</style>\n<table border=\"1\" class=\"dataframe\">\n  <thead>\n    <tr style=\"text-align: right;\">\n      <th></th>\n      <th>id</th>\n      <th>room_type</th>\n      <th>number_of_reviews</th>\n      <th>review_scores_rating</th>\n      <th>review_scores_accuracy</th>\n      <th>review_scores_cleanliness</th>\n      <th>review_scores_checkin</th>\n      <th>review_scores_communication</th>\n      <th>review_scores_location</th>\n      <th>review_scores_value</th>\n      <th>reviews_per_month</th>\n      <th>Downtown</th>\n      <th>PerCapitaIncome</th>\n      <th>most_freq_aspect</th>\n    </tr>\n  </thead>\n  <tbody>\n    <tr>\n      <th>0</th>\n      <td>958</td>\n      <td>Entire home/apt</td>\n      <td>222.0</td>\n      <td>97.0</td>\n      <td>10.0</td>\n      <td>10.0</td>\n      <td>10.0</td>\n      <td>10.0</td>\n      <td>10.0</td>\n      <td>9.0</td>\n      <td>1.77</td>\n      <td>4068.132073</td>\n      <td>110777</td>\n      <td>int_style</td>\n    </tr>\n    <tr>\n      <th>1</th>\n      <td>3850</td>\n      <td>Private room</td>\n      <td>167.0</td>\n      <td>95.0</td>\n      <td>10.0</td>\n      <td>10.0</td>\n      <td>10.0</td>\n      <td>10.0</td>\n      <td>10.0</td>\n      <td>10.0</td>\n      <td>1.33</td>\n      <td>6792.053605</td>\n      <td>93008</td>\n      <td>comm</td>\n    </tr>\n    <tr>\n      <th>2</th>\n      <td>5858</td>\n      <td>Entire home/apt</td>\n      <td>111.0</td>\n      <td>98.0</td>\n      <td>10.0</td>\n      <td>10.0</td>\n      <td>10.0</td>\n      <td>10.0</td>\n      <td>10.0</td>\n      <td>9.0</td>\n      <td>0.87</td>\n      <td>5666.128342</td>\n      <td>69778</td>\n      <td>nature</td>\n    </tr>\n    <tr>\n      <th>3</th>\n      <td>7918</td>\n      <td>Private room</td>\n      <td>18.0</td>\n      <td>86.0</td>\n      <td>8.0</td>\n      <td>8.0</td>\n      <td>9.0</td>\n      <td>9.0</td>\n      <td>9.0</td>\n      <td>8.0</td>\n      <td>0.15</td>\n      <td>5573.866947</td>\n      <td>99041</td>\n      <td>comm</td>\n    </tr>\n    <tr>\n      <th>4</th>\n      <td>8142</td>\n      <td>Private room</td>\n      <td>8.0</td>\n      <td>93.0</td>\n      <td>9.0</td>\n      <td>9.0</td>\n      <td>10.0</td>\n      <td>10.0</td>\n      <td>9.0</td>\n      <td>9.0</td>\n      <td>0.13</td>\n      <td>5632.882874</td>\n      <td>99041</td>\n      <td>comm</td>\n    </tr>\n    <tr>\n      <th>...</th>\n      <td>...</td>\n      <td>...</td>\n      <td>...</td>\n      <td>...</td>\n      <td>...</td>\n      <td>...</td>\n      <td>...</td>\n      <td>...</td>\n      <td>...</td>\n      <td>...</td>\n      <td>...</td>\n      <td>...</td>\n      <td>...</td>\n      <td>...</td>\n    </tr>\n    <tr>\n      <th>6100</th>\n      <td>39413362</td>\n      <td>Private room</td>\n      <td>1.0</td>\n      <td>NaN</td>\n      <td>NaN</td>\n      <td>NaN</td>\n      <td>NaN</td>\n      <td>NaN</td>\n      <td>NaN</td>\n      <td>NaN</td>\n      <td>1.00</td>\n      <td>7703.704979</td>\n      <td>75119</td>\n      <td>bldg</td>\n    </tr>\n    <tr>\n      <th>6101</th>\n      <td>39652916</td>\n      <td>Private room</td>\n      <td>1.0</td>\n      <td>100.0</td>\n      <td>10.0</td>\n      <td>10.0</td>\n      <td>10.0</td>\n      <td>10.0</td>\n      <td>10.0</td>\n      <td>10.0</td>\n      <td>1.00</td>\n      <td>5506.885308</td>\n      <td>61740</td>\n      <td>bldg</td>\n    </tr>\n    <tr>\n      <th>6102</th>\n      <td>39654300</td>\n      <td>Entire home/apt</td>\n      <td>1.0</td>\n      <td>100.0</td>\n      <td>10.0</td>\n      <td>10.0</td>\n      <td>10.0</td>\n      <td>10.0</td>\n      <td>10.0</td>\n      <td>10.0</td>\n      <td>1.00</td>\n      <td>5354.254655</td>\n      <td>61740</td>\n      <td>nbhd</td>\n    </tr>\n    <tr>\n      <th>6103</th>\n      <td>39704725</td>\n      <td>Private room</td>\n      <td>1.0</td>\n      <td>100.0</td>\n      <td>10.0</td>\n      <td>10.0</td>\n      <td>10.0</td>\n      <td>10.0</td>\n      <td>10.0</td>\n      <td>10.0</td>\n      <td>1.00</td>\n      <td>7646.091834</td>\n      <td>45475</td>\n      <td>bldg</td>\n    </tr>\n    <tr>\n      <th>6104</th>\n      <td>29009564</td>\n      <td>Entire home/apt</td>\n      <td>3.0</td>\n      <td>100.0</td>\n      <td>9.0</td>\n      <td>10.0</td>\n      <td>8.0</td>\n      <td>10.0</td>\n      <td>10.0</td>\n      <td>10.0</td>\n      <td>0.23</td>\n      <td>524.506491</td>\n      <td>59254</td>\n      <td>comm</td>\n    </tr>\n  </tbody>\n</table>\n<p>6105 rows × 14 columns</p>\n</div>"
     },
     "execution_count": 3,
     "metadata": {},
     "output_type": "execute_result"
    }
   ],
   "source": [
    "data"
   ],
   "metadata": {
    "collapsed": false,
    "pycharm": {
     "name": "#%%\n"
    }
   }
  },
  {
   "cell_type": "markdown",
   "metadata": {
    "pycharm": {
     "name": "#%% md\n"
    }
   },
   "source": [
    "#### 1. 데이터가 포함한 다음 변수의 종류를 구분하시오.\n",
    "- id\n",
    "- room_type\n",
    "- number_of_reviews\n",
    "- Downtown\n",
    "- most_freq_aspect"
   ]
  },
  {
   "cell_type": "code",
   "execution_count": 4,
   "outputs": [
    {
     "data": {
      "text/plain": "0            958\n1           3850\n2           5858\n3           7918\n4           8142\n          ...   \n6100    39413362\n6101    39652916\n6102    39654300\n6103    39704725\n6104    29009564\nName: id, Length: 6105, dtype: int64"
     },
     "execution_count": 4,
     "metadata": {},
     "output_type": "execute_result"
    }
   ],
   "source": [
    "data_id = data.id.copy()\n",
    "data_id"
   ],
   "metadata": {
    "collapsed": false,
    "pycharm": {
     "name": "#%%\n"
    }
   }
  },
  {
   "cell_type": "code",
   "execution_count": 5,
   "outputs": [
    {
     "data": {
      "text/plain": "958         1\n23293404    1\n23314035    1\n23313532    1\n23313242    1\n           ..\n9926871     1\n9925099     1\n9924449     1\n9910056     1\n29009564    1\nName: id, Length: 6105, dtype: int64"
     },
     "execution_count": 5,
     "metadata": {},
     "output_type": "execute_result"
    }
   ],
   "source": [
    "data_id.value_counts()"
   ],
   "metadata": {
    "collapsed": false,
    "pycharm": {
     "name": "#%%\n"
    }
   }
  },
  {
   "cell_type": "code",
   "execution_count": 6,
   "outputs": [
    {
     "data": {
      "text/plain": "0            958\n1           3850\n2           5858\n3           7918\n4           8142\n          ...   \n6100    39413362\n6101    39652916\n6102    39654300\n6103    39704725\n6104    29009564\nName: id, Length: 6105, dtype: int64"
     },
     "execution_count": 6,
     "metadata": {},
     "output_type": "execute_result"
    }
   ],
   "source": [
    "data.loc[:,\"id\"]"
   ],
   "metadata": {
    "collapsed": false,
    "pycharm": {
     "name": "#%%\n"
    }
   }
  },
  {
   "cell_type": "code",
   "execution_count": 7,
   "outputs": [],
   "source": [
    "data_room = data.loc[:, \"room_type\"]"
   ],
   "metadata": {
    "collapsed": false,
    "pycharm": {
     "name": "#%%\n"
    }
   }
  },
  {
   "cell_type": "code",
   "execution_count": 8,
   "outputs": [
    {
     "data": {
      "text/plain": "Entire home/apt    3557\nPrivate room       2396\nShared room         152\nName: room_type, dtype: int64"
     },
     "execution_count": 8,
     "metadata": {},
     "output_type": "execute_result"
    }
   ],
   "source": [
    "data_room.value_counts()"
   ],
   "metadata": {
    "collapsed": false,
    "pycharm": {
     "name": "#%%\n"
    }
   }
  },
  {
   "cell_type": "code",
   "execution_count": 9,
   "outputs": [
    {
     "data": {
      "text/plain": "1.0      583\n2.0      390\n3.0      260\n4.0      205\n5.0      162\n        ... \n403.0      1\n426.0      1\n255.0      1\n191.0      1\n438.0      1\nName: number_of_reviews, Length: 411, dtype: int64"
     },
     "execution_count": 9,
     "metadata": {},
     "output_type": "execute_result"
    }
   ],
   "source": [
    "data_number = data.loc[:, \"number_of_reviews\"]\n",
    "data_number.value_counts()"
   ],
   "metadata": {
    "collapsed": false,
    "pycharm": {
     "name": "#%%\n"
    }
   }
  },
  {
   "cell_type": "code",
   "execution_count": 10,
   "outputs": [
    {
     "data": {
      "text/plain": "4068.132073    1\n1092.051026    1\n9846.110631    1\n9768.668089    1\n1063.819935    1\n              ..\n7537.634569    1\n3876.723034    1\n4215.558581    1\n3382.901110    1\n524.506491     1\nName: Downtown, Length: 6105, dtype: int64"
     },
     "execution_count": 10,
     "metadata": {},
     "output_type": "execute_result"
    }
   ],
   "source": [
    "data_down = data.loc[:, \"Downtown\"]\n",
    "data_down.value_counts()"
   ],
   "metadata": {
    "collapsed": false,
    "pycharm": {
     "name": "#%%\n"
    }
   }
  },
  {
   "cell_type": "code",
   "execution_count": 11,
   "outputs": [
    {
     "data": {
      "text/plain": "comm          1187\nbldg           911\nint_style      802\nnbhd           683\nattr_trans     658\nfacil          498\nvisitor        479\nnature         357\nbedroom        326\nkitchen        204\nName: most_freq_aspect, dtype: int64"
     },
     "execution_count": 11,
     "metadata": {},
     "output_type": "execute_result"
    }
   ],
   "source": [
    "data_most_freq = data.loc[:, \"most_freq_aspect\"]\n",
    "data_most_freq.value_counts()"
   ],
   "metadata": {
    "collapsed": false,
    "pycharm": {
     "name": "#%%\n"
    }
   }
  },
  {
   "cell_type": "markdown",
   "metadata": {
    "pycharm": {
     "name": "#%% md\n"
    }
   },
   "source": [
    "#### 2. `reviews_per_month`의 평균, 중위수를 계산하고 비교하여 분포의 모양을 추측해보시오. "
   ]
  },
  {
   "cell_type": "code",
   "execution_count": 12,
   "metadata": {
    "pycharm": {
     "name": "#%%\n"
    }
   },
   "outputs": [
    {
     "data": {
      "text/plain": "count    6105.000000\nmean        1.888251\nstd         2.089904\nmin         0.010000\n25%         0.310000\n50%         1.030000\n75%         2.870000\nmax        18.000000\nName: reviews_per_month, dtype: float64"
     },
     "execution_count": 12,
     "metadata": {},
     "output_type": "execute_result"
    }
   ],
   "source": [
    "data_reviews = data.loc[:, \"reviews_per_month\"]\n",
    "data_reviews.describe()"
   ]
  },
  {
   "cell_type": "code",
   "execution_count": 13,
   "outputs": [
    {
     "data": {
      "text/plain": "(array([3.843e+03, 1.105e+03, 6.610e+02, 3.250e+02, 1.260e+02, 3.900e+01,\n        5.000e+00, 0.000e+00, 0.000e+00, 1.000e+00]),\n array([1.0000e-02, 1.8090e+00, 3.6080e+00, 5.4070e+00, 7.2060e+00,\n        9.0050e+00, 1.0804e+01, 1.2603e+01, 1.4402e+01, 1.6201e+01,\n        1.8000e+01]),\n <BarContainer object of 10 artists>)"
     },
     "execution_count": 13,
     "metadata": {},
     "output_type": "execute_result"
    },
    {
     "data": {
      "text/plain": "<Figure size 640x480 with 1 Axes>",
      "image/png": "[encoded data removed]"
     },
     "metadata": {},
     "output_type": "display_data"
    }
   ],
   "source": [
    "plt.hist(data_reviews)"
   ],
   "metadata": {
    "collapsed": false,
    "pycharm": {
     "name": "#%%\n"
    }
   }
  },
  {
   "cell_type": "markdown",
   "metadata": {
    "pycharm": {
     "name": "#%% md\n"
    }
   },
   "source": [
    "#### 3. `reviews_per_month`의 히스토그램을 통해 위에서 추측한 사실이 맞는지 확인해보시오. "
   ]
  },
  {
   "cell_type": "code",
   "execution_count": 14,
   "metadata": {
    "pycharm": {
     "name": "#%%\n"
    }
   },
   "outputs": [
    {
     "data": {
      "text/plain": "(array([3.843e+03, 1.105e+03, 6.610e+02, 3.250e+02, 1.260e+02, 3.900e+01,\n        5.000e+00, 0.000e+00, 0.000e+00, 1.000e+00]),\n array([1.0000e-02, 1.8090e+00, 3.6080e+00, 5.4070e+00, 7.2060e+00,\n        9.0050e+00, 1.0804e+01, 1.2603e+01, 1.4402e+01, 1.6201e+01,\n        1.8000e+01]),\n <BarContainer object of 10 artists>)"
     },
     "execution_count": 14,
     "metadata": {},
     "output_type": "execute_result"
    },
    {
     "data": {
      "text/plain": "<Figure size 640x480 with 1 Axes>",
      "image/png": "[encoded data removed]"
     },
     "metadata": {},
     "output_type": "display_data"
    }
   ],
   "source": [
    "plt.hist(data_reviews)\n"
   ]
  },
  {
   "cell_type": "markdown",
   "metadata": {
    "pycharm": {
     "name": "#%% md\n"
    }
   },
   "source": [
    "#### 4. `reviews_per_month`의 평균과 중위수를 각 `room_type`별로 계산하여 비교하시오."
   ]
  },
  {
   "cell_type": "code",
   "execution_count": 15,
   "metadata": {
    "pycharm": {
     "name": "#%%\n"
    }
   },
   "outputs": [
    {
     "data": {
      "text/plain": "room_type\nEntire home/apt    0.750\nPrivate room       1.815\nShared room        0.735\nName: reviews_per_month, dtype: float64"
     },
     "execution_count": 15,
     "metadata": {},
     "output_type": "execute_result"
    }
   ],
   "source": [
    "data['reviews_per_month'].groupby(data['room_type']).median()"
   ]
  },
  {
   "cell_type": "code",
   "execution_count": 16,
   "outputs": [
    {
     "data": {
      "text/plain": "room_type\nEntire home/apt    1.530804\nPrivate room       2.434912\nShared room        1.635855\nName: reviews_per_month, dtype: float64"
     },
     "execution_count": 16,
     "metadata": {},
     "output_type": "execute_result"
    }
   ],
   "source": [
    "data['reviews_per_month'].groupby(data['room_type']).mean()"
   ],
   "metadata": {
    "collapsed": false,
    "pycharm": {
     "name": "#%%\n"
    }
   }
  },
  {
   "cell_type": "code",
   "execution_count": null,
   "outputs": [],
   "source": [],
   "metadata": {
    "collapsed": false,
    "pycharm": {
     "name": "#%%\n"
    }
   }
  },
  {
   "cell_type": "markdown",
   "source": [
    "#### 5. `reviews_per_month`의 Boxplot을  `room_type`별로 그려서 비교하시오."
   ],
   "metadata": {
    "collapsed": false,
    "pycharm": {
     "name": "#%% md\n"
    }
   }
  },
  {
   "cell_type": "code",
   "execution_count": null,
   "outputs": [],
   "source": [
    "data_review_room = data['reviews_per_month'].groupby(data['room_type'])\n"
   ],
   "metadata": {
    "collapsed": false,
    "pycharm": {
     "name": "#%%\n"
    }
   }
  },
  {
   "cell_type": "code",
   "execution_count": null,
   "outputs": [],
   "source": [
    "\n",
    "# Create a boxplot of data_review_room\n",
    "plt.boxplot([data_review_room.get_group('Entire home/apt').dropna(),\n",
    "             data_review_room.get_group('Private room').dropna(),\n",
    "             data_review_room.get_group('Shared room').dropna()])\n",
    "\n",
    "# Set the x-axis tick labels\n",
    "plt.xticks([1, 2, 3], ['Entire home/apt', 'Private room', 'Shared room'])\n",
    "\n",
    "# Set the axis labels and title\n",
    "plt.xlabel('Room Type')\n",
    "plt.ylabel('Reviews per Month')\n",
    "plt.title('Boxplot of Reviews per Month by Room Type')\n",
    "\n",
    "# Show the plot\n",
    "plt.show()\n"
   ],
   "metadata": {
    "collapsed": false,
    "pycharm": {
     "name": "#%%\n"
    }
   }
  },
  {
   "cell_type": "code",
   "execution_count": null,
   "outputs": [],
   "source": [],
   "metadata": {
    "collapsed": false,
    "pycharm": {
     "name": "#%%\n"
    }
   }
  },
  {
   "cell_type": "code",
   "execution_count": null,
   "outputs": [],
   "source": [],
   "metadata": {
    "collapsed": false,
    "pycharm": {
     "name": "#%%\n"
    }
   }
  },
  {
   "cell_type": "markdown",
   "source": [
    "#### 6. `most_freq_aspect`의 도수분포표를 출력하고 이를 활용해 bar plot을 그려서 어떤 aspect가 가장 빈번하게 나타났는지 확인하시오."
   ],
   "metadata": {
    "collapsed": false,
    "pycharm": {
     "name": "#%% md\n"
    }
   }
  },
  {
   "cell_type": "code",
   "execution_count": null,
   "outputs": [],
   "source": [
    "data_freq_count = data_most_freq.value_counts()\n",
    "data_freq_count"
   ],
   "metadata": {
    "collapsed": false,
    "pycharm": {
     "name": "#%%\n"
    }
   }
  },
  {
   "cell_type": "code",
   "execution_count": null,
   "outputs": [],
   "source": [
    "\n",
    "data_freq_count.plot(x=data_freq_count.index,kind='bar')\n"
   ],
   "metadata": {
    "collapsed": false,
    "pycharm": {
     "name": "#%%\n"
    }
   }
  },
  {
   "cell_type": "markdown",
   "source": [
    "#### 7. `room_type`과 `most_freq_aspect`의 mosaic plot을 통해 room type에 따라 자주 나타나는 aspect의 특징이 다른지 비교하시오."
   ],
   "metadata": {
    "collapsed": false,
    "pycharm": {
     "name": "#%% md\n"
    }
   }
  },
  {
   "cell_type": "code",
   "execution_count": null,
   "outputs": [],
   "source": [
    "data.most_freq_aspect.value_counts()"
   ],
   "metadata": {
    "collapsed": false,
    "pycharm": {
     "name": "#%%\n"
    }
   }
  },
  {
   "cell_type": "code",
   "execution_count": null,
   "outputs": [],
   "source": [
    "data.most_freq_aspect = data.most_freq_aspect.astype('category')"
   ],
   "metadata": {
    "collapsed": false,
    "pycharm": {
     "name": "#%%\n"
    }
   }
  },
  {
   "cell_type": "code",
   "execution_count": null,
   "outputs": [],
   "source": [
    "data.dtypes"
   ],
   "metadata": {
    "collapsed": false,
    "pycharm": {
     "name": "#%%\n"
    }
   }
  },
  {
   "cell_type": "code",
   "execution_count": null,
   "outputs": [],
   "source": [
    "data.most_freq_aspect.cat.reorder_categories()"
   ],
   "metadata": {
    "collapsed": false,
    "pycharm": {
     "name": "#%%\n"
    }
   }
  },
  {
   "cell_type": "code",
   "execution_count": null,
   "outputs": [],
   "source": [],
   "metadata": {
    "collapsed": false,
    "pycharm": {
     "name": "#%%\n"
    }
   }
  },
  {
   "cell_type": "code",
   "execution_count": null,
   "outputs": [],
   "source": [
    "data.most_freq_aspect.value_counts().index.to_list()"
   ],
   "metadata": {
    "collapsed": false,
    "pycharm": {
     "name": "#%%\n"
    }
   }
  },
  {
   "cell_type": "code",
   "execution_count": null,
   "outputs": [],
   "source": [],
   "metadata": {
    "collapsed": false,
    "pycharm": {
     "name": "#%%\n"
    }
   }
  },
  {
   "cell_type": "code",
   "execution_count": null,
   "outputs": [],
   "source": [
    "from statsmodels.graphics.mosaicplot import mosaic\n",
    "\n",
    "mosaic(data.sort_values('most_freq_aspect'), ['room_type', 'most_freq_aspect'])\n",
    "\n",
    "plt.show()"
   ],
   "metadata": {
    "collapsed": false,
    "pycharm": {
     "name": "#%%\n"
    }
   }
  },
  {
   "cell_type": "markdown",
   "source": [
    "#### 8. 7개의 review_scores 변수들과 `Downtown`, `PerCapitaIncome`, `reviews_per_month` 변수와의 상관계수 행렬과 그것의 heatmap을 통해 변수들 간의 상관관계를 관찰하고 서술하시오."
   ],
   "metadata": {
    "collapsed": false,
    "pycharm": {
     "name": "#%% md\n"
    }
   }
  },
  {
   "cell_type": "code",
   "execution_count": null,
   "outputs": [],
   "source": [
    "data.loc[:, ['Downtown']]"
   ],
   "metadata": {
    "collapsed": false,
    "pycharm": {
     "name": "#%%\n"
    }
   }
  },
  {
   "cell_type": "code",
   "execution_count": null,
   "outputs": [],
   "source": [],
   "metadata": {
    "collapsed": false,
    "pycharm": {
     "name": "#%%\n"
    }
   }
  },
  {
   "cell_type": "code",
   "execution_count": null,
   "outputs": [],
   "source": [],
   "metadata": {
    "collapsed": false,
    "pycharm": {
     "name": "#%%\n"
    }
   }
  },
  {
   "cell_type": "code",
   "execution_count": null,
   "outputs": [],
   "source": [],
   "metadata": {
    "collapsed": false,
    "pycharm": {
     "name": "#%%\n"
    }
   }
  },
  {
   "cell_type": "code",
   "execution_count": null,
   "outputs": [],
   "source": [],
   "metadata": {
    "collapsed": false,
    "pycharm": {
     "name": "#%%\n"
    }
   }
  },
  {
   "cell_type": "code",
   "execution_count": 39,
   "outputs": [],
   "source": [
    "data.most_freq_aspect = data.most_freq_aspect.astype('category')"
   ],
   "metadata": {
    "collapsed": false,
    "pycharm": {
     "name": "#%%\n"
    }
   }
  },
  {
   "cell_type": "code",
   "execution_count": 41,
   "outputs": [
    {
     "data": {
      "text/plain": "id                                int64\nroom_type                        object\nnumber_of_reviews               float64\nreview_scores_rating            float64\nreview_scores_accuracy          float64\nreview_scores_cleanliness       float64\nreview_scores_checkin           float64\nreview_scores_communication     float64\nreview_scores_location          float64\nreview_scores_value             float64\nreviews_per_month               float64\nDowntown                        float64\nPerCapitaIncome                   int64\nmost_freq_aspect               category\ndtype: object"
     },
     "execution_count": 41,
     "metadata": {},
     "output_type": "execute_result"
    }
   ],
   "source": [
    "data.dtypes"
   ],
   "metadata": {
    "collapsed": false,
    "pycharm": {
     "name": "#%%\n"
    }
   }
  },
  {
   "cell_type": "code",
   "execution_count": null,
   "outputs": [],
   "source": [
    "data.most_freq_aspect.cat.reorder_categories()"
   ],
   "metadata": {
    "collapsed": false,
    "pycharm": {
     "name": "#%%\n"
    }
   }
  },
  {
   "cell_type": "code",
   "execution_count": null,
   "outputs": [],
   "source": [],
   "metadata": {
    "collapsed": false,
    "pycharm": {
     "name": "#%%\n"
    }
   }
  },
  {
   "cell_type": "code",
   "execution_count": 42,
   "outputs": [
    {
     "data": {
      "text/plain": "['comm',\n 'bldg',\n 'int_style',\n 'nbhd',\n 'attr_trans',\n 'facil',\n 'visitor',\n 'nature',\n 'bedroom',\n 'kitchen']"
     },
     "execution_count": 42,
     "metadata": {},
     "output_type": "execute_result"
    }
   ],
   "source": [
    "data.most_freq_aspect.value_counts().index.to_list()"
   ],
   "metadata": {
    "collapsed": false,
    "pycharm": {
     "name": "#%%\n"
    }
   }
  },
  {
   "cell_type": "code",
   "execution_count": null,
   "outputs": [],
   "source": [],
   "metadata": {
    "collapsed": false,
    "pycharm": {
     "name": "#%%\n"
    }
   }
  },
  {
   "cell_type": "code",
   "execution_count": 34,
   "metadata": {
    "pycharm": {
     "name": "#%%\n"
    }
   },
   "outputs": [
    {
     "data": {
      "text/plain": "<Figure size 640x480 with 3 Axes>",
      "image/png": "[encoded data removed]"
     },
     "metadata": {},
     "output_type": "display_data"
    }
   ],
   "source": [
    "from statsmodels.graphics.mosaicplot import mosaic\n",
    "\n",
    "mosaic(data.sort_values('most_freq_aspect'), ['room_type', 'most_freq_aspect'])\n",
    "\n",
    "plt.show()"
   ]
  },
  {
   "cell_type": "markdown",
   "metadata": {
    "pycharm": {
     "name": "#%% md\n"
    }
   },
   "source": [
    "#### 8. 7개의 review_scores 변수들과 `Downtown`, `PerCapitaIncome`, `reviews_per_month` 변수와의 상관계수 행렬과 그것의 heatmap을 통해 변수들 간의 상관관계를 관찰하고 서술하시오."
   ]
  },
  {
   "cell_type": "code",
   "execution_count": 44,
   "outputs": [
    {
     "data": {
      "text/plain": "         Downtown\n0     4068.132073\n1     6792.053605\n2     5666.128342\n3     5573.866947\n4     5632.882874\n...           ...\n6100  7703.704979\n6101  5506.885308\n6102  5354.254655\n6103  7646.091834\n6104   524.506491\n\n[6105 rows x 1 columns]",
      "text/html": "<div>\n<style scoped>\n    .dataframe tbody tr th:only-of-type {\n        vertical-align: middle;\n    }\n\n    .dataframe tbody tr th {\n        vertical-align: top;\n    }\n\n    .dataframe thead th {\n        text-align: right;\n    }\n</style>\n<table border=\"1\" class=\"dataframe\">\n  <thead>\n    <tr style=\"text-align: right;\">\n      <th></th>\n      <th>Downtown</th>\n    </tr>\n  </thead>\n  <tbody>\n    <tr>\n      <th>0</th>\n      <td>4068.132073</td>\n    </tr>\n    <tr>\n      <th>1</th>\n      <td>6792.053605</td>\n    </tr>\n    <tr>\n      <th>2</th>\n      <td>5666.128342</td>\n    </tr>\n    <tr>\n      <th>3</th>\n      <td>5573.866947</td>\n    </tr>\n    <tr>\n      <th>4</th>\n      <td>5632.882874</td>\n    </tr>\n    <tr>\n      <th>...</th>\n      <td>...</td>\n    </tr>\n    <tr>\n      <th>6100</th>\n      <td>7703.704979</td>\n    </tr>\n    <tr>\n      <th>6101</th>\n      <td>5506.885308</td>\n    </tr>\n    <tr>\n      <th>6102</th>\n      <td>5354.254655</td>\n    </tr>\n    <tr>\n      <th>6103</th>\n      <td>7646.091834</td>\n    </tr>\n    <tr>\n      <th>6104</th>\n      <td>524.506491</td>\n    </tr>\n  </tbody>\n</table>\n<p>6105 rows × 1 columns</p>\n</div>"
     },
     "execution_count": 44,
     "metadata": {},
     "output_type": "execute_result"
    }
   ],
   "source": [
    "data.loc[:, ['Downtown']]"
   ],
   "metadata": {
    "collapsed": false,
    "pycharm": {
     "name": "#%%\n"
    }
   }
  },
  {
   "cell_type": "code",
   "execution_count": null,
   "outputs": [],
   "source": [],
   "metadata": {
    "collapsed": false,
    "pycharm": {
     "name": "#%%\n"
    }
   }
  },
  {
   "cell_type": "code",
   "execution_count": null,
   "outputs": [],
   "source": [],
   "metadata": {
    "collapsed": false,
    "pycharm": {
     "name": "#%%\n"
    }
   }
  },
  {
   "cell_type": "code",
   "execution_count": null,
   "outputs": [],
   "source": [],
   "metadata": {
    "collapsed": false,
    "pycharm": {
     "name": "#%%\n"
    }
   }
  },
  {
   "cell_type": "code",
   "execution_count": null,
   "outputs": [],
   "source": [],
   "metadata": {
    "collapsed": false,
    "pycharm": {
     "name": "#%%\n"
    }
   }
  },
  {
   "cell_type": "code",
   "execution_count": 22,
   "outputs": [],
   "source": [
    "seven_score = data.iloc[:, 3:10 ]"
   ],
   "metadata": {
    "collapsed": false,
    "pycharm": {
     "name": "#%%\n"
    }
   }
  },
  {
   "cell_type": "code",
   "execution_count": 23,
   "outputs": [],
   "source": [
    "three_score = data.loc[:, [\"Downtown\", \"PerCapitaIncome\", \"reviews_per_month\"]]"
   ],
   "metadata": {
    "collapsed": false,
    "pycharm": {
     "name": "#%%\n"
    }
   }
  },
  {
   "cell_type": "code",
   "execution_count": 24,
   "outputs": [],
   "source": [
    "seven_score.dropna(inplace=True)"
   ],
   "metadata": {
    "collapsed": false,
    "pycharm": {
     "name": "#%%\n"
    }
   }
  },
  {
   "cell_type": "code",
   "execution_count": 25,
   "outputs": [],
   "source": [
    "three_score.dropna(inplace=True)"
   ],
   "metadata": {
    "collapsed": false,
    "pycharm": {
     "name": "#%%\n"
    }
   }
  },
  {
   "cell_type": "code",
   "execution_count": 26,
   "outputs": [],
   "source": [
    "corr_matrix = seven_score.corrwith(three_score)"
   ],
   "metadata": {
    "collapsed": false,
    "pycharm": {
     "name": "#%%\n"
    }
   }
  },
  {
   "cell_type": "code",
   "execution_count": 37,
   "outputs": [
    {
     "name": "stdout",
     "output_type": "stream",
     "text": [
      "Downtown                      NaN\n",
      "PerCapitaIncome               NaN\n",
      "review_scores_accuracy        NaN\n",
      "review_scores_checkin         NaN\n",
      "review_scores_cleanliness     NaN\n",
      "review_scores_communication   NaN\n",
      "review_scores_location        NaN\n",
      "review_scores_rating          NaN\n",
      "review_scores_value           NaN\n",
      "reviews_per_month             NaN\n",
      "dtype: float64\n"
     ]
    }
   ],
   "source": [
    "print(corr_matrix)"
   ],
   "metadata": {
    "collapsed": false,
    "pycharm": {
     "name": "#%%\n"
    }
   }
  },
  {
   "cell_type": "code",
   "execution_count": 28,
   "outputs": [
    {
     "data": {
      "text/plain": "Downtown                      NaN\nreview_scores_accuracy        NaN\nreview_scores_checkin         NaN\nreview_scores_cleanliness     NaN\nreview_scores_communication   NaN\nreview_scores_location        NaN\nreview_scores_rating          NaN\nreview_scores_value           NaN\ndtype: float64"
     },
     "execution_count": 28,
     "metadata": {},
     "output_type": "execute_result"
    }
   ],
   "source": [
    "three_score[['Downtown']].corrwith(seven_score)"
   ],
   "metadata": {
    "collapsed": false,
    "pycharm": {
     "name": "#%%\n"
    }
   }
  },
  {
   "cell_type": "code",
   "execution_count": 29,
   "outputs": [
    {
     "name": "stdout",
     "output_type": "stream",
     "text": [
      "Downtown             float64\n",
      "PerCapitaIncome        int64\n",
      "reviews_per_month    float64\n",
      "dtype: object\n"
     ]
    }
   ],
   "source": [
    "print(three_score.dtypes)"
   ],
   "metadata": {
    "collapsed": false,
    "pycharm": {
     "name": "#%%\n"
    }
   }
  },
  {
   "cell_type": "code",
   "execution_count": 30,
   "outputs": [],
   "source": [
    "three_score = three_score.astype(\"float64\")"
   ],
   "metadata": {
    "collapsed": false,
    "pycharm": {
     "name": "#%%\n"
    }
   }
  },
  {
   "cell_type": "code",
   "execution_count": 31,
   "outputs": [],
   "source": [
    "three_score_1 = three_score.iloc[:6064,:]"
   ],
   "metadata": {
    "collapsed": false,
    "pycharm": {
     "name": "#%%\n"
    }
   }
  },
  {
   "cell_type": "code",
   "execution_count": 32,
   "outputs": [
    {
     "data": {
      "text/plain": "Downtown                      NaN\nPerCapitaIncome               NaN\nreview_scores_accuracy        NaN\nreview_scores_checkin         NaN\nreview_scores_cleanliness     NaN\nreview_scores_communication   NaN\nreview_scores_location        NaN\nreview_scores_rating          NaN\nreview_scores_value           NaN\nreviews_per_month             NaN\ndtype: float64"
     },
     "execution_count": 32,
     "metadata": {},
     "output_type": "execute_result"
    }
   ],
   "source": [
    "three_score_1.corrwith(seven_score)"
   ],
   "metadata": {
    "collapsed": false,
    "pycharm": {
     "name": "#%%\n"
    }
   }
  },
  {
   "cell_type": "code",
   "execution_count": 33,
   "outputs": [
    {
     "name": "stderr",
     "output_type": "stream",
     "text": [
      "C:\\Users\\ppjjh\\anaconda3\\lib\\site-packages\\seaborn\\matrix.py:198: RuntimeWarning: All-NaN slice encountered\n",
      "  vmin = np.nanmin(calc_data)\n",
      "C:\\Users\\ppjjh\\anaconda3\\lib\\site-packages\\seaborn\\matrix.py:203: RuntimeWarning: All-NaN slice encountered\n",
      "  vmax = np.nanmax(calc_data)\n"
     ]
    },
    {
     "data": {
      "text/plain": "<Figure size 640x480 with 2 Axes>",
      "image/png": "[encoded data removed]"
     },
     "metadata": {},
     "output_type": "display_data"
    }
   ],
   "source": [
    "\n",
    "# calculate the correlation matrix between the two dataframes\n",
    "corr_matrix = seven_score.corrwith(three_score)\n",
    "\n",
    "# convert the correlation matrix to a 2D numpy array\n",
    "corr_array = corr_matrix.to_numpy().reshape(1,-1)\n",
    "\n",
    "# create a heatmap of the correlation matrix\n",
    "sns.heatmap(corr_array,\n",
    "            # annot=True,\n",
    "            cmap='coolwarm', center=0)\n",
    "\n",
    "# set the title of the heatmap\n",
    "plt.title('Correlation Heatmap between Seven Score and Three Score')\n",
    "\n",
    "# show the heatmap\n",
    "plt.show()\n"
   ],
   "metadata": {
    "collapsed": false,
    "pycharm": {
     "name": "#%%\n"
    }
   }
  },
  {
   "cell_type": "code",
   "execution_count": 33,
   "outputs": [],
   "source": [],
   "metadata": {
    "collapsed": false,
    "pycharm": {
     "name": "#%%\n"
    }
   }
  }
 ],
 "metadata": {
  "kernelspec": {
   "display_name": "Python 3",
   "language": "python",
   "name": "python3"
  },
  "language_info": {
   "codemirror_mode": {
    "name": "ipython",
    "version": 3
   },
   "file_extension": ".py",
   "mimetype": "text/x-python",
   "name": "python",
   "nbconvert_exporter": "python",
   "pygments_lexer": "ipython3",
   "version": "3.7.7"
  }
 },
 "nbformat": 4,
 "nbformat_minor": 4
}