{
 "cells": [
  {
   "cell_type": "markdown",
   "metadata": {},
   "source": [
    "# Homework 2\n"
   ]
  },
  {
   "cell_type": "markdown",
   "metadata": {},
   "source": [
    "#### 1. 한 호텔에서 고객의 20%는 삼성카드로 결제를 한다. 무작위로 추출된 10명의 고객 중 아래의 확률을 구하시오.<br><br>\n",
    "\n",
    "#### A. 삼성카드로 결제하는 사람이 한 명도 없을 확률은? <br><br>"
   ]
  },
  {
   "cell_type": "code",
   "execution_count": null,
   "metadata": {},
   "outputs": [],
   "source": []
  },
  {
   "cell_type": "markdown",
   "metadata": {},
   "source": [
    "#### B. 삼성카드 고객이 적어도 2명일 확률은?<br><br>"
   ]
  },
  {
   "cell_type": "code",
   "execution_count": null,
   "metadata": {},
   "outputs": [],
   "source": []
  },
  {
   "cell_type": "markdown",
   "metadata": {},
   "source": [
    "#### C. 삼성카드 고객이 3명 미만일 확률은?<br><br>"
   ]
  },
  {
   "cell_type": "code",
   "execution_count": null,
   "metadata": {},
   "outputs": [],
   "source": []
  },
  {
   "cell_type": "markdown",
   "metadata": {},
   "source": [
    "#### D. 삼성카드로 결제하는 고객의 수의 평균과 표준편차는?"
   ]
  },
  {
   "cell_type": "code",
   "execution_count": null,
   "metadata": {},
   "outputs": [],
   "source": []
  },
  {
   "cell_type": "markdown",
   "metadata": {},
   "source": [
    "#### 2.\t1981년에 조지프 슐리츠 양조회사는 쇠락해가는 브랜드를 되살리기 위해 170만 달러를 들여 과감한 마케팅 행사를 열었다. NFL 수퍼볼 하프타임에 자사의 맥주와 주요 경쟁사인 미켈롭 맥주의 맛을 겨루는 블라인드 테스트를 생방송으로 내보냈다. 미켈롭 등 경쟁 브랜드의 맥주를 즐겨마시는 소비자 100명을 대상으로 그들이 좋아하는 맥주와 슐리츠 맥주를 두고 블라인드 테스트가 진행됬다. 소비자가 슐리츠를 선택할 확률이 50%로 동일하고 서로 독립적이라고 가정하자. (슐리츠가 속한 제품군에 있는 맥주들은 대부분 맛이 비슷하므로 일반인들은 구분하지 못한다는 가정)\n",
    "\n",
    "<img src=\"http://www.beerforum.co.kr/files/attach/images/1554/847/059/754fbaa1b034753f55bb961ca06d97ad.jpg\" width=300>\n",
    "<img src=\"http://dc.koreatimes.com/photos/LosAngeles/20031004/mr.jpg\" width=300>\n",
    "\n",
    "#### A.\t만약 100명의 테스트 참가자 중에서 적어도 40%가 슐리츠를 고르면 슐리츠 사가 만족했을 거라고 가정해보자. (미켈롭을 좋아하는 소비자의 40%가 슐리츠를 선택했다니!!) 슐리츠 사가 만족할 확률은? "
   ]
  },
  {
   "cell_type": "code",
   "execution_count": null,
   "metadata": {},
   "outputs": [],
   "source": []
  },
  {
   "cell_type": "markdown",
   "metadata": {},
   "source": [
    "#### B.\t만약 테스트 참가자가 500명이라면 슐리츠 사가 만족할 확률은?\n"
   ]
  },
  {
   "cell_type": "code",
   "execution_count": null,
   "metadata": {},
   "outputs": [],
   "source": []
  },
  {
   "cell_type": "markdown",
   "metadata": {},
   "source": [
    "#### 3. X를 평균이 24이고 표준편차가 6인 정규분포를 따르는 확률변수라고 하자. X의 값이 다음과 같을 때의 다음의 값을 구하시오. \n",
    "#### A. X가 29와 36사이일 확률<br><br>"
   ]
  },
  {
   "cell_type": "code",
   "execution_count": null,
   "metadata": {},
   "outputs": [],
   "source": []
  },
  {
   "cell_type": "markdown",
   "metadata": {},
   "source": [
    "#### B. X가 22 이하일 확률<br><br>"
   ]
  },
  {
   "cell_type": "code",
   "execution_count": null,
   "metadata": {},
   "outputs": [],
   "source": []
  },
  {
   "cell_type": "markdown",
   "metadata": {},
   "source": [
    "#### C. X가 33 초과일 확률<br><br>"
   ]
  },
  {
   "cell_type": "code",
   "execution_count": null,
   "metadata": {},
   "outputs": [],
   "source": []
  },
  {
   "cell_type": "markdown",
   "metadata": {},
   "source": [
    "#### D. P(X<a)=0.95가 되는 a 값 "
   ]
  },
  {
   "cell_type": "code",
   "execution_count": null,
   "metadata": {},
   "outputs": [],
   "source": []
  },
  {
   "cell_type": "markdown",
   "metadata": {},
   "source": [
    "#### 3. TV로 방송되는 프로미식축구의 평균 작전타임 시간은 정규분포로서 평균이 84초이고 표준편차는 10초이다. 어떤 방송국이 90초의 광고시간을 갖고 있다면, 광고가 끝나기 전에 경기가 다시 시작될 확률은? "
   ]
  },
  {
   "cell_type": "code",
   "execution_count": null,
   "metadata": {},
   "outputs": [],
   "source": []
  },
  {
   "cell_type": "markdown",
   "metadata": {},
   "source": [
    "#### 4. 콜로라도에서 잡히는 송어의 길이는 정규분포를 따르고 평균이 12.5인치이고 표준편차는 1.2인치이다. 송어의 개체 보존을 위해 특정 크기 이하의 송어는 방생하도록 해당 지자체는 규정을 마련하고 있다. 잡히는 송어의 80%의 포획을 허용하고 나머지는 다시 방류하게 하려면, 담당 부서에서 허용하는 최소 송어의 길이는?"
   ]
  },
  {
   "cell_type": "code",
   "execution_count": null,
   "metadata": {},
   "outputs": [],
   "source": []
  }
 ],
 "metadata": {
  "kernelspec": {
   "display_name": "Python 3",
   "language": "python",
   "name": "python3"
  },
  "language_info": {
   "codemirror_mode": {
    "name": "ipython",
    "version": 3
   },
   "file_extension": ".py",
   "mimetype": "text/x-python",
   "name": "python",
   "nbconvert_exporter": "python",
   "pygments_lexer": "ipython3",
   "version": "3.7.7"
  }
 },
 "nbformat": 4,
 "nbformat_minor": 4
}
