{
 "cells": [
  {
   "cell_type": "markdown",
   "metadata": {},
   "source": [
    "# Homework 3\n"
   ]
  },
  {
   "cell_type": "markdown",
   "metadata": {},
   "source": [
    "#### 1. Lecture 3의 중심극한정리 부분에서 지수분포(exponential distribution)을 사용하였다. 지수분포는 아래와 같은 확률밀도함수를 갖는다. \n",
    "<img src=\"https://wikimedia.org/api/rest_v1/media/math/render/svg/5a9fdb86104f54ca275a0c340c25d88afff540ae\">\n",
    "\n",
    "#### Lecture 3에서는 $\\lambda=1$(default; exp(1))를 사용하였고 이 때 지수분포를 따르는 확률변수의 기대값과 분산은 1로 알려져있다. \n",
    "\n",
    "#### (a) 아래의 과정에 따라 표본을 추출하여 저장하시오. \n",
    "- exp(1)에서 100000개의 무작위표본을 추출하여  `pop`의 이름으로 저장하시오. \n",
    "- exp(1)에서 30개의 무작위 표본을 1000번 추출하여 표본평균 1000개를 계산하여 `sample_mean1`으로 저장하시오.\n",
    "- exp(1)에서 100개의 무작위 표본을 1000번 추출하여 표본평균 1000개를 계산하여  `sample_mean2`로 저장하시오"
   ]
  },
  {
   "cell_type": "code",
   "execution_count": 4,
   "metadata": {},
   "outputs": [],
   "source": [
    "# import common\n",
    "import pandas as pd\n",
    "import numpy as np\n",
    "from scipy import stats\n",
    "\n",
    "import seaborn as sns\n",
    "import matplotlib.pylab as plt\n"
   ]
  },
  {
   "cell_type": "code",
   "execution_count": 29,
   "metadata": {},
   "outputs": [],
   "source": [
    "np.random.seed(seed=0)\n"
   ]
  },
  {
   "cell_type": "markdown",
   "metadata": {},
   "source": [
    "#### (b) 위에서 저장한 `pop`, `sample_mean1`, `sample_mean2`의 히스토그램을 그려 저장하고 그 모양을 비교서술하시오. "
   ]
  },
  {
   "cell_type": "code",
   "execution_count": null,
   "metadata": {},
   "outputs": [],
   "source": []
  },
  {
   "cell_type": "markdown",
   "metadata": {},
   "source": [
    "#### (c) 이론적으로 계산했을 때 `pop`, `sample_mean1`, `sample_mean2`의 평균과 분산은 무엇이 될 것이라고 추측하는가?"
   ]
  },
  {
   "cell_type": "code",
   "execution_count": null,
   "metadata": {},
   "outputs": [],
   "source": []
  },
  {
   "cell_type": "markdown",
   "metadata": {},
   "source": [
    "#### (d)  `pop`, `sample_mean1`, `sample_mean2`의 평균과 분산을 계산하여 (c)에서 추측한 값과 가까운 값인지 확인하시오. "
   ]
  },
  {
   "cell_type": "code",
   "execution_count": null,
   "metadata": {},
   "outputs": [],
   "source": []
  },
  {
   "cell_type": "markdown",
   "metadata": {},
   "source": [
    "#### 2. \t개인이 지불하는 자동차 보험료의 연간 평균은 687달러이다. 이 값을 모집단 평균으로 하고 모집단의 표준편차가 230달러이다. 45개의 자동차 보험계약을 생각해보자. 45개 보험료의 평균이 모집단 평균의 +-25달러 이내에 있을 확률은 얼마인가?\n"
   ]
  },
  {
   "cell_type": "code",
   "execution_count": null,
   "metadata": {},
   "outputs": [],
   "source": []
  },
  {
   "cell_type": "markdown",
   "metadata": {},
   "source": [
    "#### 3\\. 한 연구소는 가구의 17%가 식료품점에서 한 주에 10만원보다 많은 돈을 지출한다는 것을 보였다. 모집단에서 800가구를 무작위 표본으로 선정하였다고 가정하자. \n",
    "\n",
    "#### A. 식품점에서 주당 10만원보다 많은 돈을 지출하는 가구의 표본비율이 모집단 비율의 $\\pm 0.02$이내에 있을 확률은 얼마인가? "
   ]
  },
  {
   "cell_type": "code",
   "execution_count": null,
   "metadata": {},
   "outputs": [],
   "source": []
  },
  {
   "cell_type": "markdown",
   "metadata": {},
   "source": [
    "#### B. 1600가구를 표본으로 하여 A 문항에 답하시오. "
   ]
  },
  {
   "cell_type": "code",
   "execution_count": null,
   "metadata": {},
   "outputs": [],
   "source": []
  },
  {
   "cell_type": "markdown",
   "metadata": {},
   "source": [
    "#### 4. 한 조사에 따르면 한국 성인의 38%가 그들의 삶에 만족한다고 답하였다. 이 결과는 현재 모집단인 한국 성인에 대해 사실이라 가정하자. 1000명의 임의 표본에서 그들의 삶이 만족한다는 비율을 $\\hat p$ 라고 하자.  $\\hat p$이 0.40과 0.42 사이에 있을 확률을 계산하라 "
   ]
  },
  {
   "cell_type": "code",
   "execution_count": null,
   "metadata": {},
   "outputs": [],
   "source": []
  }
 ],
 "metadata": {
  "kernelspec": {
   "display_name": "Python_sfds",
   "language": "python",
   "name": "python3"
  },
  "language_info": {
   "codemirror_mode": {
    "name": "ipython",
    "version": 3
   },
   "file_extension": ".py",
   "mimetype": "text/x-python",
   "name": "python",
   "nbconvert_exporter": "python",
   "pygments_lexer": "ipython3",
   "version": "3.9.1"
  }
 },
 "nbformat": 4,
 "nbformat_minor": 4
}
