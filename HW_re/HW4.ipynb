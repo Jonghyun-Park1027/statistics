{
 "cells": [
  {
   "cell_type": "markdown",
   "metadata": {},
   "source": [
    "# Homework 4\n"
   ]
  },
  {
   "cell_type": "code",
   "execution_count": 1,
   "metadata": {},
   "outputs": [],
   "source": [
    "# import common\n",
    "import pandas as pd\n",
    "import numpy as np\n",
    "from scipy import stats\n",
    "\n",
    "import seaborn as sns\n",
    "import matplotlib.pylab as plt\n",
    "from statsmodels.stats import weightstats\n",
    "from statsmodels.stats import proportion"
   ]
  },
  {
   "cell_type": "markdown",
   "metadata": {},
   "source": [
    "#### 1. n=54를 가지는 무작위표본의 평균은 22.5, 표준편차는 4.4이다. \n",
    "#### (a) 모집단 평균에 대한 90% 신뢰구간을 구하시오. "
   ]
  },
  {
   "cell_type": "code",
   "execution_count": null,
   "metadata": {},
   "outputs": [],
   "source": []
  },
  {
   "cell_type": "markdown",
   "metadata": {},
   "source": [
    "#### (b) 모집단 평균에 대한 95% 신뢰구간을 구하시오. "
   ]
  },
  {
   "cell_type": "code",
   "execution_count": null,
   "metadata": {},
   "outputs": [],
   "source": []
  },
  {
   "cell_type": "markdown",
   "metadata": {},
   "source": [
    "#### (c) n=100을 가지는 무작위 표본을 선택했을 때 평균과 표준편차가 위의 경우와 동일했다. 이 데이터에 대한 모집단 평균에 대한 95% 신뢰구간을 구하시오. "
   ]
  },
  {
   "cell_type": "code",
   "execution_count": null,
   "metadata": {},
   "outputs": [],
   "source": []
  },
  {
   "cell_type": "markdown",
   "metadata": {},
   "source": [
    "#### 2. `airbnb.csv` 데이터셋을 사용하여 샌프란시스코 전체 리스팅의 `reviews_per_month`의 평균을 95% 신뢰구간으로 추정하고 해석하시오. "
   ]
  },
  {
   "cell_type": "code",
   "execution_count": 14,
   "metadata": {},
   "outputs": [],
   "source": [
    "data = pd.read_csv(\"../../data/airbnb.csv\")"
   ]
  },
  {
   "cell_type": "code",
   "execution_count": null,
   "metadata": {},
   "outputs": [],
   "source": []
  },
  {
   "cell_type": "markdown",
   "metadata": {},
   "source": [
    "#### 3. 과자에 치즈를 넣는 기계가 있는데 주입하는 치즈의 양을 조절할 수 있다. 단순임의로 추출된 30개의 표본에 주입된 평균 치즈의 양은 $\\bar x = 3.5$그램이었다. 이 과정의 표준편차가 $\\sigma=0.25$그램으로 알려져 있다면, 기계가 주입하는 치즈의 평균 양 $\\mu$에 대해 95%신뢰구간을 구하여라. "
   ]
  },
  {
   "cell_type": "code",
   "execution_count": null,
   "metadata": {},
   "outputs": [],
   "source": []
  },
  {
   "cell_type": "markdown",
   "metadata": {},
   "source": [
    "#### 4. 다음의 상황에서 알맞은 귀무가설과 대립가설을 설정하고 제1종 오류를 범한 결과와 제 2종오류를 범한 결과에 대해 논하시오.\n",
    "#### (a) 자동차 판매점의 관리자는 판매량을 증가시키기 위하여 새로운 보너스 제도 도입을 고려하고 있다. 최근의 월간 평균 판매량은 14대 정도이다. 새로운 보너스 제도가 판매량을 늘리는데 기여하는지 파악하기 위해 판매원 중 일부를 표본으로 선정하여 새로운 보너스 제도 하에서 한 달간의 판매량을 측정하였다. "
   ]
  },
  {
   "cell_type": "code",
   "execution_count": null,
   "metadata": {},
   "outputs": [],
   "source": []
  },
  {
   "cell_type": "markdown",
   "metadata": {},
   "source": [
    "#### (b) 종이 포장상자에 32온스의 세탁세제를 담도록 생산라인이 설계되어 공정이 운영되고 있다. 일정 주기로 포장상자를 표본으로 선정하여 규격 이외의 무게로 세제가 담겨지고 있는지 파악하고자 한다. "
   ]
  },
  {
   "cell_type": "code",
   "execution_count": null,
   "metadata": {},
   "outputs": [],
   "source": []
  },
  {
   "cell_type": "markdown",
   "metadata": {},
   "source": [
    "#### (c) 외부인이 건물내부로 무단침입하거나 해커가 컴퓨터망을 공격할 경우 이를 적절하게 식별하는 시스템을 침입탐지시스템이라고 한다.  이 시스템에서의 type 1 error와 type 2 error의 상황을 서술하고 (1) 사용자 편의성을 중요시하는 서비스업체/소매업체의 관점과 (2) 보안을 보다 중요시 하는 군사조직의 관점에서 어떠한 오류를 낮추는 것이 중요한지 판단하시오. "
   ]
  },
  {
   "cell_type": "markdown",
   "metadata": {},
   "source": [
    "#### 5. 대한민국의 50원 짜리 동전의 무게는 4.16 그램으로 정해져 있다. 15개의 표본 동전을 선택하여 측정한 결과 평균 무게는 4.02 그램이고 표준편차는 0.040그램이다. (표본 무게의 분포가 대칭의 형태라고 가정하자.) \n",
    "\n",
    "#### (a) 평균무게가 정해진 기준과 같다고 5% 유의수준에서 말할 수 있는가? 가설검정 과정을 통해 답하시오."
   ]
  },
  {
   "cell_type": "code",
   "execution_count": null,
   "metadata": {},
   "outputs": [],
   "source": []
  },
  {
   "cell_type": "markdown",
   "metadata": {},
   "source": [
    "#### (b) 평균 무게에 대한 95% 신뢰구간을 계산하시오. 해당 구간에 4.16이 포함되는가? 위의 가설검정 결과와 일치하는가? \n"
   ]
  },
  {
   "cell_type": "code",
   "execution_count": null,
   "metadata": {},
   "outputs": [],
   "source": []
  },
  {
   "cell_type": "markdown",
   "metadata": {},
   "source": [
    "#### 6. Airbnb의 한 관리자는 시설의 월평균 리뷰 수가 1.8개라고 주장하고 있다. 이 주장이 옳은 지 확인하기 위해  `airbnb.csv` 데이터셋의 `reviews_per_month`을 사용하여 가설검정을 진행하시오. "
   ]
  },
  {
   "cell_type": "code",
   "execution_count": null,
   "metadata": {},
   "outputs": [],
   "source": []
  },
  {
   "cell_type": "markdown",
   "metadata": {},
   "source": [
    "#### 7. 비행기에서 제공하는 생수가 안전한지 확인하기 위해 환경보호국에서 8월에 조사한 결과 158개의 무작위 비행기 중에서 20개 비행기(12.7%)에서 생수오염원이 발견되었다. 유의수준 0.05하에서 판단하였을 때 전체 비행기의 10% 이상에서 문제가 있는 생수를 제공하고 있다는 증거가 될 수 있는가? 가설검정 절차를 통해 답하시오."
   ]
  },
  {
   "cell_type": "code",
   "execution_count": null,
   "metadata": {},
   "outputs": [],
   "source": []
  }
 ],
 "metadata": {
  "kernelspec": {
   "display_name": "Python_sfds",
   "language": "python",
   "name": "python3"
  },
  "language_info": {
   "codemirror_mode": {
    "name": "ipython",
    "version": 3
   },
   "file_extension": ".py",
   "mimetype": "text/x-python",
   "name": "python",
   "nbconvert_exporter": "python",
   "pygments_lexer": "ipython3",
   "version": "3.9.1"
  }
 },
 "nbformat": 4,
 "nbformat_minor": 4
}
