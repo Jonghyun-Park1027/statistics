{
 "cells": [
  {
   "cell_type": "markdown",
   "metadata": {},
   "source": [
    "# Homework 1\n",
    "\n",
    "`airbnb.csv` 데이터셋은 airbnb에 등록된 샌프란시스코 지역의 listing 데이터의 일부이다. \n",
    "\n",
    "- 'id': listing id\n",
    "- 'room_type': 집 또는 방의 형태 (entire home/apt, private room, shared room)\n",
    "- 'number_of_reviews': 총 리뷰 수\n",
    "- 'review_scores_rating': 전체 리뷰 점수 \n",
    "- 'review_scores_accuracy', 'review_scores_cleanliness','review_scores_checkin', 'review_scores_communication','review_scores_location', 'review_scores_value': 각 부분의 리뷰 점수\n",
    "- 'reviews_per_month': 월 평균 리뷰 수 \n",
    "- 'Downtown': Downtown까지의 거리 \n",
    "- 'PerCapitaIncome': 해당 지역의 소득수준\n",
    "- 'most_freq_aspect': listing description에서 가장 많이 나타난 주제\n",
    "\n",
    "아래의 질문에 답하기 위해 적절한 통계량/그래프를 출력하고 서술하시오. 완성된 답안은 **html** 파일로 다운받아 제출하시오. (File>Download as>HTML)\n"
   ]
  },
  {
   "cell_type": "code",
   "execution_count": 5,
   "metadata": {},
   "outputs": [],
   "source": [
    "import pandas as pd\n",
    "import pandas as pd\n",
    "import numpy as np\n",
    "from scipy.stats import trim_mean\n",
    "from statsmodels import robust\n",
    "\n",
    "import seaborn as sns\n",
    "import matplotlib.pylab as plt\n",
    "data = pd.read_csv('../data/airbnb.csv')"
   ]
  },
  {
   "cell_type": "markdown",
   "metadata": {},
   "source": [
    "#### 1. 데이터가 포함한 다음 변수의 종류를 구분하시오.\n",
    "- id\n",
    "- room_type\n",
    "- number_of_reviews\n",
    "- Downtown\n",
    "- most_freq_aspect"
   ]
  },
  {
   "cell_type": "code",
   "execution_count": 6,
   "outputs": [
    {
     "data": {
      "text/plain": "            id        room_type  number_of_reviews  review_scores_rating  \\\n0          958  Entire home/apt              222.0                  97.0   \n1         3850     Private room              167.0                  95.0   \n2         5858  Entire home/apt              111.0                  98.0   \n3         7918     Private room               18.0                  86.0   \n4         8142     Private room                8.0                  93.0   \n...        ...              ...                ...                   ...   \n6100  39413362     Private room                1.0                   NaN   \n6101  39652916     Private room                1.0                 100.0   \n6102  39654300  Entire home/apt                1.0                 100.0   \n6103  39704725     Private room                1.0                 100.0   \n6104  29009564  Entire home/apt                3.0                 100.0   \n\n      review_scores_accuracy  review_scores_cleanliness  \\\n0                       10.0                       10.0   \n1                       10.0                       10.0   \n2                       10.0                       10.0   \n3                        8.0                        8.0   \n4                        9.0                        9.0   \n...                      ...                        ...   \n6100                     NaN                        NaN   \n6101                    10.0                       10.0   \n6102                    10.0                       10.0   \n6103                    10.0                       10.0   \n6104                     9.0                       10.0   \n\n      review_scores_checkin  review_scores_communication  \\\n0                      10.0                         10.0   \n1                      10.0                         10.0   \n2                      10.0                         10.0   \n3                       9.0                          9.0   \n4                      10.0                         10.0   \n...                     ...                          ...   \n6100                    NaN                          NaN   \n6101                   10.0                         10.0   \n6102                   10.0                         10.0   \n6103                   10.0                         10.0   \n6104                    8.0                         10.0   \n\n      review_scores_location  review_scores_value  reviews_per_month  \\\n0                       10.0                  9.0               1.77   \n1                       10.0                 10.0               1.33   \n2                       10.0                  9.0               0.87   \n3                        9.0                  8.0               0.15   \n4                        9.0                  9.0               0.13   \n...                      ...                  ...                ...   \n6100                     NaN                  NaN               1.00   \n6101                    10.0                 10.0               1.00   \n6102                    10.0                 10.0               1.00   \n6103                    10.0                 10.0               1.00   \n6104                    10.0                 10.0               0.23   \n\n         Downtown  PerCapitaIncome most_freq_aspect  \n0     4068.132073           110777        int_style  \n1     6792.053605            93008             comm  \n2     5666.128342            69778           nature  \n3     5573.866947            99041             comm  \n4     5632.882874            99041             comm  \n...           ...              ...              ...  \n6100  7703.704979            75119             bldg  \n6101  5506.885308            61740             bldg  \n6102  5354.254655            61740             nbhd  \n6103  7646.091834            45475             bldg  \n6104   524.506491            59254             comm  \n\n[6105 rows x 14 columns]",
      "text/html": "<div>\n<style scoped>\n    .dataframe tbody tr th:only-of-type {\n        vertical-align: middle;\n    }\n\n    .dataframe tbody tr th {\n        vertical-align: top;\n    }\n\n    .dataframe thead th {\n        text-align: right;\n    }\n</style>\n<table border=\"1\" class=\"dataframe\">\n  <thead>\n    <tr style=\"text-align: right;\">\n      <th></th>\n      <th>id</th>\n      <th>room_type</th>\n      <th>number_of_reviews</th>\n      <th>review_scores_rating</th>\n      <th>review_scores_accuracy</th>\n      <th>review_scores_cleanliness</th>\n      <th>review_scores_checkin</th>\n      <th>review_scores_communication</th>\n      <th>review_scores_location</th>\n      <th>review_scores_value</th>\n      <th>reviews_per_month</th>\n      <th>Downtown</th>\n      <th>PerCapitaIncome</th>\n      <th>most_freq_aspect</th>\n    </tr>\n  </thead>\n  <tbody>\n    <tr>\n      <th>0</th>\n      <td>958</td>\n      <td>Entire home/apt</td>\n      <td>222.0</td>\n      <td>97.0</td>\n      <td>10.0</td>\n      <td>10.0</td>\n      <td>10.0</td>\n      <td>10.0</td>\n      <td>10.0</td>\n      <td>9.0</td>\n      <td>1.77</td>\n      <td>4068.132073</td>\n      <td>110777</td>\n      <td>int_style</td>\n    </tr>\n    <tr>\n      <th>1</th>\n      <td>3850</td>\n      <td>Private room</td>\n      <td>167.0</td>\n      <td>95.0</td>\n      <td>10.0</td>\n      <td>10.0</td>\n      <td>10.0</td>\n      <td>10.0</td>\n      <td>10.0</td>\n      <td>10.0</td>\n      <td>1.33</td>\n      <td>6792.053605</td>\n      <td>93008</td>\n      <td>comm</td>\n    </tr>\n    <tr>\n      <th>2</th>\n      <td>5858</td>\n      <td>Entire home/apt</td>\n      <td>111.0</td>\n      <td>98.0</td>\n      <td>10.0</td>\n      <td>10.0</td>\n      <td>10.0</td>\n      <td>10.0</td>\n      <td>10.0</td>\n      <td>9.0</td>\n      <td>0.87</td>\n      <td>5666.128342</td>\n      <td>69778</td>\n      <td>nature</td>\n    </tr>\n    <tr>\n      <th>3</th>\n      <td>7918</td>\n      <td>Private room</td>\n      <td>18.0</td>\n      <td>86.0</td>\n      <td>8.0</td>\n      <td>8.0</td>\n      <td>9.0</td>\n      <td>9.0</td>\n      <td>9.0</td>\n      <td>8.0</td>\n      <td>0.15</td>\n      <td>5573.866947</td>\n      <td>99041</td>\n      <td>comm</td>\n    </tr>\n    <tr>\n      <th>4</th>\n      <td>8142</td>\n      <td>Private room</td>\n      <td>8.0</td>\n      <td>93.0</td>\n      <td>9.0</td>\n      <td>9.0</td>\n      <td>10.0</td>\n      <td>10.0</td>\n      <td>9.0</td>\n      <td>9.0</td>\n      <td>0.13</td>\n      <td>5632.882874</td>\n      <td>99041</td>\n      <td>comm</td>\n    </tr>\n    <tr>\n      <th>...</th>\n      <td>...</td>\n      <td>...</td>\n      <td>...</td>\n      <td>...</td>\n      <td>...</td>\n      <td>...</td>\n      <td>...</td>\n      <td>...</td>\n      <td>...</td>\n      <td>...</td>\n      <td>...</td>\n      <td>...</td>\n      <td>...</td>\n      <td>...</td>\n    </tr>\n    <tr>\n      <th>6100</th>\n      <td>39413362</td>\n      <td>Private room</td>\n      <td>1.0</td>\n      <td>NaN</td>\n      <td>NaN</td>\n      <td>NaN</td>\n      <td>NaN</td>\n      <td>NaN</td>\n      <td>NaN</td>\n      <td>NaN</td>\n      <td>1.00</td>\n      <td>7703.704979</td>\n      <td>75119</td>\n      <td>bldg</td>\n    </tr>\n    <tr>\n      <th>6101</th>\n      <td>39652916</td>\n      <td>Private room</td>\n      <td>1.0</td>\n      <td>100.0</td>\n      <td>10.0</td>\n      <td>10.0</td>\n      <td>10.0</td>\n      <td>10.0</td>\n      <td>10.0</td>\n      <td>10.0</td>\n      <td>1.00</td>\n      <td>5506.885308</td>\n      <td>61740</td>\n      <td>bldg</td>\n    </tr>\n    <tr>\n      <th>6102</th>\n      <td>39654300</td>\n      <td>Entire home/apt</td>\n      <td>1.0</td>\n      <td>100.0</td>\n      <td>10.0</td>\n      <td>10.0</td>\n      <td>10.0</td>\n      <td>10.0</td>\n      <td>10.0</td>\n      <td>10.0</td>\n      <td>1.00</td>\n      <td>5354.254655</td>\n      <td>61740</td>\n      <td>nbhd</td>\n    </tr>\n    <tr>\n      <th>6103</th>\n      <td>39704725</td>\n      <td>Private room</td>\n      <td>1.0</td>\n      <td>100.0</td>\n      <td>10.0</td>\n      <td>10.0</td>\n      <td>10.0</td>\n      <td>10.0</td>\n      <td>10.0</td>\n      <td>10.0</td>\n      <td>1.00</td>\n      <td>7646.091834</td>\n      <td>45475</td>\n      <td>bldg</td>\n    </tr>\n    <tr>\n      <th>6104</th>\n      <td>29009564</td>\n      <td>Entire home/apt</td>\n      <td>3.0</td>\n      <td>100.0</td>\n      <td>9.0</td>\n      <td>10.0</td>\n      <td>8.0</td>\n      <td>10.0</td>\n      <td>10.0</td>\n      <td>10.0</td>\n      <td>0.23</td>\n      <td>524.506491</td>\n      <td>59254</td>\n      <td>comm</td>\n    </tr>\n  </tbody>\n</table>\n<p>6105 rows × 14 columns</p>\n</div>"
     },
     "execution_count": 6,
     "metadata": {},
     "output_type": "execute_result"
    }
   ],
   "source": [
    "data"
   ],
   "metadata": {
    "collapsed": false
   }
  },
  {
   "cell_type": "code",
   "execution_count": 8,
   "outputs": [
    {
     "data": {
      "text/plain": "                 id  number_of_reviews  review_scores_rating  \\\ncount  6.105000e+03        6105.000000           6070.000000   \nmean   1.717315e+07          59.095659             95.634926   \nstd    1.161224e+07          86.412078              7.099776   \nmin    9.580000e+02           1.000000             20.000000   \n25%    6.348742e+06           5.000000             95.000000   \n50%    1.748289e+07          22.000000             98.000000   \n75%    2.664325e+07          78.000000            100.000000   \nmax    3.970472e+07         763.000000            100.000000   \n\n       review_scores_accuracy  review_scores_cleanliness  \\\ncount             6065.000000                6065.000000   \nmean                 9.775763                   9.620115   \nstd                  0.658945                   0.794393   \nmin                  2.000000                   2.000000   \n25%                 10.000000                   9.000000   \n50%                 10.000000                  10.000000   \n75%                 10.000000                  10.000000   \nmax                 10.000000                  10.000000   \n\n       review_scores_checkin  review_scores_communication  \\\ncount            6064.000000                  6066.000000   \nmean                9.860488                     9.832344   \nstd                 0.548486                     0.614270   \nmin                 2.000000                     2.000000   \n25%                10.000000                    10.000000   \n50%                10.000000                    10.000000   \n75%                10.000000                    10.000000   \nmax                10.000000                    10.000000   \n\n       review_scores_location  review_scores_value  reviews_per_month  \\\ncount             6064.000000          6064.000000        6105.000000   \nmean                 9.695086             9.395778           1.888251   \nstd                  0.700982             0.825550           2.089904   \nmin                  2.000000             2.000000           0.010000   \n25%                 10.000000             9.000000           0.310000   \n50%                 10.000000            10.000000           1.030000   \n75%                 10.000000            10.000000           2.870000   \nmax                 10.000000            10.000000          18.000000   \n\n           Downtown  PerCapitaIncome  \ncount   6105.000000      6105.000000  \nmean    4946.973042     72815.016544  \nstd     2647.897476     27930.764771  \nmin      199.766778      9418.000000  \n25%     3020.831703     51806.000000  \n50%     4685.155845     71145.000000  \n75%     6792.053605     93008.000000  \nmax    11573.161316    167720.000000  ",
      "text/html": "<div>\n<style scoped>\n    .dataframe tbody tr th:only-of-type {\n        vertical-align: middle;\n    }\n\n    .dataframe tbody tr th {\n        vertical-align: top;\n    }\n\n    .dataframe thead th {\n        text-align: right;\n    }\n</style>\n<table border=\"1\" class=\"dataframe\">\n  <thead>\n    <tr style=\"text-align: right;\">\n      <th></th>\n      <th>id</th>\n      <th>number_of_reviews</th>\n      <th>review_scores_rating</th>\n      <th>review_scores_accuracy</th>\n      <th>review_scores_cleanliness</th>\n      <th>review_scores_checkin</th>\n      <th>review_scores_communication</th>\n      <th>review_scores_location</th>\n      <th>review_scores_value</th>\n      <th>reviews_per_month</th>\n      <th>Downtown</th>\n      <th>PerCapitaIncome</th>\n    </tr>\n  </thead>\n  <tbody>\n    <tr>\n      <th>count</th>\n      <td>6.105000e+03</td>\n      <td>6105.000000</td>\n      <td>6070.000000</td>\n      <td>6065.000000</td>\n      <td>6065.000000</td>\n      <td>6064.000000</td>\n      <td>6066.000000</td>\n      <td>6064.000000</td>\n      <td>6064.000000</td>\n      <td>6105.000000</td>\n      <td>6105.000000</td>\n      <td>6105.000000</td>\n    </tr>\n    <tr>\n      <th>mean</th>\n      <td>1.717315e+07</td>\n      <td>59.095659</td>\n      <td>95.634926</td>\n      <td>9.775763</td>\n      <td>9.620115</td>\n      <td>9.860488</td>\n      <td>9.832344</td>\n      <td>9.695086</td>\n      <td>9.395778</td>\n      <td>1.888251</td>\n      <td>4946.973042</td>\n      <td>72815.016544</td>\n    </tr>\n    <tr>\n      <th>std</th>\n      <td>1.161224e+07</td>\n      <td>86.412078</td>\n      <td>7.099776</td>\n      <td>0.658945</td>\n      <td>0.794393</td>\n      <td>0.548486</td>\n      <td>0.614270</td>\n      <td>0.700982</td>\n      <td>0.825550</td>\n      <td>2.089904</td>\n      <td>2647.897476</td>\n      <td>27930.764771</td>\n    </tr>\n    <tr>\n      <th>min</th>\n      <td>9.580000e+02</td>\n      <td>1.000000</td>\n      <td>20.000000</td>\n      <td>2.000000</td>\n      <td>2.000000</td>\n      <td>2.000000</td>\n      <td>2.000000</td>\n      <td>2.000000</td>\n      <td>2.000000</td>\n      <td>0.010000</td>\n      <td>199.766778</td>\n      <td>9418.000000</td>\n    </tr>\n    <tr>\n      <th>25%</th>\n      <td>6.348742e+06</td>\n      <td>5.000000</td>\n      <td>95.000000</td>\n      <td>10.000000</td>\n      <td>9.000000</td>\n      <td>10.000000</td>\n      <td>10.000000</td>\n      <td>10.000000</td>\n      <td>9.000000</td>\n      <td>0.310000</td>\n      <td>3020.831703</td>\n      <td>51806.000000</td>\n    </tr>\n    <tr>\n      <th>50%</th>\n      <td>1.748289e+07</td>\n      <td>22.000000</td>\n      <td>98.000000</td>\n      <td>10.000000</td>\n      <td>10.000000</td>\n      <td>10.000000</td>\n      <td>10.000000</td>\n      <td>10.000000</td>\n      <td>10.000000</td>\n      <td>1.030000</td>\n      <td>4685.155845</td>\n      <td>71145.000000</td>\n    </tr>\n    <tr>\n      <th>75%</th>\n      <td>2.664325e+07</td>\n      <td>78.000000</td>\n      <td>100.000000</td>\n      <td>10.000000</td>\n      <td>10.000000</td>\n      <td>10.000000</td>\n      <td>10.000000</td>\n      <td>10.000000</td>\n      <td>10.000000</td>\n      <td>2.870000</td>\n      <td>6792.053605</td>\n      <td>93008.000000</td>\n    </tr>\n    <tr>\n      <th>max</th>\n      <td>3.970472e+07</td>\n      <td>763.000000</td>\n      <td>100.000000</td>\n      <td>10.000000</td>\n      <td>10.000000</td>\n      <td>10.000000</td>\n      <td>10.000000</td>\n      <td>10.000000</td>\n      <td>10.000000</td>\n      <td>18.000000</td>\n      <td>11573.161316</td>\n      <td>167720.000000</td>\n    </tr>\n  </tbody>\n</table>\n</div>"
     },
     "execution_count": 8,
     "metadata": {},
     "output_type": "execute_result"
    }
   ],
   "source": [
    "data.describe()"
   ],
   "metadata": {
    "collapsed": false
   }
  },
  {
   "cell_type": "code",
   "execution_count": 10,
   "outputs": [],
   "source": [
    "id = data.id\n",
    "room_type = data.room_type\n",
    "reviews = data.number_of_reviews\n",
    "downtown = data.Downtown\n",
    "freq = data.most_freq_aspect"
   ],
   "metadata": {
    "collapsed": false
   }
  },
  {
   "cell_type": "code",
   "execution_count": 11,
   "outputs": [
    {
     "data": {
      "text/plain": "0       int_style\n1            comm\n2          nature\n3            comm\n4            comm\n          ...    \n6100         bldg\n6101         bldg\n6102         nbhd\n6103         bldg\n6104         comm\nName: most_freq_aspect, Length: 6105, dtype: object"
     },
     "execution_count": 11,
     "metadata": {},
     "output_type": "execute_result"
    }
   ],
   "source": [
    "freq"
   ],
   "metadata": {
    "collapsed": false
   }
  },
  {
   "cell_type": "markdown",
   "metadata": {},
   "source": [
    "#### 2. `reviews_per_month`의 평균, 중위수를 계산하고 비교하여 분포의 모양을 추측해보시오. "
   ]
  },
  {
   "cell_type": "code",
   "execution_count": 12,
   "metadata": {},
   "outputs": [
    {
     "data": {
      "text/plain": "count    6105.000000\nmean       59.095659\nstd        86.412078\nmin         1.000000\n25%         5.000000\n50%        22.000000\n75%        78.000000\nmax       763.000000\nName: number_of_reviews, dtype: float64"
     },
     "execution_count": 12,
     "metadata": {},
     "output_type": "execute_result"
    }
   ],
   "source": [
    "reviews.describe()\n"
   ]
  },
  {
   "cell_type": "markdown",
   "metadata": {},
   "source": [
    "#### 3. `reviews_per_month`의 히스토그램을 통해 위에서 추측한 사실이 맞는지 확인해보시오. "
   ]
  },
  {
   "cell_type": "code",
   "execution_count": null,
   "metadata": {},
   "outputs": [],
   "source": []
  },
  {
   "cell_type": "markdown",
   "metadata": {},
   "source": [
    "#### 4. `reviews_per_month`의 평균과 중위수를 각 `room_type`별로 계산하여 비교하시오."
   ]
  },
  {
   "cell_type": "code",
   "execution_count": null,
   "metadata": {},
   "outputs": [],
   "source": []
  },
  {
   "cell_type": "markdown",
   "metadata": {},
   "source": [
    "#### 5. `reviews_per_month`의 Boxplot을  `room_type`별로 그려서 비교하시오."
   ]
  },
  {
   "cell_type": "code",
   "execution_count": null,
   "metadata": {},
   "outputs": [],
   "source": []
  },
  {
   "cell_type": "markdown",
   "metadata": {},
   "source": [
    "#### 6. `most_freq_aspect`의 도수분포표를 출력하고 이를 활용해 bar plot을 그려서 어떤 aspect가 가장 빈번하게 나타났는지 확인하시오."
   ]
  },
  {
   "cell_type": "code",
   "execution_count": null,
   "metadata": {},
   "outputs": [],
   "source": []
  },
  {
   "cell_type": "markdown",
   "metadata": {},
   "source": [
    "#### 7. `room_type`과 `most_freq_aspect`의 mosaic plot을 통해 room type에 따라 자주 나타나는 aspect의 특징이 다른지 비교하시오."
   ]
  },
  {
   "cell_type": "code",
   "execution_count": null,
   "metadata": {},
   "outputs": [],
   "source": []
  },
  {
   "cell_type": "markdown",
   "metadata": {},
   "source": [
    "#### 8. 7개의 review_scores 변수들과 `Downtown`, `PerCapitaIncome`, `reviews_per_month` 변수와의 상관계수 행렬과 그것의 heatmap을 통해 변수들 간의 상관관계를 관찰하고 서술하시오."
   ]
  },
  {
   "cell_type": "code",
   "execution_count": null,
   "metadata": {},
   "outputs": [],
   "source": []
  }
 ],
 "metadata": {
  "kernelspec": {
   "display_name": "Python 3",
   "language": "python",
   "name": "python3"
  },
  "language_info": {
   "codemirror_mode": {
    "name": "ipython",
    "version": 3
   },
   "file_extension": ".py",
   "mimetype": "text/x-python",
   "name": "python",
   "nbconvert_exporter": "python",
   "pygments_lexer": "ipython3",
   "version": "3.7.7"
  }
 },
 "nbformat": 4,
 "nbformat_minor": 4
}
