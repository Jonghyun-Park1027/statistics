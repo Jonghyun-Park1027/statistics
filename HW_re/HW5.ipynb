{
 "cells": [
  {
   "cell_type": "markdown",
   "metadata": {},
   "source": [
    "# Homework 5\n",
    "\n"
   ]
  },
  {
   "cell_type": "code",
   "execution_count": 2,
   "metadata": {},
   "outputs": [],
   "source": [
    "# import common\n",
    "import pandas as pd\n",
    "import numpy as np\n",
    "from scipy import stats\n",
    "\n",
    "import seaborn as sns\n",
    "import matplotlib.pylab as plt\n",
    "from statsmodels.stats import weightstats\n",
    "from statsmodels.stats import proportion"
   ]
  },
  {
   "cell_type": "markdown",
   "metadata": {},
   "source": [
    "#### 1. Par사는 골프용품을 생산하는 대기업이다. 기존의 제품에 비해 신제품이 내구성을 향상시키면서 손색없는 비거리를 보일 수 있는 골프공의 생산에 관심이 있다. 두 제품 간의 비거리를 비교하기 위해서 각각 40개의 골프공을 추출하여 비거리를 측정하였다. 비거리의 측정 결과는 golf.csv에 수록되어 있다. \n",
    "\n",
    "#### (a) 기존 제품과 신제품 간의 비거리를 비교하는데 활용할 수 있는 가설을 제시하시오."
   ]
  },
  {
   "cell_type": "code",
   "execution_count": null,
   "metadata": {},
   "outputs": [],
   "source": []
  },
  {
   "cell_type": "markdown",
   "metadata": {},
   "source": [
    "#### (b) 가설검정을 수행할 수 있도록 자료를 분석하시오. P값은 얼마이며 이 결과에 대하여 Par사에 어떤 자문을 할 수 있겠는가?"
   ]
  },
  {
   "cell_type": "code",
   "execution_count": null,
   "metadata": {},
   "outputs": [],
   "source": []
  },
  {
   "cell_type": "markdown",
   "metadata": {},
   "source": [
    "#### (c) 각 모델의 모집단 평균에 대한 95% 신뢰구간은 얼마인가? 두 신뢰구간이 겹치는가? 위의 가설검정 결과와 비교하여 서술하시오."
   ]
  },
  {
   "cell_type": "code",
   "execution_count": null,
   "metadata": {},
   "outputs": [],
   "source": []
  },
  {
   "cell_type": "markdown",
   "metadata": {},
   "source": [
    "#### 2. 고혈압 환자 120명을 대상으로 치료 전후의 혈압이 blood_pressure.csv에 저장되어 있다. 해당 치료가 효과가 있는지 (즉, 치료 후의 혈압이 감소했는지) 가설검정 절차를 통해 답하시오. "
   ]
  },
  {
   "cell_type": "code",
   "execution_count": null,
   "metadata": {},
   "outputs": [],
   "source": []
  },
  {
   "cell_type": "markdown",
   "metadata": {},
   "source": [
    "#### 3.\t시카고 O’Hare 공항과 애틀란타의 Hartsfield-Jackson공항은 미국에서 가장 번잡한 공항들 중에 하나이다. 이렇게 붐비는 관계로 종종 도착과 이륙 지연이 발생한다. 예정보다 15분 지체되면 지연으로 고려된다. 시카고 O’Hare공항은 지난 달 900편 중 252편이 이륙지연되었고 애틀란타의 Hartsfield-Jackson공항은 1200편 중 312편이 이륙지연 되었다. 두 공항의 출발지연에 대한 모집단 비율의 차이가 있는지 판단하기 위해 가설검정을 진행하시오."
   ]
  },
  {
   "cell_type": "code",
   "execution_count": null,
   "metadata": {},
   "outputs": [],
   "source": []
  },
  {
   "cell_type": "markdown",
   "metadata": {},
   "source": [
    "#### 4. 올해 초 13주 동안 토요일 저녁 뉴스의 시청률이 MBC방송은 29%, KBS방송은 28%, SBS 방송은25%, 기타 방송사가 18%로 기록되었다. 토요일 저녁 방송 편성이 변경되고 난 다음에 300가구를 선정하여 시청률을 조사한 결과에 따르면 MBC 95가구, KBS 70가구, SBS 89가구, 기타 방송이 46가구를 기록하였다. 유의수준 0.05 하에서 시청률에 변경이 있었다고 할 수 있는지 통계적 판단을 하시오."
   ]
  },
  {
   "cell_type": "code",
   "execution_count": null,
   "metadata": {},
   "outputs": [],
   "source": []
  }
 ],
 "metadata": {
  "kernelspec": {
   "display_name": "Python 3",
   "language": "python",
   "name": "python3"
  },
  "language_info": {
   "codemirror_mode": {
    "name": "ipython",
    "version": 3
   },
   "file_extension": ".py",
   "mimetype": "text/x-python",
   "name": "python",
   "nbconvert_exporter": "python",
   "pygments_lexer": "ipython3",
   "version": "3.7.7"
  }
 },
 "nbformat": 4,
 "nbformat_minor": 4
}
