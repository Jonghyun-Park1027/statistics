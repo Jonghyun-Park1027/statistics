{
 "cells": [
  {
   "cell_type": "markdown",
   "metadata": {},
   "source": [
    "# Homework 4\n"
   ]
  },
  {
   "cell_type": "code",
   "execution_count": 2,
   "metadata": {},
   "outputs": [],
   "source": [
    "# import common\n",
    "import pandas as pd\n",
    "import numpy as np\n",
    "from scipy import stats\n",
    "\n",
    "import seaborn as sns\n",
    "import matplotlib.pylab as plt\n",
    "from statsmodels.stats import weightstats\n",
    "from statsmodels.stats import proportion"
   ]
  },
  {
   "cell_type": "markdown",
   "metadata": {},
   "source": [
    "#### 1. n=54를 가지는 무작위표본의 평균은 22.5, 표준편차는 4.4이다. \n",
    "#### (a) 모집단 평균에 대한 90% 신뢰구간을 구하시오. "
   ]
  },
  {
   "cell_type": "code",
   "execution_count": 5,
   "metadata": {},
   "outputs": [
    {
     "data": {
      "text/plain": "0.5987641593469991"
     },
     "execution_count": 5,
     "metadata": {},
     "output_type": "execute_result"
    }
   ],
   "source": [
    "n = 54\n",
    "mean = 22.5\n",
    "std = 4.4\n",
    "# 표준오차 구하기\n",
    "standard_error = std / (n ** 0.5)\n",
    "standard_error"
   ]
  },
  {
   "cell_type": "code",
   "execution_count": 8,
   "outputs": [],
   "source": [
    "# 타겟 신뢰수준을 토대로 t값 계산하기\n",
    "t_value = stats.t.ppf((1+0.9)/2, n-1)"
   ],
   "metadata": {
    "collapsed": false
   }
  },
  {
   "cell_type": "code",
   "execution_count": 9,
   "outputs": [
    {
     "data": {
      "text/plain": "21.497599199164924"
     },
     "execution_count": 9,
     "metadata": {},
     "output_type": "execute_result"
    }
   ],
   "source": [
    "low = mean - t_value * standard_error\n",
    "low"
   ],
   "metadata": {
    "collapsed": false
   }
  },
  {
   "cell_type": "code",
   "execution_count": 10,
   "outputs": [
    {
     "data": {
      "text/plain": "23.502400800835076"
     },
     "execution_count": 10,
     "metadata": {},
     "output_type": "execute_result"
    }
   ],
   "source": [
    "upper = mean + t_value * standard_error\n",
    "upper"
   ],
   "metadata": {
    "collapsed": false
   }
  },
  {
   "cell_type": "code",
   "execution_count": 13,
   "outputs": [
    {
     "name": "stdout",
     "output_type": "stream",
     "text": [
      "답은 21.497599199164924 ~ 23.502400800835076의 범위값을 가집니다\n"
     ]
    }
   ],
   "source": [
    "print(f\"답은 {low} ~ {upper}의 범위값을 가집니다\")"
   ],
   "metadata": {
    "collapsed": false
   }
  },
  {
   "cell_type": "markdown",
   "metadata": {},
   "source": [
    "#### (b) 모집단 평균에 대한 95% 신뢰구간을 구하시오. "
   ]
  },
  {
   "cell_type": "code",
   "execution_count": 14,
   "metadata": {},
   "outputs": [],
   "source": [
    "t_value = stats.t.ppf(0.975, n-1)"
   ]
  },
  {
   "cell_type": "code",
   "execution_count": 15,
   "outputs": [
    {
     "name": "stdout",
     "output_type": "stream",
     "text": [
      "답은 21.29903118631624 ~ 23.70096881368376의 범위값을 가집니다\n"
     ]
    }
   ],
   "source": [
    "low = mean - t_value * standard_error\n",
    "upper = mean + t_value * standard_error\n",
    "print(f\"답은 {low} ~ {upper}의 범위값을 가집니다\")"
   ],
   "metadata": {
    "collapsed": false
   }
  },
  {
   "cell_type": "markdown",
   "metadata": {},
   "source": [
    "#### (c) n=100을 가지는 무작위 표본을 선택했을 때 평균과 표준편차가 위의 경우와 동일했다. 이 데이터에 대한 모집단 평균에 대한 95% 신뢰구간을 구하시오. "
   ]
  },
  {
   "cell_type": "code",
   "execution_count": 16,
   "metadata": {},
   "outputs": [],
   "source": [
    "n= 100\n",
    "t_value = stats.t.ppf(0.975, n-1)\n"
   ]
  },
  {
   "cell_type": "code",
   "execution_count": 17,
   "outputs": [
    {
     "name": "stdout",
     "output_type": "stream",
     "text": [
      "답은 21.31192200506784 ~ 23.68807799493216의 범위값을 가집니다\n"
     ]
    }
   ],
   "source": [
    "low = mean - t_value * standard_error\n",
    "upper = mean + t_value * standard_error\n",
    "print(f\"답은 {low} ~ {upper}의 범위값을 가집니다\")"
   ],
   "metadata": {
    "collapsed": false
   }
  },
  {
   "cell_type": "markdown",
   "metadata": {},
   "source": [
    "#### 2. `airbnb.csv` 데이터셋을 사용하여 샌프란시스코 전체 리스팅의 `reviews_per_month`의 평균을 95% 신뢰구간으로 추정하고 해석하시오. "
   ]
  },
  {
   "cell_type": "code",
   "execution_count": 18,
   "metadata": {},
   "outputs": [],
   "source": [
    "data = pd.read_csv(\"../data/airbnb.csv\")"
   ]
  },
  {
   "cell_type": "code",
   "execution_count": 19,
   "metadata": {},
   "outputs": [
    {
     "data": {
      "text/plain": "(1.8282838514877178, 1.948217377013511)"
     },
     "execution_count": 19,
     "metadata": {},
     "output_type": "execute_result"
    }
   ],
   "source": [
    "stat = weightstats.DescrStatsW(data.reviews_per_month)\n",
    "stat.tconfint_mean(alpha=0.025)"
   ]
  },
  {
   "cell_type": "markdown",
   "metadata": {},
   "source": [
    "#### 3. 과자에 치즈를 넣는 기계가 있는데 주입하는 치즈의 양을 조절할 수 있다. 단순임의로 추출된 30개의 표본에 주입된 평균 치즈의 양은 $\\bar x = 3.5$그램이었다. 이 과정의 표준편차가 $\\sigma=0.25$그램으로 알려져 있다면, 기계가 주입하는 치즈의 평균 양 $\\mu$에 대해 95%신뢰구간을 구하여라."
   ]
  },
  {
   "cell_type": "code",
   "execution_count": 21,
   "outputs": [
    {
     "data": {
      "text/plain": "0.04564354645876384"
     },
     "execution_count": 21,
     "metadata": {},
     "output_type": "execute_result"
    }
   ],
   "source": [
    "n = 30\n",
    "mean = 3.5\n",
    "std = 0.25\n",
    "# 표준오차 구하기\n",
    "standard_error = std / (n ** 0.5)\n",
    "standard_error"
   ],
   "metadata": {
    "collapsed": false
   }
  },
  {
   "cell_type": "code",
   "execution_count": 26,
   "outputs": [
    {
     "data": {
      "text/plain": "2.045229642132703"
     },
     "execution_count": 26,
     "metadata": {},
     "output_type": "execute_result"
    }
   ],
   "source": [
    "# 타겟 신뢰수준을 토대로 t값 계산하기\n",
    "t_value = stats.t.ppf((1+0.95)/2, n-1)\n",
    "t_value"
   ],
   "metadata": {
    "collapsed": false
   }
  },
  {
   "cell_type": "code",
   "execution_count": 23,
   "outputs": [
    {
     "data": {
      "text/plain": "3.406648465810475"
     },
     "execution_count": 23,
     "metadata": {},
     "output_type": "execute_result"
    }
   ],
   "source": [
    "low = mean - t_value * standard_error\n",
    "low"
   ],
   "metadata": {
    "collapsed": false
   }
  },
  {
   "cell_type": "code",
   "execution_count": 24,
   "outputs": [
    {
     "data": {
      "text/plain": "3.593351534189525"
     },
     "execution_count": 24,
     "metadata": {},
     "output_type": "execute_result"
    }
   ],
   "source": [
    "upper = mean + t_value * standard_error\n",
    "upper"
   ],
   "metadata": {
    "collapsed": false
   }
  },
  {
   "cell_type": "code",
   "execution_count": 25,
   "outputs": [
    {
     "name": "stdout",
     "output_type": "stream",
     "text": [
      "답은 3.406648465810475 ~ 3.593351534189525의 범위값을 가집니다\n"
     ]
    }
   ],
   "source": [
    "print(f\"답은 {low} ~ {upper}의 범위값을 가집니다\")"
   ],
   "metadata": {
    "collapsed": false
   }
  },
  {
   "cell_type": "markdown",
   "metadata": {},
   "source": [
    "#### 4. 다음의 상황에서 알맞은 귀무가설과 대립가설을 설정하고 제1종 오류를 범한 결과와 제 2종오류를 범한 결과에 대해 논하시오.\n",
    "#### (a) 자동차 판매점의 관리자는 판매량을 증가시키기 위하여 새로운 보너스 제도 도입을 고려하고 있다. 최근의 월간 평균 판매량은 14대 정도이다. 새로운 보너스 제도가 판매량을 늘리는데 기여하는지 파악하기 위해 판매원 중 일부를 표본으로 선정하여 새로운 보너스 제도 하에서 한 달간의 판매량을 측정하였다."
   ]
  },
  {
   "cell_type": "markdown",
   "source": [
    "# H0 : 기존 가설이 맞다\n",
    "- 판매량을 증가시키기위해 새로운 보너스를 도입해도 판매량은 14대에서 더 늘지 않는다.\n",
    "    - 제 1종 오류 : 판매량을 증가시키기 위해 새로운 보너스를 도입했는데 14대에서 더 늘었다.\n",
    "# H1 : 기존 가설이 틀렸다\n",
    "- 판매량을 증가시키기 위해 새로운 보너스를 도입하면 판매량이 14대에서 더 늘어난다.\n",
    "    - 제 2종 오류 : 판매량을 증가시키기 위해 새로운 보너스를 도입했는데 14대에서 안늘어났다."
   ],
   "metadata": {
    "collapsed": false
   }
  },
  {
   "cell_type": "markdown",
   "metadata": {},
   "source": [
    "#### (b) 종이 포장상자에 32온스의 세탁세제를 담도록 생산라인이 설계되어 공정이 운영되고 있다. 일정 주기로 포장상자를 표본으로 선정하여 규격 이외의 무게로 세제가 담겨지고 있는지 파악하고자 한다. "
   ]
  },
  {
   "cell_type": "markdown",
   "source": [
    "# H0 : 기존 가설이 맞다.\n",
    "- 규격 이외의 무게로 32온수 이외의 세제가 담겨지고있다.(=)\n",
    "    - 제 1종 오류(A) : 규격 이외의 무게로 32 세제가 담겨지지 않는다.(!=)\n",
    "# H1 : 기존 가설이 틀렸다.\n",
    "- 규격 이외의 무게로 32온스의 세제가 담겨지지 않는다. (=)\n",
    "    - 제 2종 오류(B) : 32온스 규격 이외의 세제가 담겨지고 있다.(!=)"
   ],
   "metadata": {
    "collapsed": false
   }
  },
  {
   "cell_type": "markdown",
   "metadata": {},
   "source": [
    "#### (c) 외부인이 건물내부로 무단침입하거나 해커가 컴퓨터망을 공격할 경우 이를 적절하게 식별하는 시스템을 침입탐지시스템이라고 한다.  이 시스템에서의 type 1 error와 type 2 error의 상황을 서술하고 (1) 사용자 편의성을 중요시하는 서비스업체/소매업체의 관점과 (2) 보안을 보다 중요시 하는 군사조직의 관점에서 어떠한 오류를 낮추는 것이 중요한지 판단하시오."
   ]
  },
  {
   "cell_type": "markdown",
   "source": [
    "# H0 : 기존 가설이 맞다.\n",
    "- 침입탐지 시스템이 비교적 덜 예민하게 작동한다.(못찾는다)\n",
    "    - 제 1종 오류(A) : 침입 탐지 시스템이 예민하게 작동하여 다잡는다.\n",
    "        - 따라서 type 1 error는 많을수록 가짜 경보가 많더라도 예민하기 때문에 보안을 중요하게 생각하는 군사조직의 관점에서 높을수록 좋다.\n",
    "# H1 :  기존 가설이 틀리다.\n",
    "- 침입탐지 시스템이 예민하게 반응한다.(잘찾는다)\n",
    "    - 제 2종 오류(B) :  침입 탐지 시스템이 둔감하게 작동한다(못찾는다)\n",
    "        - 따라서 type 2 error는 아닌데도 불구하고 자주 작동하기 때문에 편의성을 중요시하는 서비스/소매업체 관점에서 높을수록 좋다."
   ],
   "metadata": {
    "collapsed": false
   }
  },
  {
   "cell_type": "markdown",
   "metadata": {},
   "source": [
    "#### 5. 대한민국의 50원 짜리 동전의 무게는 4.16 그램으로 정해져 있다. 15개의 표본 동전을 선택하여 측정한 결과 평균 무게는 4.02 그램이고 표준편차는 0.040그램이다. (표본 무게의 분포가 대칭의 형태라고 가정하자.) \n",
    "\n",
    "#### (a) 평균무게가 정해진 기준과 같다고 5% 유의수준에서 말할 수 있는가? 가설검정 과정을 통해 답하시오."
   ]
  },
  {
   "cell_type": "code",
   "execution_count": 29,
   "metadata": {},
   "outputs": [],
   "source": [
    "target = 4.16\n",
    "n = 15\n",
    "mean = 4.02\n",
    "std = 0.040\n",
    "# H0 : 무게가 같다\n",
    "# H1 : 무게가 다르다\n"
   ]
  },
  {
   "cell_type": "code",
   "execution_count": 30,
   "outputs": [
    {
     "data": {
      "text/plain": "0.010327955589886445"
     },
     "execution_count": 30,
     "metadata": {},
     "output_type": "execute_result"
    }
   ],
   "source": [
    "standard_error = std / (n ** 0.5)\n",
    "standard_error"
   ],
   "metadata": {
    "collapsed": false
   }
  },
  {
   "cell_type": "code",
   "execution_count": 31,
   "outputs": [
    {
     "data": {
      "text/plain": "1.7613101357748562"
     },
     "execution_count": 31,
     "metadata": {},
     "output_type": "execute_result"
    }
   ],
   "source": [
    "t_value = stats.t.ppf((1+0.9)/2, n-1)\n",
    "t_value"
   ],
   "metadata": {
    "collapsed": false
   }
  },
  {
   "cell_type": "code",
   "execution_count": 32,
   "outputs": [
    {
     "data": {
      "text/plain": "4.0018092671377"
     },
     "execution_count": 32,
     "metadata": {},
     "output_type": "execute_result"
    }
   ],
   "source": [
    "low = mean - t_value * standard_error\n",
    "low"
   ],
   "metadata": {
    "collapsed": false
   }
  },
  {
   "cell_type": "code",
   "execution_count": 33,
   "outputs": [
    {
     "data": {
      "text/plain": "4.038190732862299"
     },
     "execution_count": 33,
     "metadata": {},
     "output_type": "execute_result"
    }
   ],
   "source": [
    "upper = mean + t_value * standard_error\n",
    "upper"
   ],
   "metadata": {
    "collapsed": false
   }
  },
  {
   "cell_type": "code",
   "execution_count": 36,
   "outputs": [
    {
     "name": "stdout",
     "output_type": "stream",
     "text": [
      "표본은 4.0018092671377 ~ 4.038190732862299의 범위값을 가집니다\n"
     ]
    }
   ],
   "source": [
    "print(f\"표본은 {low} ~ {upper}의 범위값을 가집니다\")"
   ],
   "metadata": {
    "collapsed": false
   }
  },
  {
   "cell_type": "code",
   "execution_count": 35,
   "outputs": [
    {
     "name": "stdout",
     "output_type": "stream",
     "text": [
      "4.16은 위 값 사이에 포함되지 않기에 H0 , 무게가 같다를 기각합니다, 따라서 대립가설 H1을 채택합니다\n"
     ]
    }
   ],
   "source": [
    "print(f\"{target}은 위 값 사이에 포함되지 않기에 H0 , 무게가 같다를 기각합니다, 따라서 대립가설 H1을 채택합니다\")"
   ],
   "metadata": {
    "collapsed": false
   }
  },
  {
   "cell_type": "markdown",
   "metadata": {},
   "source": [
    "#### (b) 평균 무게에 대한 95% 신뢰구간을 계산하시오. 해당 구간에 4.16이 포함되는가? 위의 가설검정 결과와 일치하는가? \n"
   ]
  },
  {
   "cell_type": "code",
   "execution_count": 40,
   "outputs": [],
   "source": [
    "target = 4.16\n",
    "n = 15\n",
    "mean = 4.02\n",
    "std = 0.040\n",
    "# H0 : 무게가 같다\n",
    "# H1 : 무게가 다르다\n"
   ],
   "metadata": {
    "collapsed": false
   }
  },
  {
   "cell_type": "code",
   "execution_count": 41,
   "outputs": [
    {
     "data": {
      "text/plain": "0.010327955589886445"
     },
     "execution_count": 41,
     "metadata": {},
     "output_type": "execute_result"
    }
   ],
   "source": [
    "standard_error = std / (n ** 0.5)\n",
    "standard_error"
   ],
   "metadata": {
    "collapsed": false
   }
  },
  {
   "cell_type": "code",
   "execution_count": 42,
   "outputs": [
    {
     "data": {
      "text/plain": "2.1447866879169273"
     },
     "execution_count": 42,
     "metadata": {},
     "output_type": "execute_result"
    }
   ],
   "source": [
    "t_value = stats.t.ppf((1+0.95)/2, n-1)\n",
    "t_value"
   ],
   "metadata": {
    "collapsed": false
   }
  },
  {
   "cell_type": "code",
   "execution_count": 43,
   "outputs": [
    {
     "data": {
      "text/plain": "3.9978487383374137"
     },
     "execution_count": 43,
     "metadata": {},
     "output_type": "execute_result"
    }
   ],
   "source": [
    "low = mean - t_value * standard_error\n",
    "low"
   ],
   "metadata": {
    "collapsed": false
   }
  },
  {
   "cell_type": "code",
   "execution_count": 44,
   "outputs": [
    {
     "data": {
      "text/plain": "4.042151261662585"
     },
     "execution_count": 44,
     "metadata": {},
     "output_type": "execute_result"
    }
   ],
   "source": [
    "upper = mean + t_value * standard_error\n",
    "upper"
   ],
   "metadata": {
    "collapsed": false
   }
  },
  {
   "cell_type": "code",
   "execution_count": 45,
   "outputs": [
    {
     "name": "stdout",
     "output_type": "stream",
     "text": [
      "표본은 3.9978487383374137 ~ 4.042151261662585의 범위값을 가집니다\n"
     ]
    }
   ],
   "source": [
    "print(f\"표본은 {low} ~ {upper}의 범위값을 가집니다\")"
   ],
   "metadata": {
    "collapsed": false
   }
  },
  {
   "cell_type": "code",
   "execution_count": 47,
   "outputs": [
    {
     "name": "stdout",
     "output_type": "stream",
     "text": [
      "4.16은 위 값 사이에 포함되지 않기에 H0 , 무게가 같다를 기각합니다, 따라서 상기의 결과와 같이 대립가설 H1을 채택합니다\n"
     ]
    }
   ],
   "source": [
    "print(f\"{target}은 위 값 사이에 포함되지 않기에 H0 , 무게가 같다를 기각합니다, 따라서 상기의 결과와 같이 대립가설 H1을 채택합니다\")"
   ],
   "metadata": {
    "collapsed": false
   }
  },
  {
   "cell_type": "markdown",
   "metadata": {},
   "source": [
    "#### 6. Airbnb의 한 관리자는 시설의 월평균 리뷰 수가 1.8개라고 주장하고 있다. 이 주장이 옳은 지 확인하기 위해  `airbnb.csv` 데이터셋의 `reviews_per_month`을 사용하여 가설검정을 진행하시오. "
   ]
  },
  {
   "cell_type": "code",
   "execution_count": null,
   "metadata": {},
   "outputs": [],
   "source": []
  },
  {
   "cell_type": "code",
   "execution_count": 50,
   "outputs": [],
   "source": [
    "\n",
    "import matplotlib.pylab as plt\n",
    "%matplotlib inline\n",
    "\n",
    "data_path = \"../data/\"\n",
    "\n",
    "airbnb = pd.read_csv(data_path + 'airbnb.csv')\n",
    "target = airbnb.reviews_per_month # 초 단위로 변환"
   ],
   "metadata": {
    "collapsed": false
   }
  },
  {
   "cell_type": "code",
   "execution_count": 55,
   "outputs": [],
   "source": [
    "want = 1.8\n",
    "n = len(target)\n",
    "mean = target.mean()\n",
    "std = target.std()\n",
    "# H0 : 무게가 같다\n",
    "# H1 : 무게가 다르다\n"
   ],
   "metadata": {
    "collapsed": false
   }
  },
  {
   "cell_type": "code",
   "execution_count": 56,
   "outputs": [
    {
     "data": {
      "text/plain": "0.026747521645081766"
     },
     "execution_count": 56,
     "metadata": {},
     "output_type": "execute_result"
    }
   ],
   "source": [
    "standard_error = std / (n ** 0.5)\n",
    "standard_error"
   ],
   "metadata": {
    "collapsed": false
   }
  },
  {
   "cell_type": "code",
   "execution_count": 60,
   "outputs": [
    {
     "data": {
      "text/plain": "1.9603527023808762"
     },
     "execution_count": 60,
     "metadata": {},
     "output_type": "execute_result"
    }
   ],
   "source": [
    "t_value = stats.t.ppf((1+0.95)/2, n-1)\n",
    "t_value"
   ],
   "metadata": {
    "collapsed": false
   }
  },
  {
   "cell_type": "code",
   "execution_count": 61,
   "outputs": [
    {
     "data": {
      "text/plain": "1.835816037911685"
     },
     "execution_count": 61,
     "metadata": {},
     "output_type": "execute_result"
    }
   ],
   "source": [
    "low = mean - t_value * standard_error\n",
    "low"
   ],
   "metadata": {
    "collapsed": false
   }
  },
  {
   "cell_type": "code",
   "execution_count": 62,
   "outputs": [
    {
     "data": {
      "text/plain": "1.9406851905895393"
     },
     "execution_count": 62,
     "metadata": {},
     "output_type": "execute_result"
    }
   ],
   "source": [
    "upper = mean + t_value * standard_error\n",
    "upper"
   ],
   "metadata": {
    "collapsed": false
   }
  },
  {
   "cell_type": "code",
   "execution_count": 63,
   "outputs": [
    {
     "name": "stdout",
     "output_type": "stream",
     "text": [
      "표본은 1.835816037911685 ~ 1.9406851905895393의 범위값을 가집니다\n"
     ]
    }
   ],
   "source": [
    "print(f\"표본은 {low} ~ {upper}의 범위값을 가집니다\")"
   ],
   "metadata": {
    "collapsed": false
   }
  },
  {
   "cell_type": "code",
   "execution_count": 66,
   "outputs": [
    {
     "name": "stdout",
     "output_type": "stream",
     "text": [
      "1.8은 위 값 사이에 포함되기에 , 귀무가설 H0을 채택합니다 따라서 airbnb 관리자의 주장은 유의확률 95%를 기준으로 맞습니다.\n"
     ]
    }
   ],
   "source": [
    "print(f\"{want}은 위 값 사이에 포함되기에 , 귀무가설 H0을 채택합니다 따라서 airbnb 관리자의 주장은 유의확률 95%를 기준으로 맞습니다.\")"
   ],
   "metadata": {
    "collapsed": false
   }
  },
  {
   "cell_type": "markdown",
   "metadata": {},
   "source": [
    "#### 7. 비행기에서 제공하는 생수가 안전한지 확인하기 위해 환경보호국에서 8월에 조사한 결과 158개의 무작위 비행기 중에서 20개 비행기(12.7%)에서 생수오염원이 발견되었다. 유의수준 0.05하에서 판단하였을 때 전체 비행기의 10% 이상에서 문제가 있는 생수를 제공하고 있다는 증거가 될 수 있는가? 가설검정 절차를 통해 답하시오."
   ]
  },
  {
   "cell_type": "code",
   "execution_count": 67,
   "outputs": [
    {
     "name": "stdout",
     "output_type": "stream",
     "text": [
      "There is no evidence to reject the null hypothesis at the 5% significance level.\n"
     ]
    }
   ],
   "source": [
    "\n",
    "# Number of planes with bottled water contaminants\n",
    "n_contaminated = 20\n",
    "\n",
    "# Total number of planes\n",
    "n_planes = 158\n",
    "\n",
    "# Null hypothesis: p = 0.1\n",
    "p_null = 0.1\n",
    "\n",
    "# One-tailed test for p > 0.1\n",
    "p_value = stats.binom_test(n_contaminated, n_planes, p_null, alternative='greater')\n",
    "\n",
    "# Significance level of 0.05\n",
    "alpha = 0.05\n",
    "\n",
    "if p_value < alpha:\n",
    "    print(\"There is evidence to reject the null hypothesis at the 5% significance level.\")\n",
    "else:\n",
    "    print(\"There is no evidence to reject the null hypothesis at the 5% significance level.\")\n"
   ],
   "metadata": {
    "collapsed": false
   }
  },
  {
   "cell_type": "code",
   "execution_count": 69,
   "outputs": [
    {
     "name": "stdout",
     "output_type": "stream",
     "text": [
      "Z-statistics: 1.005, p-value: 0.157\n"
     ]
    }
   ],
   "source": [
    "ztest_result = proportion.proportions_ztest(count = 20, nobs = 158, value = 0.1, alternative = 'larger',\n",
    "                                           )\n",
    "print('Z-statistics: %.3f, p-value: %.3f' %(ztest_result))"
   ],
   "metadata": {
    "collapsed": false
   }
  },
  {
   "cell_type": "code",
   "execution_count": 70,
   "outputs": [],
   "source": [
    "# p-value> 0.05이므로 귀무가설 채택"
   ],
   "metadata": {
    "collapsed": false
   }
  }
 ],
 "metadata": {
  "kernelspec": {
   "display_name": "Python_sfds",
   "language": "python",
   "name": "python3"
  },
  "language_info": {
   "codemirror_mode": {
    "name": "ipython",
    "version": 3
   },
   "file_extension": ".py",
   "mimetype": "text/x-python",
   "name": "python",
   "nbconvert_exporter": "python",
   "pygments_lexer": "ipython3",
   "version": "3.9.1"
  }
 },
 "nbformat": 4,
 "nbformat_minor": 4
}
