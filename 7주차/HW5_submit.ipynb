{
 "cells": [
  {
   "cell_type": "markdown",
   "metadata": {},
   "source": [
    "e Homework 5\n",
    "\n"
   ]
  },
  {
   "cell_type": "code",
   "execution_count": 2,
   "metadata": {},
   "outputs": [],
   "source": [
    "# import common\n",
    "import pandas as pd\n",
    "import numpy as np\n",
    "from scipy import stats\n",
    "\n",
    "import seaborn as sns\n",
    "import matplotlib.pylab as plt\n",
    "from statsmodels.stats import weightstats\n",
    "from statsmodels.stats import proportion"
   ]
  },
  {
   "cell_type": "markdown",
   "metadata": {},
   "source": [
    "#### 1. Par사는 골프용품을 생산하는 대기업이다. 기존의 제품에 비해 신제품이 내구성을 향상시키면서 손색없는 비거리를 보일 수 있는 골프공의 생산에 관심이 있다. 두 제품 간의 비거리를 비교하기 위해서 각각 40개의 골프공을 추출하여 비거리를 측정하였다. 비거리의 측정 결과는 golf.csv에 수록되어 있다. \n",
    "\n",
    "#### (a) 기존 제품과 신제품 간의 비거리를 비교하는데 활용할 수 있는 가설을 제시하시오."
   ]
  },
  {
   "cell_type": "code",
   "execution_count": 2,
   "metadata": {},
   "outputs": [],
   "source": [
    "import matplotlib.pylab as plt\n",
    "%matplotlib inline\n",
    "data_path = \"../data/\"\n",
    "golf = pd.read_csv(data_path + 'golf.csv')\n",
    " # 초 단위로 변환"
   ]
  },
  {
   "cell_type": "code",
   "execution_count": 3,
   "outputs": [
    {
     "data": {
      "text/plain": "    Current  New\n0       264  277\n1       261  269\n2       267  263\n3       272  266\n4       258  262\n5       283  251\n6       258  262\n7       266  289\n8       259  286\n9       270  264\n10      263  274\n11      264  266\n12      284  262\n13      263  271\n14      260  260\n15      283  281\n16      255  250\n17      272  263\n18      266  278\n19      268  264\n20      270  272\n21      287  259\n22      289  264\n23      280  280\n24      272  274\n25      275  281\n26      265  276\n27      260  269\n28      278  268\n29      275  262\n30      281  283\n31      274  250\n32      273  253\n33      263  260\n34      275  270\n35      267  263\n36      279  261\n37      274  255\n38      276  263\n39      262  279",
      "text/html": "<div>\n<style scoped>\n    .dataframe tbody tr th:only-of-type {\n        vertical-align: middle;\n    }\n\n    .dataframe tbody tr th {\n        vertical-align: top;\n    }\n\n    .dataframe thead th {\n        text-align: right;\n    }\n</style>\n<table border=\"1\" class=\"dataframe\">\n  <thead>\n    <tr style=\"text-align: right;\">\n      <th></th>\n      <th>Current</th>\n      <th>New</th>\n    </tr>\n  </thead>\n  <tbody>\n    <tr>\n      <th>0</th>\n      <td>264</td>\n      <td>277</td>\n    </tr>\n    <tr>\n      <th>1</th>\n      <td>261</td>\n      <td>269</td>\n    </tr>\n    <tr>\n      <th>2</th>\n      <td>267</td>\n      <td>263</td>\n    </tr>\n    <tr>\n      <th>3</th>\n      <td>272</td>\n      <td>266</td>\n    </tr>\n    <tr>\n      <th>4</th>\n      <td>258</td>\n      <td>262</td>\n    </tr>\n    <tr>\n      <th>5</th>\n      <td>283</td>\n      <td>251</td>\n    </tr>\n    <tr>\n      <th>6</th>\n      <td>258</td>\n      <td>262</td>\n    </tr>\n    <tr>\n      <th>7</th>\n      <td>266</td>\n      <td>289</td>\n    </tr>\n    <tr>\n      <th>8</th>\n      <td>259</td>\n      <td>286</td>\n    </tr>\n    <tr>\n      <th>9</th>\n      <td>270</td>\n      <td>264</td>\n    </tr>\n    <tr>\n      <th>10</th>\n      <td>263</td>\n      <td>274</td>\n    </tr>\n    <tr>\n      <th>11</th>\n      <td>264</td>\n      <td>266</td>\n    </tr>\n    <tr>\n      <th>12</th>\n      <td>284</td>\n      <td>262</td>\n    </tr>\n    <tr>\n      <th>13</th>\n      <td>263</td>\n      <td>271</td>\n    </tr>\n    <tr>\n      <th>14</th>\n      <td>260</td>\n      <td>260</td>\n    </tr>\n    <tr>\n      <th>15</th>\n      <td>283</td>\n      <td>281</td>\n    </tr>\n    <tr>\n      <th>16</th>\n      <td>255</td>\n      <td>250</td>\n    </tr>\n    <tr>\n      <th>17</th>\n      <td>272</td>\n      <td>263</td>\n    </tr>\n    <tr>\n      <th>18</th>\n      <td>266</td>\n      <td>278</td>\n    </tr>\n    <tr>\n      <th>19</th>\n      <td>268</td>\n      <td>264</td>\n    </tr>\n    <tr>\n      <th>20</th>\n      <td>270</td>\n      <td>272</td>\n    </tr>\n    <tr>\n      <th>21</th>\n      <td>287</td>\n      <td>259</td>\n    </tr>\n    <tr>\n      <th>22</th>\n      <td>289</td>\n      <td>264</td>\n    </tr>\n    <tr>\n      <th>23</th>\n      <td>280</td>\n      <td>280</td>\n    </tr>\n    <tr>\n      <th>24</th>\n      <td>272</td>\n      <td>274</td>\n    </tr>\n    <tr>\n      <th>25</th>\n      <td>275</td>\n      <td>281</td>\n    </tr>\n    <tr>\n      <th>26</th>\n      <td>265</td>\n      <td>276</td>\n    </tr>\n    <tr>\n      <th>27</th>\n      <td>260</td>\n      <td>269</td>\n    </tr>\n    <tr>\n      <th>28</th>\n      <td>278</td>\n      <td>268</td>\n    </tr>\n    <tr>\n      <th>29</th>\n      <td>275</td>\n      <td>262</td>\n    </tr>\n    <tr>\n      <th>30</th>\n      <td>281</td>\n      <td>283</td>\n    </tr>\n    <tr>\n      <th>31</th>\n      <td>274</td>\n      <td>250</td>\n    </tr>\n    <tr>\n      <th>32</th>\n      <td>273</td>\n      <td>253</td>\n    </tr>\n    <tr>\n      <th>33</th>\n      <td>263</td>\n      <td>260</td>\n    </tr>\n    <tr>\n      <th>34</th>\n      <td>275</td>\n      <td>270</td>\n    </tr>\n    <tr>\n      <th>35</th>\n      <td>267</td>\n      <td>263</td>\n    </tr>\n    <tr>\n      <th>36</th>\n      <td>279</td>\n      <td>261</td>\n    </tr>\n    <tr>\n      <th>37</th>\n      <td>274</td>\n      <td>255</td>\n    </tr>\n    <tr>\n      <th>38</th>\n      <td>276</td>\n      <td>263</td>\n    </tr>\n    <tr>\n      <th>39</th>\n      <td>262</td>\n      <td>279</td>\n    </tr>\n  </tbody>\n</table>\n</div>"
     },
     "execution_count": 3,
     "metadata": {},
     "output_type": "execute_result"
    }
   ],
   "source": [
    "golf\n",
    "# tes"
   ],
   "metadata": {
    "collapsed": false
   }
  },
  {
   "cell_type": "code",
   "execution_count": 4,
   "outputs": [
    {
     "data": {
      "text/plain": "          Current         New\ncount   40.000000   40.000000\nmean   270.275000  267.500000\nstd      8.752985    9.896904\nmin    255.000000  250.000000\n25%    263.000000  262.000000\n50%    270.000000  265.000000\n75%    275.250000  274.500000\nmax    289.000000  289.000000",
      "text/html": "<div>\n<style scoped>\n    .dataframe tbody tr th:only-of-type {\n        vertical-align: middle;\n    }\n\n    .dataframe tbody tr th {\n        vertical-align: top;\n    }\n\n    .dataframe thead th {\n        text-align: right;\n    }\n</style>\n<table border=\"1\" class=\"dataframe\">\n  <thead>\n    <tr style=\"text-align: right;\">\n      <th></th>\n      <th>Current</th>\n      <th>New</th>\n    </tr>\n  </thead>\n  <tbody>\n    <tr>\n      <th>count</th>\n      <td>40.000000</td>\n      <td>40.000000</td>\n    </tr>\n    <tr>\n      <th>mean</th>\n      <td>270.275000</td>\n      <td>267.500000</td>\n    </tr>\n    <tr>\n      <th>std</th>\n      <td>8.752985</td>\n      <td>9.896904</td>\n    </tr>\n    <tr>\n      <th>min</th>\n      <td>255.000000</td>\n      <td>250.000000</td>\n    </tr>\n    <tr>\n      <th>25%</th>\n      <td>263.000000</td>\n      <td>262.000000</td>\n    </tr>\n    <tr>\n      <th>50%</th>\n      <td>270.000000</td>\n      <td>265.000000</td>\n    </tr>\n    <tr>\n      <th>75%</th>\n      <td>275.250000</td>\n      <td>274.500000</td>\n    </tr>\n    <tr>\n      <th>max</th>\n      <td>289.000000</td>\n      <td>289.000000</td>\n    </tr>\n  </tbody>\n</table>\n</div>"
     },
     "execution_count": 4,
     "metadata": {},
     "output_type": "execute_result"
    }
   ],
   "source": [
    "golf.describe()"
   ],
   "metadata": {
    "collapsed": false
   }
  },
  {
   "cell_type": "code",
   "execution_count": null,
   "outputs": [],
   "source": [
    "# H0 : 신제품의 비거리는 기존제품과 차이가 없음(=)\n",
    "# H1 : 신제품의 비거리는 기존제품과 차이가 있음(!=)\n"
   ],
   "metadata": {
    "collapsed": false
   }
  },
  {
   "cell_type": "markdown",
   "metadata": {},
   "source": [
    "#### (b) 가설검정을 수행할 수 있도록 자료를 분석하시오. P값은 얼마이며 이 결과에 대하여 Par사에 어떤 자문을 할 수 있겠는가?"
   ]
  },
  {
   "cell_type": "code",
   "execution_count": 6,
   "outputs": [
    {
     "data": {
      "text/plain": "40"
     },
     "execution_count": 6,
     "metadata": {},
     "output_type": "execute_result"
    }
   ],
   "source": [
    "len(golf)"
   ],
   "metadata": {
    "collapsed": false
   }
  },
  {
   "cell_type": "code",
   "execution_count": 7,
   "metadata": {},
   "outputs": [
    {
     "data": {
      "text/plain": "1.383968420789864"
     },
     "execution_count": 7,
     "metadata": {},
     "output_type": "execute_result"
    }
   ],
   "source": [
    "target = golf.New.mean()\n",
    "# 표준오차 구하기\n",
    "n = len(golf)\n",
    "mean = golf.Current.mean()\n",
    "std = golf.Current.std()\n",
    "\n",
    "standard_error = std / (n ** 0.5)\n",
    "standard_error\n"
   ]
  },
  {
   "cell_type": "code",
   "execution_count": 60,
   "outputs": [
    {
     "data": {
      "text/plain": "2.022690911734728"
     },
     "execution_count": 60,
     "metadata": {},
     "output_type": "execute_result"
    }
   ],
   "source": [
    "# 타겟 신뢰수준을 토대로 t값 계산하기\n",
    "t_value = stats.t.ppf((1+0.95)/2, n-1)\n",
    "t_value"
   ],
   "metadata": {
    "collapsed": false
   }
  },
  {
   "cell_type": "code",
   "execution_count": 61,
   "outputs": [
    {
     "data": {
      "text/plain": "267.47565965314044"
     },
     "execution_count": 61,
     "metadata": {},
     "output_type": "execute_result"
    }
   ],
   "source": [
    "low = mean - t_value * standard_error\n",
    "low"
   ],
   "metadata": {
    "collapsed": false
   }
  },
  {
   "cell_type": "code",
   "execution_count": 62,
   "outputs": [
    {
     "data": {
      "text/plain": "273.0743403468595"
     },
     "execution_count": 62,
     "metadata": {},
     "output_type": "execute_result"
    }
   ],
   "source": [
    "upper = mean + t_value * standard_error\n",
    "upper"
   ],
   "metadata": {
    "collapsed": false
   }
  },
  {
   "cell_type": "code",
   "execution_count": 21,
   "outputs": [
    {
     "name": "stdout",
     "output_type": "stream",
     "text": [
      "Current는 267.47565965314044 ~ 273.0743403468595의 범위 값을 가지므로 New의 평균 267.5를 포함합니다. 따라서 95% 유의확률에선 귀무가설을 채택하여 새로운 공이 더 좋은 비거리를 가지지 않는다는 결론이 나옵니다\n"
     ]
    }
   ],
   "source": [
    "print(f\"Current는 {low} ~ {upper}의 범위 값을 가지므로 New의 평균 267.5를 포함합니다. 따라서 95% 유의확률에선 귀무가설을 채택하여 새로운 공이 더 좋은 비거리를 가지지 않는다는 결론이 나옵니다\")"
   ],
   "metadata": {
    "collapsed": false
   }
  },
  {
   "cell_type": "markdown",
   "source": [
    "### Two-sample t-test"
   ],
   "metadata": {
    "collapsed": false
   }
  },
  {
   "cell_type": "code",
   "execution_count": 64,
   "outputs": [
    {
     "data": {
      "text/plain": "count     40.000000\nmean     267.500000\nstd        9.896904\nmin      250.000000\n25%      262.000000\n50%      265.000000\n75%      274.500000\nmax      289.000000\nName: New, dtype: float64"
     },
     "execution_count": 64,
     "metadata": {},
     "output_type": "execute_result"
    }
   ],
   "source": [
    "# 두개 집단에 대한 평균 비교(two-sample)\n",
    "golf.New.describe()"
   ],
   "metadata": {
    "collapsed": false
   }
  },
  {
   "cell_type": "code",
   "execution_count": 65,
   "outputs": [
    {
     "data": {
      "text/plain": "count     40.000000\nmean     270.275000\nstd        8.752985\nmin      255.000000\n25%      263.000000\n50%      270.000000\n75%      275.250000\nmax      289.000000\nName: Current, dtype: float64"
     },
     "execution_count": 65,
     "metadata": {},
     "output_type": "execute_result"
    }
   ],
   "source": [
    "golf.Current.describe()"
   ],
   "metadata": {
    "collapsed": false
   }
  },
  {
   "cell_type": "code",
   "execution_count": 66,
   "outputs": [
    {
     "data": {
      "text/plain": "    before  after\n0      264    277\n1      261    269\n2      267    263\n3      272    266\n4      258    262\n5      283    251\n6      258    262\n7      266    289\n8      259    286\n9      270    264\n10     263    274\n11     264    266\n12     284    262\n13     263    271\n14     260    260\n15     283    281\n16     255    250\n17     272    263\n18     266    278\n19     268    264\n20     270    272\n21     287    259\n22     289    264\n23     280    280\n24     272    274\n25     275    281\n26     265    276\n27     260    269\n28     278    268\n29     275    262\n30     281    283\n31     274    250\n32     273    253\n33     263    260\n34     275    270\n35     267    263\n36     279    261\n37     274    255\n38     276    263\n39     262    279",
      "text/html": "<div>\n<style scoped>\n    .dataframe tbody tr th:only-of-type {\n        vertical-align: middle;\n    }\n\n    .dataframe tbody tr th {\n        vertical-align: top;\n    }\n\n    .dataframe thead th {\n        text-align: right;\n    }\n</style>\n<table border=\"1\" class=\"dataframe\">\n  <thead>\n    <tr style=\"text-align: right;\">\n      <th></th>\n      <th>before</th>\n      <th>after</th>\n    </tr>\n  </thead>\n  <tbody>\n    <tr>\n      <th>0</th>\n      <td>264</td>\n      <td>277</td>\n    </tr>\n    <tr>\n      <th>1</th>\n      <td>261</td>\n      <td>269</td>\n    </tr>\n    <tr>\n      <th>2</th>\n      <td>267</td>\n      <td>263</td>\n    </tr>\n    <tr>\n      <th>3</th>\n      <td>272</td>\n      <td>266</td>\n    </tr>\n    <tr>\n      <th>4</th>\n      <td>258</td>\n      <td>262</td>\n    </tr>\n    <tr>\n      <th>5</th>\n      <td>283</td>\n      <td>251</td>\n    </tr>\n    <tr>\n      <th>6</th>\n      <td>258</td>\n      <td>262</td>\n    </tr>\n    <tr>\n      <th>7</th>\n      <td>266</td>\n      <td>289</td>\n    </tr>\n    <tr>\n      <th>8</th>\n      <td>259</td>\n      <td>286</td>\n    </tr>\n    <tr>\n      <th>9</th>\n      <td>270</td>\n      <td>264</td>\n    </tr>\n    <tr>\n      <th>10</th>\n      <td>263</td>\n      <td>274</td>\n    </tr>\n    <tr>\n      <th>11</th>\n      <td>264</td>\n      <td>266</td>\n    </tr>\n    <tr>\n      <th>12</th>\n      <td>284</td>\n      <td>262</td>\n    </tr>\n    <tr>\n      <th>13</th>\n      <td>263</td>\n      <td>271</td>\n    </tr>\n    <tr>\n      <th>14</th>\n      <td>260</td>\n      <td>260</td>\n    </tr>\n    <tr>\n      <th>15</th>\n      <td>283</td>\n      <td>281</td>\n    </tr>\n    <tr>\n      <th>16</th>\n      <td>255</td>\n      <td>250</td>\n    </tr>\n    <tr>\n      <th>17</th>\n      <td>272</td>\n      <td>263</td>\n    </tr>\n    <tr>\n      <th>18</th>\n      <td>266</td>\n      <td>278</td>\n    </tr>\n    <tr>\n      <th>19</th>\n      <td>268</td>\n      <td>264</td>\n    </tr>\n    <tr>\n      <th>20</th>\n      <td>270</td>\n      <td>272</td>\n    </tr>\n    <tr>\n      <th>21</th>\n      <td>287</td>\n      <td>259</td>\n    </tr>\n    <tr>\n      <th>22</th>\n      <td>289</td>\n      <td>264</td>\n    </tr>\n    <tr>\n      <th>23</th>\n      <td>280</td>\n      <td>280</td>\n    </tr>\n    <tr>\n      <th>24</th>\n      <td>272</td>\n      <td>274</td>\n    </tr>\n    <tr>\n      <th>25</th>\n      <td>275</td>\n      <td>281</td>\n    </tr>\n    <tr>\n      <th>26</th>\n      <td>265</td>\n      <td>276</td>\n    </tr>\n    <tr>\n      <th>27</th>\n      <td>260</td>\n      <td>269</td>\n    </tr>\n    <tr>\n      <th>28</th>\n      <td>278</td>\n      <td>268</td>\n    </tr>\n    <tr>\n      <th>29</th>\n      <td>275</td>\n      <td>262</td>\n    </tr>\n    <tr>\n      <th>30</th>\n      <td>281</td>\n      <td>283</td>\n    </tr>\n    <tr>\n      <th>31</th>\n      <td>274</td>\n      <td>250</td>\n    </tr>\n    <tr>\n      <th>32</th>\n      <td>273</td>\n      <td>253</td>\n    </tr>\n    <tr>\n      <th>33</th>\n      <td>263</td>\n      <td>260</td>\n    </tr>\n    <tr>\n      <th>34</th>\n      <td>275</td>\n      <td>270</td>\n    </tr>\n    <tr>\n      <th>35</th>\n      <td>267</td>\n      <td>263</td>\n    </tr>\n    <tr>\n      <th>36</th>\n      <td>279</td>\n      <td>261</td>\n    </tr>\n    <tr>\n      <th>37</th>\n      <td>274</td>\n      <td>255</td>\n    </tr>\n    <tr>\n      <th>38</th>\n      <td>276</td>\n      <td>263</td>\n    </tr>\n    <tr>\n      <th>39</th>\n      <td>262</td>\n      <td>279</td>\n    </tr>\n  </tbody>\n</table>\n</div>"
     },
     "execution_count": 66,
     "metadata": {},
     "output_type": "execute_result"
    }
   ],
   "source": [
    "import pandas as pd\n",
    "new_data = {'before' : golf.Current, 'after' : golf.New}\n",
    "new_df = pd.DataFrame(new_data)\n",
    "new_df"
   ],
   "metadata": {
    "collapsed": false
   }
  },
  {
   "cell_type": "code",
   "execution_count": 67,
   "outputs": [
    {
     "data": {
      "text/plain": "<AxesSubplot:>"
     },
     "execution_count": 67,
     "metadata": {},
     "output_type": "execute_result"
    },
    {
     "data": {
      "text/plain": "<Figure size 432x288 with 1 Axes>",
      "image/png": "[encoded data removed]"
     },
     "metadata": {
      "needs_background": "light"
     },
     "output_type": "display_data"
    }
   ],
   "source": [
    "# 두 집단 평균 차이에 대한 검정(two-sample t=test, 독립표본 t검정)\n",
    "# H0 : 두집단의 평균 차이가 없다\n",
    "# H1 : 두집단의 평균 차이가 있다\n",
    "new_df.boxplot()"
   ],
   "metadata": {
    "collapsed": false
   }
  },
  {
   "cell_type": "code",
   "execution_count": 68,
   "outputs": [
    {
     "data": {
      "text/plain": "LeveneResult(statistic=0.2553238291765741, pvalue=0.6147759523331309)"
     },
     "execution_count": 68,
     "metadata": {},
     "output_type": "execute_result"
    }
   ],
   "source": [
    "# 각 집단이 같은지 아닌지를 먼저 확인해야함 (Levene's Test)\n",
    "stats.levene(new_df.after, new_df.before)"
   ],
   "metadata": {
    "collapsed": false
   }
  },
  {
   "cell_type": "code",
   "execution_count": 69,
   "outputs": [
    {
     "name": "stdout",
     "output_type": "stream",
     "text": [
      "levene's test에 의해 p-value는 0.05보다 높고 이는 유의수준 95%하에서 비거리가 늘어났지 못하다는 결론이 납니다 따라서 H0인 귀무가설을 채택합니다.\n"
     ]
    }
   ],
   "source": [
    "print(f\"levene's test에 의해 p-value는 0.05보다 높고 이는 유의수준 95%하에서 비거리가 늘어났지 못하다는 결론이 납니다 따라서 H0인 귀무가설을 채택합니다.\")"
   ],
   "metadata": {
    "collapsed": false
   }
  },
  {
   "cell_type": "code",
   "execution_count": null,
   "outputs": [],
   "source": [
    "# p value> 0.05 이므로 귀무가설을 기각하지 못한다 따라서 두 집단의 std는 같다고 본다.\n"
   ],
   "metadata": {
    "collapsed": false
   }
  },
  {
   "cell_type": "markdown",
   "metadata": {},
   "source": [
    "#### (c) 각 모델의 모집단 평균에 대한 95% 신뢰구간은 얼마인가? 두 신뢰구간이 겹치는가? 위의 가설검정 결과와 비교하여 서술하시오."
   ]
  },
  {
   "cell_type": "code",
   "execution_count": 70,
   "outputs": [],
   "source": [
    "from statsmodels.stats import weightstats\n",
    "stat_before = weightstats.DescrStatsW(new_df.before)\n",
    "stat_after = weightstats.DescrStatsW(new_df.after)"
   ],
   "metadata": {
    "collapsed": false
   }
  },
  {
   "cell_type": "code",
   "execution_count": 71,
   "outputs": [
    {
     "data": {
      "text/plain": "(264.3348164103898, 270.6651835896102)"
     },
     "execution_count": 71,
     "metadata": {},
     "output_type": "execute_result"
    }
   ],
   "source": [
    "stat_after.tconfint_mean()"
   ],
   "metadata": {
    "collapsed": false
   }
  },
  {
   "cell_type": "code",
   "execution_count": 72,
   "outputs": [
    {
     "data": {
      "text/plain": "(267.47565965314044, 273.0743403468595)"
     },
     "execution_count": 72,
     "metadata": {},
     "output_type": "execute_result"
    }
   ],
   "source": [
    "stat_before.tconfint_mean()"
   ],
   "metadata": {
    "collapsed": false
   }
  },
  {
   "cell_type": "code",
   "execution_count": null,
   "outputs": [],
   "source": [
    "# Q1 . (b)결과를 비교해서 어떤 것을 알아야 하나요??\n",
    "print(f\"신뢰구간은 겹치는 부분이 존재하며 이를통해 비거리가 늘어나지 않는다는 귀무가설을 채택할 수 있다.\")"
   ],
   "metadata": {
    "collapsed": false
   }
  },
  {
   "cell_type": "markdown",
   "metadata": {},
   "source": [
    "#### 2. 고혈압 환자 120명을 대상으로 치료 전후의 혈압이 blood_pressure.csv에 저장되어 있다. 해당 치료가 효과가 있는지 (즉, 치료 후의 혈압이 감소했는지) 가설검정 절차를 통해 답하시오."
   ]
  },
  {
   "cell_type": "code",
   "execution_count": 22,
   "outputs": [],
   "source": [
    "import matplotlib.pylab as plt\n",
    "%matplotlib inline\n",
    "data_path = \"../data/\"\n",
    "blood = pd.read_csv(data_path + 'blood_pressure.csv')\n",
    " # 초 단위로 변환"
   ],
   "metadata": {
    "collapsed": false
   }
  },
  {
   "cell_type": "code",
   "execution_count": 23,
   "outputs": [
    {
     "data": {
      "text/plain": "     patient     sex agegrp  bp_before  bp_after\n0          1    Male  30-45        143       153\n1          2    Male  30-45        163       170\n2          3    Male  30-45        153       168\n3          4    Male  30-45        153       142\n4          5    Male  30-45        146       141\n..       ...     ...    ...        ...       ...\n115      116  Female    60+        152       152\n116      117  Female    60+        161       152\n117      118  Female    60+        165       174\n118      119  Female    60+        149       151\n119      120  Female    60+        185       163\n\n[120 rows x 5 columns]",
      "text/html": "<div>\n<style scoped>\n    .dataframe tbody tr th:only-of-type {\n        vertical-align: middle;\n    }\n\n    .dataframe tbody tr th {\n        vertical-align: top;\n    }\n\n    .dataframe thead th {\n        text-align: right;\n    }\n</style>\n<table border=\"1\" class=\"dataframe\">\n  <thead>\n    <tr style=\"text-align: right;\">\n      <th></th>\n      <th>patient</th>\n      <th>sex</th>\n      <th>agegrp</th>\n      <th>bp_before</th>\n      <th>bp_after</th>\n    </tr>\n  </thead>\n  <tbody>\n    <tr>\n      <th>0</th>\n      <td>1</td>\n      <td>Male</td>\n      <td>30-45</td>\n      <td>143</td>\n      <td>153</td>\n    </tr>\n    <tr>\n      <th>1</th>\n      <td>2</td>\n      <td>Male</td>\n      <td>30-45</td>\n      <td>163</td>\n      <td>170</td>\n    </tr>\n    <tr>\n      <th>2</th>\n      <td>3</td>\n      <td>Male</td>\n      <td>30-45</td>\n      <td>153</td>\n      <td>168</td>\n    </tr>\n    <tr>\n      <th>3</th>\n      <td>4</td>\n      <td>Male</td>\n      <td>30-45</td>\n      <td>153</td>\n      <td>142</td>\n    </tr>\n    <tr>\n      <th>4</th>\n      <td>5</td>\n      <td>Male</td>\n      <td>30-45</td>\n      <td>146</td>\n      <td>141</td>\n    </tr>\n    <tr>\n      <th>...</th>\n      <td>...</td>\n      <td>...</td>\n      <td>...</td>\n      <td>...</td>\n      <td>...</td>\n    </tr>\n    <tr>\n      <th>115</th>\n      <td>116</td>\n      <td>Female</td>\n      <td>60+</td>\n      <td>152</td>\n      <td>152</td>\n    </tr>\n    <tr>\n      <th>116</th>\n      <td>117</td>\n      <td>Female</td>\n      <td>60+</td>\n      <td>161</td>\n      <td>152</td>\n    </tr>\n    <tr>\n      <th>117</th>\n      <td>118</td>\n      <td>Female</td>\n      <td>60+</td>\n      <td>165</td>\n      <td>174</td>\n    </tr>\n    <tr>\n      <th>118</th>\n      <td>119</td>\n      <td>Female</td>\n      <td>60+</td>\n      <td>149</td>\n      <td>151</td>\n    </tr>\n    <tr>\n      <th>119</th>\n      <td>120</td>\n      <td>Female</td>\n      <td>60+</td>\n      <td>185</td>\n      <td>163</td>\n    </tr>\n  </tbody>\n</table>\n<p>120 rows × 5 columns</p>\n</div>"
     },
     "execution_count": 23,
     "metadata": {},
     "output_type": "execute_result"
    }
   ],
   "source": [
    "blood"
   ],
   "metadata": {
    "collapsed": false
   }
  },
  {
   "cell_type": "code",
   "execution_count": 73,
   "metadata": {},
   "outputs": [
    {
     "name": "stdout",
     "output_type": "stream",
     "text": [
      "ShapiroResult(statistic=0.9547787308692932, pvalue=0.0004928423441015184) ShapiroResult(statistic=0.9740639328956604, pvalue=0.020227791741490364)\n"
     ]
    }
   ],
   "source": [
    "# 해당 분포가 정규분포를 따른다(귀무가설)\n",
    "a = stats.shapiro(blood.bp_before)\n",
    "b = stats.shapiro(blood.bp_after)\n",
    "print(a,b)\n",
    "# 정규분포를 따르지 않는다(p-value < 0.05) 그러나 관측수가 120개(n>30)이므로 t- test를 진행한다.\n"
   ]
  },
  {
   "cell_type": "code",
   "execution_count": 74,
   "outputs": [
    {
     "name": "stdout",
     "output_type": "stream",
     "text": [
      "(154.39119937472915, 158.50880062527082) (148.7956209132003, 153.92104575346633)\n"
     ]
    }
   ],
   "source": [
    "\n",
    "stat_before = weightstats.DescrStatsW(blood.bp_before)\n",
    "stat_after = weightstats.DescrStatsW(blood.bp_after)\n",
    "# 데이터 평균을 통한 양측검정(유의수준 0.05)의 값 표시\n",
    "print(stat_before.tconfint_mean(), stat_after.tconfint_mean())"
   ],
   "metadata": {
    "collapsed": false
   }
  },
  {
   "cell_type": "code",
   "execution_count": 75,
   "outputs": [
    {
     "name": "stdout",
     "output_type": "stream",
     "text": [
      "T_statistics: 4.897, p-value: 0.000, degrees of freedom: 119\n"
     ]
    }
   ],
   "source": [
    "# 점추정의 경우 이렇게한다.(after 평균에 대한 점추정이 유효한것인가에 대한 결과 표시)\n",
    "t_result = stat_before.ttest_mean(stat_after.mean, alternative='two-sided')\n",
    "print('T_statistics: %.3f, p-value: %.3f, degrees of freedom: %i' %(t_result))"
   ],
   "metadata": {
    "collapsed": false
   }
  },
  {
   "cell_type": "code",
   "execution_count": 76,
   "outputs": [
    {
     "data": {
      "text/plain": "['__add__',\n '__class__',\n '__class_getitem__',\n '__contains__',\n '__delattr__',\n '__dir__',\n '__doc__',\n '__eq__',\n '__format__',\n '__ge__',\n '__getattribute__',\n '__getitem__',\n '__getnewargs__',\n '__gt__',\n '__hash__',\n '__init__',\n '__init_subclass__',\n '__iter__',\n '__le__',\n '__len__',\n '__lt__',\n '__mul__',\n '__ne__',\n '__new__',\n '__reduce__',\n '__reduce_ex__',\n '__repr__',\n '__rmul__',\n '__setattr__',\n '__sizeof__',\n '__str__',\n '__subclasshook__',\n 'count',\n 'index']"
     },
     "execution_count": 76,
     "metadata": {},
     "output_type": "execute_result"
    }
   ],
   "source": [
    "dir(t_result)"
   ],
   "metadata": {
    "collapsed": false
   }
  },
  {
   "cell_type": "code",
   "execution_count": 77,
   "outputs": [
    {
     "data": {
      "text/plain": "count    120.000000\nmean     151.358333\nstd       14.177622\nmin      125.000000\n25%      140.750000\n50%      149.500000\n75%      161.000000\nmax      185.000000\nName: bp_after, dtype: float64"
     },
     "execution_count": 77,
     "metadata": {},
     "output_type": "execute_result"
    }
   ],
   "source": [
    "# 두개 집단에 대한 평균 비교\n",
    "blood.bp_after.describe()"
   ],
   "metadata": {
    "collapsed": false
   }
  },
  {
   "cell_type": "code",
   "execution_count": 78,
   "outputs": [
    {
     "data": {
      "text/plain": "count    120.000000\nmean     156.450000\nstd       11.389845\nmin      138.000000\n25%      147.000000\n50%      154.500000\n75%      164.000000\nmax      185.000000\nName: bp_before, dtype: float64"
     },
     "execution_count": 78,
     "metadata": {},
     "output_type": "execute_result"
    }
   ],
   "source": [
    "blood.bp_before.describe()"
   ],
   "metadata": {
    "collapsed": false
   }
  },
  {
   "cell_type": "code",
   "execution_count": 80,
   "outputs": [
    {
     "data": {
      "text/plain": "     before  after\n0       143    153\n1       163    170\n2       153    168\n3       153    142\n4       146    141\n..      ...    ...\n115     152    152\n116     161    152\n117     165    174\n118     149    151\n119     185    163\n\n[120 rows x 2 columns]",
      "text/html": "<div>\n<style scoped>\n    .dataframe tbody tr th:only-of-type {\n        vertical-align: middle;\n    }\n\n    .dataframe tbody tr th {\n        vertical-align: top;\n    }\n\n    .dataframe thead th {\n        text-align: right;\n    }\n</style>\n<table border=\"1\" class=\"dataframe\">\n  <thead>\n    <tr style=\"text-align: right;\">\n      <th></th>\n      <th>before</th>\n      <th>after</th>\n    </tr>\n  </thead>\n  <tbody>\n    <tr>\n      <th>0</th>\n      <td>143</td>\n      <td>153</td>\n    </tr>\n    <tr>\n      <th>1</th>\n      <td>163</td>\n      <td>170</td>\n    </tr>\n    <tr>\n      <th>2</th>\n      <td>153</td>\n      <td>168</td>\n    </tr>\n    <tr>\n      <th>3</th>\n      <td>153</td>\n      <td>142</td>\n    </tr>\n    <tr>\n      <th>4</th>\n      <td>146</td>\n      <td>141</td>\n    </tr>\n    <tr>\n      <th>...</th>\n      <td>...</td>\n      <td>...</td>\n    </tr>\n    <tr>\n      <th>115</th>\n      <td>152</td>\n      <td>152</td>\n    </tr>\n    <tr>\n      <th>116</th>\n      <td>161</td>\n      <td>152</td>\n    </tr>\n    <tr>\n      <th>117</th>\n      <td>165</td>\n      <td>174</td>\n    </tr>\n    <tr>\n      <th>118</th>\n      <td>149</td>\n      <td>151</td>\n    </tr>\n    <tr>\n      <th>119</th>\n      <td>185</td>\n      <td>163</td>\n    </tr>\n  </tbody>\n</table>\n<p>120 rows × 2 columns</p>\n</div>"
     },
     "execution_count": 80,
     "metadata": {},
     "output_type": "execute_result"
    }
   ],
   "source": [
    "new_data = {'before' : blood.bp_before, 'after' : blood.bp_after}\n",
    "new_df = pd.DataFrame(new_data)\n",
    "new_df"
   ],
   "metadata": {
    "collapsed": false
   }
  },
  {
   "cell_type": "code",
   "execution_count": 81,
   "outputs": [
    {
     "data": {
      "text/plain": "<AxesSubplot:>"
     },
     "execution_count": 81,
     "metadata": {},
     "output_type": "execute_result"
    },
    {
     "data": {
      "text/plain": "<Figure size 432x288 with 1 Axes>",
      "image/png": "[encoded data removed]"
     },
     "metadata": {
      "needs_background": "light"
     },
     "output_type": "display_data"
    }
   ],
   "source": [
    "# 두 집단 평균 차이에 대한 검정(two-sample t=test, 독립표본 t검정)\n",
    "# H0 : 두집단의 평균 차이가 없다\n",
    "# H1 : 두집단의 평균 차이가 있다\n",
    "new_df.boxplot()"
   ],
   "metadata": {
    "collapsed": false
   }
  },
  {
   "cell_type": "code",
   "execution_count": 82,
   "outputs": [
    {
     "data": {
      "text/plain": "LeveneResult(statistic=4.863729003161597, pvalue=0.028383666362347747)"
     },
     "execution_count": 82,
     "metadata": {},
     "output_type": "execute_result"
    }
   ],
   "source": [
    "# 각 집단이 같은지 아닌지를 먼저 확인해야함 (Levene's Test)\n",
    "stats.levene(new_df.after, new_df.before)"
   ],
   "metadata": {
    "collapsed": false
   }
  },
  {
   "cell_type": "code",
   "execution_count": 83,
   "outputs": [
    {
     "data": {
      "text/plain": "(-3.066983681903628, 0.002424249319761932, 227.43679382724363)"
     },
     "execution_count": 83,
     "metadata": {},
     "output_type": "execute_result"
    }
   ],
   "source": [
    "# p value< 0.05 이므로 귀무가설을 기각한다 따라서 각 집단의 std는 다르다고 보면 된다. usevar = \"unequal\" 옵션을 선택해야함\n",
    "weightstats.ttest_ind(new_df.after, new_df.before, usevar='unequal', alternative='two-sided')\n"
   ],
   "metadata": {
    "collapsed": false
   }
  },
  {
   "cell_type": "code",
   "execution_count": 84,
   "outputs": [],
   "source": [
    "# p- value< 0.05 이므로 귀무가설을 기각하고 대립가설을 채택한다 곧, 상기 1번 문제와 박스플롯은 비슷할 수 있으나 분산을 고려하였을 때 이 자료는 약의 효과가 의미가 있다고 귀무가설을 대립하고 대립가설을 채택하게 된다."
   ],
   "metadata": {
    "collapsed": false
   }
  },
  {
   "cell_type": "markdown",
   "metadata": {},
   "source": [
    "#### 3.\t시카고 O’Hare 공항과 애틀란타의 Hartsfield-Jackson공항은 미국에서 가장 번잡한 공항들 중에 하나이다. 이렇게 붐비는 관계로 종종 도착과 이륙 지연이 발생한다. 예정보다 15분 지체되면 지연으로 고려된다. 시카고 O’Hare공항은 지난 달 900편 중 252편이 이륙지연되었고 애틀란타의 Hartsfield-Jackson공항은 1200편 중 312편이 이륙지연 되었다. 두 공항의 출발지연에 대한 모집단 비율의 차이가 있는지 판단하기 위해 가설검정을 진행하시오."
   ]
  },
  {
   "cell_type": "code",
   "execution_count": 77,
   "outputs": [
    {
     "data": {
      "text/plain": "count    120.000000\nmean     151.358333\nstd       14.177622\nmin      125.000000\n25%      140.750000\n50%      149.500000\n75%      161.000000\nmax      185.000000\nName: bp_after, dtype: float64"
     },
     "execution_count": 77,
     "metadata": {},
     "output_type": "execute_result"
    }
   ],
   "source": [
    "# # 두개 집단에 대한 평균 비교\n",
    "# O_n = 900\n",
    "# H_n = 1200\n",
    "#\n",
    "#\n",
    "# blood.bp_before.describe()\n",
    "# new_data = {'before' : blood.bp_before, 'after' : blood.bp_after}\n",
    "# new_df = pd.DataFrame(new_data)\n",
    "# new_df\n",
    "# # 두 집단 평균 차이에 대한 검정(two-sample t=test, 독립표본 t검정)\n",
    "# # H0 : 두집단의 평균 차이가 없다\n",
    "# # H1 : 두집단의 평균 차이가 있다\n",
    "# new_df.boxplot()\n",
    "# # 각 집단이 같은지 아닌지를 먼저 확인해야함 (Levene's Test)\n",
    "# stats.levene(new_df.after, new_df.before)\n",
    "# # p value< 0.05 이므로 귀무가설을 기각한다 따라서 각 집단의 std는 다르다고 보면 된다. usevar = \"unequal\" 옵션을 선택해야함\n",
    "# weightstats.ttest_ind(new_df.after, new_df.before, usevar='unequal', alternative='two-sided')\n",
    "#\n",
    "# # p- value< 0.05 이므로 귀무가설을 기각하고 대립가설을 채택한다 곧, 상기 1번 문제와 박스플롯은 비슷할 수 있으나 분산을 고려하였을 때 이 자료는 약의 효과가 의미가 있다고 귀무가설을 대립하고 대립가설을 채택하게 된다."
   ],
   "metadata": {
    "collapsed": false
   }
  },
  {
   "cell_type": "code",
   "execution_count": 1,
   "outputs": [
    {
     "name": "stdout",
     "output_type": "stream",
     "text": [
      "z-통계량: 1.0233315429559044\n",
      "p-value: 0.30615111466303746\n",
      "귀무가설 채택: 두 공항의 출발 지연 모집단 비율의 차이가 없다.\n"
     ]
    }
   ],
   "source": [
    "\n",
    "import numpy as np\n",
    "from statsmodels.stats.proportion import proportions_ztest\n",
    "# 지연된 이륙 횟수와 전체 이륙 횟수\n",
    "delayed_flights = np.array([252, 312])\n",
    "total_flights = np.array([900, 1200])\n",
    "\n",
    "# 두 비율의 검정\n",
    "z_statistic, p_value = proportions_ztest(delayed_flights, total_flights)\n",
    "\n",
    "# 결과 출력\n",
    "print(\"z-통계량:\", z_statistic)\n",
    "print(\"p-value:\", p_value)\n",
    "\n",
    "# 유의수준 설정 (0.05)\n",
    "alpha = 0.05\n",
    "\n",
    "# 가설 검증\n",
    "if p_value < alpha:\n",
    "    print(\"귀무가설 기각: 두 공항의 출발 지연 모집단 비율의 차이가 있다.\")\n",
    "else:\n",
    "    print(\"귀무가설 채택: 두 공항의 출발 지연 모집단 비율의 차이가 없다.\")\n"
   ],
   "metadata": {
    "collapsed": false
   }
  },
  {
   "cell_type": "code",
   "execution_count": null,
   "metadata": {},
   "outputs": [],
   "source": []
  },
  {
   "cell_type": "markdown",
   "metadata": {},
   "source": [
    "#### 4. 올해 초 13주 동안 토요일 저녁 뉴스의 시청률이 MBC방송은 29%, KBS방송은 28%, SBS 방송은25%, 기타 방송사가 18%로 기록되었다. 토요일 저녁 방송 편성이 변경되고 난 다음에 300가구를 선정하여 시청률을 조사한 결과에 따르면 MBC 95가구, KBS 70가구, SBS 89가구, 기타 방송이 46가구를 기록하였다. 유의수준 0.05 하에서 시청률에 변경이 있었다고 할 수 있는지 통계적 판단을 하시오."
   ]
  },
  {
   "cell_type": "code",
   "execution_count": null,
   "metadata": {},
   "outputs": [],
   "source": []
  },
  {
   "cell_type": "code",
   "execution_count": 3,
   "outputs": [
    {
     "name": "stdout",
     "output_type": "stream",
     "text": [
      "카이제곱 통계량: 3.4594975755951394\n",
      "p-value: 0.3260532665762452\n",
      "귀무가설 채택: 토요일 저녁 방송 편성 변경 전과 후의 시청률에 차이가 없다.\n"
     ]
    }
   ],
   "source": [
    "# 귀무가설(H0): 토요일 저녁 방송 편성 변경 전과 후의 시청률에 차이가 없다.\n",
    "# 대립가설(H1): 토요일 저녁 방송 편성 변경 전과 후의 시청률에 차이가 있다.\n",
    "\n",
    "from scipy.stats import chi2_contingency\n",
    "\n",
    "# 변경 전 시청률과 변경 후 시청률\n",
    "households = np.array([95, 70, 89, 46])\n",
    "broadcaster = np.array([0.29, 0.28, 0.25, 0.18])\n",
    "\n",
    "# 기대 빈도수 계산\n",
    "total_households = 300\n",
    "expected_counts = total_households * broadcaster\n",
    "\n",
    "# 카이제곱 검정 수행\n",
    "chi_square_statistic, p_value, _, _ = chi2_contingency(\n",
    "    np.array([households, expected_counts]))\n",
    "\n",
    "# 결과 출력\n",
    "print(\"카이제곱 통계량:\", chi_square_statistic)\n",
    "print(\"p-value:\", p_value)\n",
    "\n",
    "# 유의수준 설정 (0.05)\n",
    "alpha = 0.05\n",
    "\n",
    "# 가설 검증\n",
    "if p_value < alpha:\n",
    "    print(\"귀무가설 기각: 토요일 저녁 방송 편성 변경 전과 후의 시청률에 차이가 있다.\")\n",
    "else:\n",
    "    print(\"귀무가설 채택: 토요일 저녁 방송 편성 변경 전과 후의 시청률에 차이가 없다.\")\n"
   ],
   "metadata": {
    "collapsed": false
   }
  },
  {
   "cell_type": "code",
   "execution_count": 4,
   "outputs": [
    {
     "name": "stdout",
     "output_type": "stream",
     "text": [
      "평균:  6.0\n",
      "분산:  8.0\n"
     ]
    }
   ],
   "source": [
    "data = [2, 4, 6, 8, 10]\n",
    "\n",
    "# 평균 계산\n",
    "mean = sum(data) / len(data)\n",
    "\n",
    "# 분산 계산\n",
    "var = sum((i - mean) ** 2 for i in data) / len(data)\n",
    "\n",
    "# 결과 출력\n",
    "print(\"평균: \", mean)\n",
    "print(\"분산: \", var)\n"
   ],
   "metadata": {
    "collapsed": false
   }
  },
  {
   "cell_type": "code",
   "execution_count": null,
   "outputs": [],
   "source": [],
   "metadata": {
    "collapsed": false
   }
  }
 ],
 "metadata": {
  "kernelspec": {
   "display_name": "Python 3",
   "language": "python",
   "name": "python3"
  },
  "language_info": {
   "codemirror_mode": {
    "name": "ipython",
    "version": 3
   },
   "file_extension": ".py",
   "mimetype": "text/x-python",
   "name": "python",
   "nbconvert_exporter": "python",
   "pygments_lexer": "ipython3",
   "version": "3.7.7"
  }
 },
 "nbformat": 4,
 "nbformat_minor": 4
}
