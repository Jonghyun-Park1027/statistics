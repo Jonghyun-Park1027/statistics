{
 "cells": [
  {
   "cell_type": "markdown",
   "metadata": {},
   "source": [
    "\n",
    "# <font color=navy> 중간고사 - 통계분석론 2023-1학기\n",
    "\n",
    "<font color=\"blue\"> \n",
    "    \n",
    "- **각 문항에 답을 하기 위해 사용된 코드, 그래프, 통계량 등을 반드시 모두 제시하세요.**\n",
    "- **아래의 문제에 답을 채워넣은 뒤 모든 결과물이 프린트 된 상태에서 `File>Download as>HTML(.html)` 또는 pdf 형식으로 저장하여 업로드하세요.(모든 답안이 제대로 보이는지 반드시 확인!!)**"
   ]
  },
  {
   "cell_type": "code",
   "execution_count": 82,
   "outputs": [],
   "source": [
    "# import common\n",
    "import pandas as pd\n",
    "import numpy as np\n",
    "from scipy import stats\n",
    "\n",
    "import seaborn as sns\n",
    "import matplotlib.pylab as plt\n",
    "from statsmodels.stats import weightstats\n",
    "from statsmodels.stats import proportion"
   ],
   "metadata": {
    "collapsed": false
   }
  },
  {
   "cell_type": "markdown",
   "metadata": {},
   "source": [
    "#### 1. 한 병원에서 태어난 신생아 몸무게는 정규분포를 따르고 평균이 3.1 kg이고 표준편차는 0.5 kg이다. \n",
    "#### (a) 3.6 kg 이상 몸무게의 신생아가 태어날 확률은? "
   ]
  },
  {
   "cell_type": "code",
   "execution_count": 83,
   "metadata": {},
   "outputs": [
    {
     "data": {
      "text/plain": "0.15865525393145707"
     },
     "execution_count": 83,
     "metadata": {},
     "output_type": "execute_result"
    }
   ],
   "source": [
    "mean = 3.1\n",
    "std = 0.5\n",
    "1- stats.norm.cdf(3.6, mean, std)"
   ]
  },
  {
   "cell_type": "markdown",
   "metadata": {},
   "source": [
    "#### (b) 90백분위 수에 해당하는 신생아 몸무게는? 즉, 상위 10%에 해당하는 신생아 몸무게는 몇 kg 이상인가? "
   ]
  },
  {
   "cell_type": "code",
   "execution_count": 84,
   "metadata": {},
   "outputs": [
    {
     "data": {
      "text/plain": "3.7407757827723005"
     },
     "execution_count": 84,
     "metadata": {},
     "output_type": "execute_result"
    }
   ],
   "source": [
    "stats.norm.ppf(0.9, mean, std)"
   ]
  },
  {
   "cell_type": "markdown",
   "metadata": {},
   "source": [
    "#### 2. 한 통계학 과목 중간시험 점수는 평균이 78이고 표준편차가 6인 정규분포를 따른다. \n",
    "#### (a) 중간시험점수가 75점 미만인 학생의 비율은 얼마인가? "
   ]
  },
  {
   "cell_type": "code",
   "execution_count": 85,
   "metadata": {},
   "outputs": [
    {
     "data": {
      "text/plain": "0.3085375387259869"
     },
     "execution_count": 85,
     "metadata": {},
     "output_type": "execute_result"
    }
   ],
   "source": [
    "mean = 78\n",
    "std = 6\n",
    "stats.norm.cdf(75, mean, std)"
   ]
  },
  {
   "cell_type": "markdown",
   "metadata": {},
   "source": [
    "#### (b) 50명으로 구성된 한 반의 평균 중간시험점수가 75점 미만일 확률은 얼마인가? "
   ]
  },
  {
   "cell_type": "code",
   "execution_count": 86,
   "metadata": {},
   "outputs": [
    {
     "data": {
      "text/plain": "0.0002034760087224789"
     },
     "execution_count": 86,
     "metadata": {},
     "output_type": "execute_result"
    }
   ],
   "source": [
    "n = 50\n",
    "se = std / np.sqrt(n)\n",
    "stats.norm.cdf(75, mean, se)"
   ]
  },
  {
   "cell_type": "markdown",
   "metadata": {},
   "source": [
    "#### 3. 한 라디오 방송사의 방송 광고 담당자는 광고의 길이가 평균 25초인지 확인하려고 한다. 41개의 광고를 무작위로 선택하여 조사한 결과 평균 26.9초, 표준편차는 7.88초였다. \n",
    "\n",
    "#### (a) 평균 광고 길이의 99% 신뢰구간은 무엇인가? "
   ]
  },
  {
   "cell_type": "code",
   "execution_count": 89,
   "metadata": {},
   "outputs": [],
   "source": [
    "mean = 26.9\n",
    "std = 7.88\n",
    "n = 41\n",
    "# 표준오차 구하기\n",
    "se = std / (n ** 0.5)\n",
    "t_value = stats.t.ppf((1+0.99)/2, n-1)\n",
    "low = mean - t_value*se\n",
    "upper = mean + t_value*se"
   ]
  },
  {
   "cell_type": "code",
   "execution_count": 90,
   "outputs": [
    {
     "name": "stdout",
     "output_type": "stream",
     "text": [
      "답은 23.57175924796403~30.228240752035965의 범위값을 99% 신뢰수준하에 가집니다\n"
     ]
    }
   ],
   "source": [
    "print(f\"답은 {low}~{upper}의 범위값을 99% 신뢰수준하에 가집니다\")"
   ],
   "metadata": {
    "collapsed": false
   }
  },
  {
   "cell_type": "markdown",
   "metadata": {},
   "source": [
    "#### (b) 위의 신뢰구간을 사용하여 광고의 길이가 평균 25초라고 결론지을 수 있는지 확인하시오. "
   ]
  },
  {
   "cell_type": "markdown",
   "source": [
    "## 상기 신뢰구간 99%하에서 범위값안에 평균 25가 해당되기 때문에 평균 25초라고 결론지을 수 있습니다"
   ],
   "metadata": {
    "collapsed": false
   }
  },
  {
   "cell_type": "markdown",
   "metadata": {},
   "source": [
    "#### 4. 심리학자들은 개인의 위험에 대한 인식을 측정하기 위해 금융과 건강과 관련된 설문조사를 시행하였다. 그 중 새로운 의학연구회사에 저축의 80%를 투자하는 것에 대해 개인이 인식하는 위험과 관련된 데이터가 `risk_med80.csv`에 저장되어 있다. 포함된 변수는 아래와 같다.\n",
    "\n",
    "| 변수명 | 내용                                                                                                                             |\n",
    "|:--------|:----------------------------------------------------------------------------------------------------------------------------------|\n",
    "| subid  | 개인 ID                                                                                                                          |\n",
    "| risk   | 위험인식도                                                                                                                       |\n",
    "| ethnic | 인종: 1=Caucasian, 2=African-American, 3=Mexican-American,  4=Taiwanese-American                                                 |\n",
    "| gender | 성별: 0=Female, 1=Male                                                                                                           |\n",
    "| age    | 나이                                                                                                                             |\n",
    "| active | 위험인식 측정을 위해 물어본 설문 항목 (위의 표의 22개 코드)                                                                      |\n",
    "| wvcat  | 사회에 대한 인식: 0=미분류(unclassifiable), 1=개인주의자(individualist), 2=계급주의자(hierarchicalist), 3=평등주의자(egalitarian) |"
   ]
  },
  {
   "cell_type": "code",
   "execution_count": 91,
   "outputs": [],
   "source": [
    "import matplotlib.pylab as plt\n",
    "%matplotlib inline\n",
    "data_path = \"./data/\"\n",
    "risk = pd.read_csv(data_path + 'risk_med80.csv')\n",
    " # 초 단위로 변환"
   ],
   "metadata": {
    "collapsed": false
   }
  },
  {
   "cell_type": "markdown",
   "metadata": {},
   "source": [
    "#### (a) 새로운 의학연구회사에 저축의 80%를 투자하는 것에 대한 위험 인식도가 성별의 차이가 있는지 검증하려고 한다. 적절한 그래프 및 통계적 가설검정 방법을 사용하여 판단하고 결과를 서술하시오. (귀무가설, 대립가설 명시)"
   ]
  },
  {
   "cell_type": "markdown",
   "source": [],
   "metadata": {
    "collapsed": false
   }
  },
  {
   "cell_type": "code",
   "execution_count": 25,
   "metadata": {},
   "outputs": [],
   "source": [
    "#H0 : 저축의 80%를 투자하는 것에 대한 위험이 인식도가 성별에 따라 차이가 없다\n",
    "#H1 : 저축의 80%를 투자하는 것에 대한 위험의 인식도가 성별에 따라 차이가 있다.\n",
    "man = risk[risk.gender == 1]\n",
    "woman = risk[risk.gender == 0]"
   ]
  },
  {
   "cell_type": "code",
   "execution_count": 44,
   "outputs": [],
   "source": [
    "man_risk =man.risk\n",
    "woman_risk = woman.risk"
   ],
   "metadata": {
    "collapsed": false
   }
  },
  {
   "cell_type": "code",
   "execution_count": 48,
   "outputs": [],
   "source": [
    "man_risk = man_risk.reset_index(drop=True)\n",
    "woman_risk = woman_risk.reset_index(drop=True)"
   ],
   "metadata": {
    "collapsed": false
   }
  },
  {
   "cell_type": "code",
   "execution_count": 49,
   "outputs": [
    {
     "data": {
      "text/plain": "            subid        risk      ethnic  gender         age       wvcat\ncount  220.000000  220.000000  220.000000   220.0  220.000000  220.000000\nmean   512.731818   68.504545    2.486364     1.0   29.972727    0.890909\nstd    313.197424   25.259475    1.156595     0.0   14.353628    1.215166\nmin      7.000000    0.000000    1.000000     1.0   18.000000    0.000000\n25%    210.750000   50.000000    1.000000     1.0   20.000000    0.000000\n50%    524.500000   75.000000    2.500000     1.0   23.000000    0.000000\n75%    824.250000   90.000000    4.000000     1.0   38.000000    2.000000\nmax    996.000000  100.000000    4.000000     1.0   82.000000    3.000000",
      "text/html": "<div>\n<style scoped>\n    .dataframe tbody tr th:only-of-type {\n        vertical-align: middle;\n    }\n\n    .dataframe tbody tr th {\n        vertical-align: top;\n    }\n\n    .dataframe thead th {\n        text-align: right;\n    }\n</style>\n<table border=\"1\" class=\"dataframe\">\n  <thead>\n    <tr style=\"text-align: right;\">\n      <th></th>\n      <th>subid</th>\n      <th>risk</th>\n      <th>ethnic</th>\n      <th>gender</th>\n      <th>age</th>\n      <th>wvcat</th>\n    </tr>\n  </thead>\n  <tbody>\n    <tr>\n      <th>count</th>\n      <td>220.000000</td>\n      <td>220.000000</td>\n      <td>220.000000</td>\n      <td>220.0</td>\n      <td>220.000000</td>\n      <td>220.000000</td>\n    </tr>\n    <tr>\n      <th>mean</th>\n      <td>512.731818</td>\n      <td>68.504545</td>\n      <td>2.486364</td>\n      <td>1.0</td>\n      <td>29.972727</td>\n      <td>0.890909</td>\n    </tr>\n    <tr>\n      <th>std</th>\n      <td>313.197424</td>\n      <td>25.259475</td>\n      <td>1.156595</td>\n      <td>0.0</td>\n      <td>14.353628</td>\n      <td>1.215166</td>\n    </tr>\n    <tr>\n      <th>min</th>\n      <td>7.000000</td>\n      <td>0.000000</td>\n      <td>1.000000</td>\n      <td>1.0</td>\n      <td>18.000000</td>\n      <td>0.000000</td>\n    </tr>\n    <tr>\n      <th>25%</th>\n      <td>210.750000</td>\n      <td>50.000000</td>\n      <td>1.000000</td>\n      <td>1.0</td>\n      <td>20.000000</td>\n      <td>0.000000</td>\n    </tr>\n    <tr>\n      <th>50%</th>\n      <td>524.500000</td>\n      <td>75.000000</td>\n      <td>2.500000</td>\n      <td>1.0</td>\n      <td>23.000000</td>\n      <td>0.000000</td>\n    </tr>\n    <tr>\n      <th>75%</th>\n      <td>824.250000</td>\n      <td>90.000000</td>\n      <td>4.000000</td>\n      <td>1.0</td>\n      <td>38.000000</td>\n      <td>2.000000</td>\n    </tr>\n    <tr>\n      <th>max</th>\n      <td>996.000000</td>\n      <td>100.000000</td>\n      <td>4.000000</td>\n      <td>1.0</td>\n      <td>82.000000</td>\n      <td>3.000000</td>\n    </tr>\n  </tbody>\n</table>\n</div>"
     },
     "execution_count": 49,
     "metadata": {},
     "output_type": "execute_result"
    }
   ],
   "source": [
    "man.describe()"
   ],
   "metadata": {
    "collapsed": false
   }
  },
  {
   "cell_type": "code",
   "execution_count": 50,
   "outputs": [
    {
     "data": {
      "text/plain": "             subid       risk      ethnic  gender         age       wvcat\ncount   369.000000  369.00000  369.000000   369.0  369.000000  369.000000\nmean    559.666667   66.96477    2.547425     0.0   27.146341    0.734417\nstd     307.426096   23.30694    1.153233     0.0   13.250523    1.070825\nmin       3.000000    0.00000    1.000000     0.0   18.000000    0.000000\n25%     272.000000   50.00000    1.000000     0.0   19.000000    0.000000\n50%     597.000000   70.00000    3.000000     0.0   21.000000    0.000000\n75%     841.000000   85.00000    4.000000     0.0   29.000000    2.000000\nmax    1033.000000  100.00000    4.000000     0.0   89.000000    3.000000",
      "text/html": "<div>\n<style scoped>\n    .dataframe tbody tr th:only-of-type {\n        vertical-align: middle;\n    }\n\n    .dataframe tbody tr th {\n        vertical-align: top;\n    }\n\n    .dataframe thead th {\n        text-align: right;\n    }\n</style>\n<table border=\"1\" class=\"dataframe\">\n  <thead>\n    <tr style=\"text-align: right;\">\n      <th></th>\n      <th>subid</th>\n      <th>risk</th>\n      <th>ethnic</th>\n      <th>gender</th>\n      <th>age</th>\n      <th>wvcat</th>\n    </tr>\n  </thead>\n  <tbody>\n    <tr>\n      <th>count</th>\n      <td>369.000000</td>\n      <td>369.00000</td>\n      <td>369.000000</td>\n      <td>369.0</td>\n      <td>369.000000</td>\n      <td>369.000000</td>\n    </tr>\n    <tr>\n      <th>mean</th>\n      <td>559.666667</td>\n      <td>66.96477</td>\n      <td>2.547425</td>\n      <td>0.0</td>\n      <td>27.146341</td>\n      <td>0.734417</td>\n    </tr>\n    <tr>\n      <th>std</th>\n      <td>307.426096</td>\n      <td>23.30694</td>\n      <td>1.153233</td>\n      <td>0.0</td>\n      <td>13.250523</td>\n      <td>1.070825</td>\n    </tr>\n    <tr>\n      <th>min</th>\n      <td>3.000000</td>\n      <td>0.00000</td>\n      <td>1.000000</td>\n      <td>0.0</td>\n      <td>18.000000</td>\n      <td>0.000000</td>\n    </tr>\n    <tr>\n      <th>25%</th>\n      <td>272.000000</td>\n      <td>50.00000</td>\n      <td>1.000000</td>\n      <td>0.0</td>\n      <td>19.000000</td>\n      <td>0.000000</td>\n    </tr>\n    <tr>\n      <th>50%</th>\n      <td>597.000000</td>\n      <td>70.00000</td>\n      <td>3.000000</td>\n      <td>0.0</td>\n      <td>21.000000</td>\n      <td>0.000000</td>\n    </tr>\n    <tr>\n      <th>75%</th>\n      <td>841.000000</td>\n      <td>85.00000</td>\n      <td>4.000000</td>\n      <td>0.0</td>\n      <td>29.000000</td>\n      <td>2.000000</td>\n    </tr>\n    <tr>\n      <th>max</th>\n      <td>1033.000000</td>\n      <td>100.00000</td>\n      <td>4.000000</td>\n      <td>0.0</td>\n      <td>89.000000</td>\n      <td>3.000000</td>\n    </tr>\n  </tbody>\n</table>\n</div>"
     },
     "execution_count": 50,
     "metadata": {},
     "output_type": "execute_result"
    }
   ],
   "source": [
    "woman.describe()"
   ],
   "metadata": {
    "collapsed": false
   }
  },
  {
   "cell_type": "code",
   "execution_count": 51,
   "outputs": [
    {
     "data": {
      "text/plain": "      man  woman\n0    40.0     80\n1    85.0     10\n2    90.0     50\n3    90.0     90\n4    90.0     90\n..    ...    ...\n364   NaN     74\n365   NaN     50\n366   NaN     70\n367   NaN     70\n368   NaN     20\n\n[369 rows x 2 columns]",
      "text/html": "<div>\n<style scoped>\n    .dataframe tbody tr th:only-of-type {\n        vertical-align: middle;\n    }\n\n    .dataframe tbody tr th {\n        vertical-align: top;\n    }\n\n    .dataframe thead th {\n        text-align: right;\n    }\n</style>\n<table border=\"1\" class=\"dataframe\">\n  <thead>\n    <tr style=\"text-align: right;\">\n      <th></th>\n      <th>man</th>\n      <th>woman</th>\n    </tr>\n  </thead>\n  <tbody>\n    <tr>\n      <th>0</th>\n      <td>40.0</td>\n      <td>80</td>\n    </tr>\n    <tr>\n      <th>1</th>\n      <td>85.0</td>\n      <td>10</td>\n    </tr>\n    <tr>\n      <th>2</th>\n      <td>90.0</td>\n      <td>50</td>\n    </tr>\n    <tr>\n      <th>3</th>\n      <td>90.0</td>\n      <td>90</td>\n    </tr>\n    <tr>\n      <th>4</th>\n      <td>90.0</td>\n      <td>90</td>\n    </tr>\n    <tr>\n      <th>...</th>\n      <td>...</td>\n      <td>...</td>\n    </tr>\n    <tr>\n      <th>364</th>\n      <td>NaN</td>\n      <td>74</td>\n    </tr>\n    <tr>\n      <th>365</th>\n      <td>NaN</td>\n      <td>50</td>\n    </tr>\n    <tr>\n      <th>366</th>\n      <td>NaN</td>\n      <td>70</td>\n    </tr>\n    <tr>\n      <th>367</th>\n      <td>NaN</td>\n      <td>70</td>\n    </tr>\n    <tr>\n      <th>368</th>\n      <td>NaN</td>\n      <td>20</td>\n    </tr>\n  </tbody>\n</table>\n<p>369 rows × 2 columns</p>\n</div>"
     },
     "execution_count": 51,
     "metadata": {},
     "output_type": "execute_result"
    }
   ],
   "source": [
    "import pandas as pd\n",
    "new_data = {'man' : man_risk, 'woman' : woman_risk}\n",
    "new_df = pd.DataFrame(new_data)\n",
    "new_df"
   ],
   "metadata": {
    "collapsed": false
   }
  },
  {
   "cell_type": "code",
   "execution_count": 52,
   "metadata": {},
   "outputs": [
    {
     "data": {
      "text/plain": "<AxesSubplot:>"
     },
     "execution_count": 52,
     "metadata": {},
     "output_type": "execute_result"
    },
    {
     "data": {
      "text/plain": "<Figure size 640x480 with 1 Axes>",
      "image/png": "[encoded data removed]"
     },
     "metadata": {},
     "output_type": "display_data"
    }
   ],
   "source": [
    "new_df.boxplot()\n"
   ]
  },
  {
   "cell_type": "code",
   "execution_count": 54,
   "outputs": [
    {
     "data": {
      "text/plain": "LeveneResult(statistic=0.13493345520918656, pvalue=0.713503114479991)"
     },
     "execution_count": 54,
     "metadata": {},
     "output_type": "execute_result"
    }
   ],
   "source": [
    "stats.levene(man_risk,woman_risk)"
   ],
   "metadata": {
    "collapsed": false
   }
  },
  {
   "cell_type": "code",
   "execution_count": 92,
   "outputs": [
    {
     "data": {
      "text/plain": "(0.7515158318489347, 0.45264346919231835, 587.0)"
     },
     "execution_count": 92,
     "metadata": {},
     "output_type": "execute_result"
    }
   ],
   "source": [
    "from statsmodels.stats import weightstats\n",
    "weightstats.ttest_ind(man_risk,\n",
    "                      woman_risk,\n",
    "                      usevar='pooled',alternative = 'two-sided')"
   ],
   "metadata": {
    "collapsed": false
   }
  },
  {
   "cell_type": "markdown",
   "source": [
    "### levene's test에 의해 p-value는 0.05보다 높고 이는 유의수준 95%하에서 두 집단이 다르다고 할 수 없습니다. 따라서 H0인 귀무가설을 채택합니다."
   ],
   "metadata": {
    "collapsed": false
   }
  },
  {
   "cell_type": "markdown",
   "source": [
    "#### (b) 사회에 대한 인식(`wvcat`)이 인종별로 차이가 있는가? 적절한 그래프 및 통계적 가설검정 방법을 사용하여 판단하고 결과를 서술하시오.  (귀무가설, 대립가설 명시)"
   ],
   "metadata": {
    "collapsed": false
   }
  },
  {
   "cell_type": "code",
   "execution_count": 94,
   "outputs": [],
   "source": [
    "#H0 : 저축의 80%를 투자하는 것에 대한 위험이 인식도가 인종에 따라 차이가 없다\n",
    "#H1 : 저축의 80%를 투자하는 것에 대한 위험의 인식도가 인종에 따라 차이가 있다."
   ],
   "metadata": {
    "collapsed": false
   }
  },
  {
   "cell_type": "code",
   "execution_count": 93,
   "outputs": [
    {
     "name": "stdout",
     "output_type": "stream",
     "text": [
      "Chisq stat: 70.5329058264, p-value: 0.0000000000, df: 9\n"
     ]
    }
   ],
   "source": [
    "# import pandas as pd\n",
    "from scipy.stats import chi2_contingency\n",
    "wvcat = pd.crosstab(risk.wvcat, risk.ethnic)\n",
    "\n",
    "result = chi2_contingency(wvcat)\n",
    "print(\"Chisq stat: %.10f, p-value: %.10f, df: %i\" % (result[0:3]))\n",
    "\n",
    "#p-value가 0.05보다 작으므로 대립가설H1을 채택한다."
   ],
   "metadata": {
    "collapsed": false
   }
  },
  {
   "cell_type": "code",
   "execution_count": 98,
   "outputs": [
    {
     "data": {
      "text/plain": "     subid  risk  ethnic  gender  age  wvcat\n0       15    80       1       0   36      2\n20      64    90       1       1   60      2\n22      72    95       1       1   65      2\n32      97    95       1       0   66      2\n33     103    50       1       1   35      2\n..     ...   ...     ...     ...  ...    ...\n561    969    80       4       0   22      2\n562    970   100       4       0   20      2\n571    980    70       4       0   21      2\n577    994    35       4       0   21      2\n583   1003    60       4       0   20      2\n\n[92 rows x 6 columns]",
      "text/html": "<div>\n<style scoped>\n    .dataframe tbody tr th:only-of-type {\n        vertical-align: middle;\n    }\n\n    .dataframe tbody tr th {\n        vertical-align: top;\n    }\n\n    .dataframe thead th {\n        text-align: right;\n    }\n</style>\n<table border=\"1\" class=\"dataframe\">\n  <thead>\n    <tr style=\"text-align: right;\">\n      <th></th>\n      <th>subid</th>\n      <th>risk</th>\n      <th>ethnic</th>\n      <th>gender</th>\n      <th>age</th>\n      <th>wvcat</th>\n    </tr>\n  </thead>\n  <tbody>\n    <tr>\n      <th>0</th>\n      <td>15</td>\n      <td>80</td>\n      <td>1</td>\n      <td>0</td>\n      <td>36</td>\n      <td>2</td>\n    </tr>\n    <tr>\n      <th>20</th>\n      <td>64</td>\n      <td>90</td>\n      <td>1</td>\n      <td>1</td>\n      <td>60</td>\n      <td>2</td>\n    </tr>\n    <tr>\n      <th>22</th>\n      <td>72</td>\n      <td>95</td>\n      <td>1</td>\n      <td>1</td>\n      <td>65</td>\n      <td>2</td>\n    </tr>\n    <tr>\n      <th>32</th>\n      <td>97</td>\n      <td>95</td>\n      <td>1</td>\n      <td>0</td>\n      <td>66</td>\n      <td>2</td>\n    </tr>\n    <tr>\n      <th>33</th>\n      <td>103</td>\n      <td>50</td>\n      <td>1</td>\n      <td>1</td>\n      <td>35</td>\n      <td>2</td>\n    </tr>\n    <tr>\n      <th>...</th>\n      <td>...</td>\n      <td>...</td>\n      <td>...</td>\n      <td>...</td>\n      <td>...</td>\n      <td>...</td>\n    </tr>\n    <tr>\n      <th>561</th>\n      <td>969</td>\n      <td>80</td>\n      <td>4</td>\n      <td>0</td>\n      <td>22</td>\n      <td>2</td>\n    </tr>\n    <tr>\n      <th>562</th>\n      <td>970</td>\n      <td>100</td>\n      <td>4</td>\n      <td>0</td>\n      <td>20</td>\n      <td>2</td>\n    </tr>\n    <tr>\n      <th>571</th>\n      <td>980</td>\n      <td>70</td>\n      <td>4</td>\n      <td>0</td>\n      <td>21</td>\n      <td>2</td>\n    </tr>\n    <tr>\n      <th>577</th>\n      <td>994</td>\n      <td>35</td>\n      <td>4</td>\n      <td>0</td>\n      <td>21</td>\n      <td>2</td>\n    </tr>\n    <tr>\n      <th>583</th>\n      <td>1003</td>\n      <td>60</td>\n      <td>4</td>\n      <td>0</td>\n      <td>20</td>\n      <td>2</td>\n    </tr>\n  </tbody>\n</table>\n<p>92 rows × 6 columns</p>\n</div>"
     },
     "execution_count": 98,
     "metadata": {},
     "output_type": "execute_result"
    }
   ],
   "source": [
    "Caucasian = risk[risk.wvcat ==1]\n",
    "African = risk[risk.wvcat == 2]\n",
    "Mexican = risk[risk.wvcat == 3]\n",
    "Taiwanese = risk[risk.wvcat == 4]\n",
    "\n",
    "woman_risk = woman_risk.reset_index(drop=True)\n",
    "African = Caucasian[]\n"
   ],
   "metadata": {
    "collapsed": false
   }
  },
  {
   "cell_type": "markdown",
   "metadata": {},
   "source": [
    "#### 5. 한 투자상담사는 개인투자자들이 저축의 80%를 투자하는데 있어서 우량주보다 새로운 의학연구회사에 투자하는 것을 더 위험하다고 느낀다고 주장하였다. 이 주장에 대해 적절한 그래프 및 통계적 가설검정 방법을 사용하여 판단하고 결과를 서술하시오. (귀무가설, 대립가설 명시)\n",
    "\n",
    "####  `risk_med80_stk80.csv`는 각 개인이 우량주(`risk_stk80`)와 새로운 의학연구회사(`risk_med80`)에 80%를 투자하는 것에 대해 인식하는 위험을 함께 포함하고 있다."
   ]
  },
  {
   "cell_type": "code",
   "execution_count": 56,
   "outputs": [],
   "source": [
    "import matplotlib.pylab as plt\n",
    "%matplotlib inline\n",
    "data_path = \"./data/\"\n",
    "risk_2 = pd.read_csv(data_path + 'risk_med80_stk80.csv')\n",
    " # 초 단위로 변환"
   ],
   "metadata": {
    "collapsed": false
   }
  },
  {
   "cell_type": "code",
   "execution_count": 57,
   "metadata": {},
   "outputs": [
    {
     "data": {
      "text/plain": "     subid  risk_med80  risk_stk80\n0       15          80          60\n1       17          10          40\n2       19          40          10\n3       23          85          75\n4       27          90          10\n..     ...         ...         ...\n561   1007          74          80\n562   1009          50          50\n563   1010          70          65\n564   1016          70          60\n565   1018          20          60\n\n[566 rows x 3 columns]",
      "text/html": "<div>\n<style scoped>\n    .dataframe tbody tr th:only-of-type {\n        vertical-align: middle;\n    }\n\n    .dataframe tbody tr th {\n        vertical-align: top;\n    }\n\n    .dataframe thead th {\n        text-align: right;\n    }\n</style>\n<table border=\"1\" class=\"dataframe\">\n  <thead>\n    <tr style=\"text-align: right;\">\n      <th></th>\n      <th>subid</th>\n      <th>risk_med80</th>\n      <th>risk_stk80</th>\n    </tr>\n  </thead>\n  <tbody>\n    <tr>\n      <th>0</th>\n      <td>15</td>\n      <td>80</td>\n      <td>60</td>\n    </tr>\n    <tr>\n      <th>1</th>\n      <td>17</td>\n      <td>10</td>\n      <td>40</td>\n    </tr>\n    <tr>\n      <th>2</th>\n      <td>19</td>\n      <td>40</td>\n      <td>10</td>\n    </tr>\n    <tr>\n      <th>3</th>\n      <td>23</td>\n      <td>85</td>\n      <td>75</td>\n    </tr>\n    <tr>\n      <th>4</th>\n      <td>27</td>\n      <td>90</td>\n      <td>10</td>\n    </tr>\n    <tr>\n      <th>...</th>\n      <td>...</td>\n      <td>...</td>\n      <td>...</td>\n    </tr>\n    <tr>\n      <th>561</th>\n      <td>1007</td>\n      <td>74</td>\n      <td>80</td>\n    </tr>\n    <tr>\n      <th>562</th>\n      <td>1009</td>\n      <td>50</td>\n      <td>50</td>\n    </tr>\n    <tr>\n      <th>563</th>\n      <td>1010</td>\n      <td>70</td>\n      <td>65</td>\n    </tr>\n    <tr>\n      <th>564</th>\n      <td>1016</td>\n      <td>70</td>\n      <td>60</td>\n    </tr>\n    <tr>\n      <th>565</th>\n      <td>1018</td>\n      <td>20</td>\n      <td>60</td>\n    </tr>\n  </tbody>\n</table>\n<p>566 rows × 3 columns</p>\n</div>"
     },
     "execution_count": 57,
     "metadata": {},
     "output_type": "execute_result"
    }
   ],
   "source": [
    "risk_2"
   ]
  },
  {
   "cell_type": "code",
   "execution_count": null,
   "outputs": [],
   "source": [
    "#H0 : 저축의 80%를 투자하는데 우량주보다 새로운 의학연구회사에 투자하는 것이 더 위험하지 않다\n",
    "# H1 : 저축의 80%를 투자하는데 우량주보다 새로운 의학연구회사에 투자하는 것이 더 위험하다."
   ],
   "metadata": {
    "collapsed": false
   }
  },
  {
   "cell_type": "code",
   "execution_count": 63,
   "outputs": [],
   "source": [
    "stk = risk_2.risk_stk80\n",
    "med = risk_2.risk_med80"
   ],
   "metadata": {
    "collapsed": false
   }
  },
  {
   "cell_type": "code",
   "execution_count": 65,
   "outputs": [
    {
     "data": {
      "text/plain": "count    566.000000\nmean      61.395760\nstd       25.998548\nmin        0.000000\n25%       48.250000\n50%       65.000000\n75%       80.000000\nmax      100.000000\nName: risk_stk80, dtype: float64"
     },
     "execution_count": 65,
     "metadata": {},
     "output_type": "execute_result"
    }
   ],
   "source": [
    "stk.describe()"
   ],
   "metadata": {
    "collapsed": false
   }
  },
  {
   "cell_type": "code",
   "execution_count": 66,
   "outputs": [
    {
     "data": {
      "text/plain": "count    566.000000\nmean      67.554770\nstd       24.146155\nmin        0.000000\n25%       50.000000\n50%       75.000000\n75%       89.000000\nmax      100.000000\nName: risk_med80, dtype: float64"
     },
     "execution_count": 66,
     "metadata": {},
     "output_type": "execute_result"
    }
   ],
   "source": [
    "med.describe()"
   ],
   "metadata": {
    "collapsed": false
   }
  },
  {
   "cell_type": "code",
   "execution_count": 67,
   "outputs": [
    {
     "data": {
      "text/plain": "     stk  med\n0     60   80\n1     40   10\n2     10   40\n3     75   85\n4     10   90\n..   ...  ...\n561   80   74\n562   50   50\n563   65   70\n564   60   70\n565   60   20\n\n[566 rows x 2 columns]",
      "text/html": "<div>\n<style scoped>\n    .dataframe tbody tr th:only-of-type {\n        vertical-align: middle;\n    }\n\n    .dataframe tbody tr th {\n        vertical-align: top;\n    }\n\n    .dataframe thead th {\n        text-align: right;\n    }\n</style>\n<table border=\"1\" class=\"dataframe\">\n  <thead>\n    <tr style=\"text-align: right;\">\n      <th></th>\n      <th>stk</th>\n      <th>med</th>\n    </tr>\n  </thead>\n  <tbody>\n    <tr>\n      <th>0</th>\n      <td>60</td>\n      <td>80</td>\n    </tr>\n    <tr>\n      <th>1</th>\n      <td>40</td>\n      <td>10</td>\n    </tr>\n    <tr>\n      <th>2</th>\n      <td>10</td>\n      <td>40</td>\n    </tr>\n    <tr>\n      <th>3</th>\n      <td>75</td>\n      <td>85</td>\n    </tr>\n    <tr>\n      <th>4</th>\n      <td>10</td>\n      <td>90</td>\n    </tr>\n    <tr>\n      <th>...</th>\n      <td>...</td>\n      <td>...</td>\n    </tr>\n    <tr>\n      <th>561</th>\n      <td>80</td>\n      <td>74</td>\n    </tr>\n    <tr>\n      <th>562</th>\n      <td>50</td>\n      <td>50</td>\n    </tr>\n    <tr>\n      <th>563</th>\n      <td>65</td>\n      <td>70</td>\n    </tr>\n    <tr>\n      <th>564</th>\n      <td>60</td>\n      <td>70</td>\n    </tr>\n    <tr>\n      <th>565</th>\n      <td>60</td>\n      <td>20</td>\n    </tr>\n  </tbody>\n</table>\n<p>566 rows × 2 columns</p>\n</div>"
     },
     "execution_count": 67,
     "metadata": {},
     "output_type": "execute_result"
    }
   ],
   "source": [
    "new_data = {'stk' : stk, 'med' : med}\n",
    "new_df = pd.DataFrame(new_data)\n",
    "new_df"
   ],
   "metadata": {
    "collapsed": false
   }
  },
  {
   "cell_type": "code",
   "execution_count": 68,
   "outputs": [
    {
     "data": {
      "text/plain": "<AxesSubplot:>"
     },
     "execution_count": 68,
     "metadata": {},
     "output_type": "execute_result"
    },
    {
     "data": {
      "text/plain": "<Figure size 640x480 with 1 Axes>",
      "image/png": "[encoded data removed]"
     },
     "metadata": {},
     "output_type": "display_data"
    }
   ],
   "source": [
    "new_df.boxplot()"
   ],
   "metadata": {
    "collapsed": false
   }
  },
  {
   "cell_type": "code",
   "execution_count": 69,
   "outputs": [
    {
     "data": {
      "text/plain": "LeveneResult(statistic=4.9315879319507845, pvalue=0.026567781768165835)"
     },
     "execution_count": 69,
     "metadata": {},
     "output_type": "execute_result"
    }
   ],
   "source": [
    "stats.levene(med,stk)"
   ],
   "metadata": {
    "collapsed": false
   }
  },
  {
   "cell_type": "code",
   "execution_count": 70,
   "outputs": [],
   "source": [
    "from statsmodels.stats import weightstats\n",
    "stats_med = weightstats.DescrStatsW(new_df.med)\n",
    "stats_stk = weightstats.DescrStatsW(new_df.stk)"
   ],
   "metadata": {
    "collapsed": false
   }
  },
  {
   "cell_type": "code",
   "execution_count": 71,
   "outputs": [
    {
     "data": {
      "text/plain": "(65.5612567718243, 69.54828386421809)"
     },
     "execution_count": 71,
     "metadata": {},
     "output_type": "execute_result"
    }
   ],
   "source": [
    "stats_med.tconfint_mean()"
   ],
   "metadata": {
    "collapsed": false
   }
  },
  {
   "cell_type": "code",
   "execution_count": 73,
   "outputs": [
    {
     "data": {
      "text/plain": "(59.249312075863564, 63.54220735876542)"
     },
     "execution_count": 73,
     "metadata": {},
     "output_type": "execute_result"
    }
   ],
   "source": [
    "stats_stk.tconfint_mean()"
   ],
   "metadata": {
    "collapsed": false
   }
  },
  {
   "cell_type": "code",
   "execution_count": 95,
   "outputs": [
    {
     "data": {
      "text/plain": "(-5.6359881173313156, 0.9999999862499919, 565.0)"
     },
     "execution_count": 95,
     "metadata": {},
     "output_type": "execute_result"
    }
   ],
   "source": [
    "# t_result = stats_stk.ttest_mean(stats_med.mean, alternative= \"larger\")\n",
    "# t_result"
   ],
   "metadata": {
    "collapsed": false
   }
  },
  {
   "cell_type": "code",
   "execution_count": 97,
   "outputs": [
    {
     "data": {
      "text/plain": "(4.129647396886732, 1.9511028790471065e-05, 1123.881960296998)"
     },
     "execution_count": 97,
     "metadata": {},
     "output_type": "execute_result"
    }
   ],
   "source": [
    "# from statsmodels.stats import weightstats\n",
    "weightstats.ttest_ind(risk_2['risk_med80'], risk_2['risk_stk80'],\n",
    "                      usevar='unequal',alternative = 'larger')\n",
    "\n",
    "# p-value가 1.9511028790470987e-05으로 0.05보다 작으므로 귀무가설을 기각하고 대립가설을 채택한다"
   ],
   "metadata": {
    "collapsed": false
   }
  },
  {
   "cell_type": "code",
   "execution_count": null,
   "outputs": [],
   "source": [],
   "metadata": {
    "collapsed": false
   }
  }
 ],
 "metadata": {
  "kernelspec": {
   "display_name": "Python 3",
   "language": "python",
   "name": "python3"
  },
  "language_info": {
   "codemirror_mode": {
    "name": "ipython",
    "version": 3
   },
   "file_extension": ".py",
   "mimetype": "text/x-python",
   "name": "python",
   "nbconvert_exporter": "python",
   "pygments_lexer": "ipython3",
   "version": "3.7.7"
  }
 },
 "nbformat": 4,
 "nbformat_minor": 4
}
