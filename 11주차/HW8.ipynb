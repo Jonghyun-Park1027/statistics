{
 "cells": [
  {
   "cell_type": "markdown",
   "metadata": {},
   "source": [
    "\n",
    "houseprice.csv는 주택판매가격(price)과 이에 영향을 줄 것으로 판단되는 4가지 설명변수인 세금(tax; 만원), 대지평수(ground; 평), 건물평수(floor; 평), 주택연령(year; 년)을 27개 주택에 대해 조사한 것이다. \n"
   ]
  },
  {
   "cell_type": "code",
   "execution_count": 2,
   "metadata": {},
   "outputs": [],
   "source": [
    "import pandas as pd\n",
    "import numpy as np\n",
    "import matplotlib.pylab as plt\n",
    "import scipy.stats as stats\n",
    "import statsmodels.api as sm\n",
    "import statsmodels.formula.api as smf\n",
    "import seaborn as sns\n",
    "from statsmodels.stats.outliers_influence import OLSInfluence\n",
    "\n",
    "data_path = \"../data/\"\n",
    "house = pd.read_csv(data_path + \"houseprice.csv\")"
   ]
  },
  {
   "cell_type": "code",
   "execution_count": 6,
   "outputs": [
    {
     "ename": "PatsyError",
     "evalue": "Error evaluating factor: NameError: name 'Sales' is not defined\n    Sales ~ Newspaper\n    ^^^^^",
     "output_type": "error",
     "traceback": [
      "\u001B[1;31m---------------------------------------------------------------------------\u001B[0m",
      "\u001B[1;31mNameError\u001B[0m                                 Traceback (most recent call last)",
      "\u001B[1;32m~\\anaconda3\\envs\\park\\lib\\site-packages\\patsy\\compat.py\u001B[0m in \u001B[0;36mcall_and_wrap_exc\u001B[1;34m(msg, origin, f, *args, **kwargs)\u001B[0m\n\u001B[0;32m     35\u001B[0m     \u001B[1;32mtry\u001B[0m\u001B[1;33m:\u001B[0m\u001B[1;33m\u001B[0m\u001B[1;33m\u001B[0m\u001B[0m\n\u001B[1;32m---> 36\u001B[1;33m         \u001B[1;32mreturn\u001B[0m \u001B[0mf\u001B[0m\u001B[1;33m(\u001B[0m\u001B[1;33m*\u001B[0m\u001B[0margs\u001B[0m\u001B[1;33m,\u001B[0m \u001B[1;33m**\u001B[0m\u001B[0mkwargs\u001B[0m\u001B[1;33m)\u001B[0m\u001B[1;33m\u001B[0m\u001B[1;33m\u001B[0m\u001B[0m\n\u001B[0m\u001B[0;32m     37\u001B[0m     \u001B[1;32mexcept\u001B[0m \u001B[0mException\u001B[0m \u001B[1;32mas\u001B[0m \u001B[0me\u001B[0m\u001B[1;33m:\u001B[0m\u001B[1;33m\u001B[0m\u001B[1;33m\u001B[0m\u001B[0m\n",
      "\u001B[1;32m~\\anaconda3\\envs\\park\\lib\\site-packages\\patsy\\eval.py\u001B[0m in \u001B[0;36meval\u001B[1;34m(self, expr, source_name, inner_namespace)\u001B[0m\n\u001B[0;32m    164\u001B[0m         \u001B[0mcode\u001B[0m \u001B[1;33m=\u001B[0m \u001B[0mcompile\u001B[0m\u001B[1;33m(\u001B[0m\u001B[0mexpr\u001B[0m\u001B[1;33m,\u001B[0m \u001B[0msource_name\u001B[0m\u001B[1;33m,\u001B[0m \u001B[1;34m\"eval\"\u001B[0m\u001B[1;33m,\u001B[0m \u001B[0mself\u001B[0m\u001B[1;33m.\u001B[0m\u001B[0mflags\u001B[0m\u001B[1;33m,\u001B[0m \u001B[1;32mFalse\u001B[0m\u001B[1;33m)\u001B[0m\u001B[1;33m\u001B[0m\u001B[1;33m\u001B[0m\u001B[0m\n\u001B[1;32m--> 165\u001B[1;33m         return eval(code, {}, VarLookupDict([inner_namespace]\n\u001B[0m\u001B[0;32m    166\u001B[0m                                             + self._namespaces))\n",
      "\u001B[1;32m<string>\u001B[0m in \u001B[0;36m<module>\u001B[1;34m\u001B[0m\n",
      "\u001B[1;31mNameError\u001B[0m: name 'Sales' is not defined",
      "\nThe above exception was the direct cause of the following exception:\n",
      "\u001B[1;31mPatsyError\u001B[0m                                Traceback (most recent call last)",
      "\u001B[1;32m~\\AppData\\Local\\Temp\\ipykernel_1972\\824542153.py\u001B[0m in \u001B[0;36m<module>\u001B[1;34m\u001B[0m\n\u001B[1;32m----> 1\u001B[1;33m \u001B[0mhouse\u001B[0m \u001B[1;33m=\u001B[0m \u001B[0msmf\u001B[0m\u001B[1;33m.\u001B[0m\u001B[0mols\u001B[0m\u001B[1;33m(\u001B[0m\u001B[1;34m'Sales ~ Newspaper'\u001B[0m\u001B[1;33m,\u001B[0m \u001B[0mdata\u001B[0m \u001B[1;33m=\u001B[0m \u001B[0mhouse\u001B[0m\u001B[1;33m)\u001B[0m\u001B[1;33m.\u001B[0m\u001B[0mfit\u001B[0m\u001B[1;33m(\u001B[0m\u001B[1;33m)\u001B[0m\u001B[1;33m\u001B[0m\u001B[1;33m\u001B[0m\u001B[0m\n\u001B[0m\u001B[0;32m      2\u001B[0m \u001B[0mhouse\u001B[0m\u001B[1;33m.\u001B[0m\u001B[0msummary\u001B[0m\u001B[1;33m(\u001B[0m\u001B[1;33m)\u001B[0m\u001B[1;33m\u001B[0m\u001B[1;33m\u001B[0m\u001B[0m\n",
      "\u001B[1;32m~\\anaconda3\\envs\\park\\lib\\site-packages\\statsmodels\\base\\model.py\u001B[0m in \u001B[0;36mfrom_formula\u001B[1;34m(cls, formula, data, subset, drop_cols, *args, **kwargs)\u001B[0m\n\u001B[0;32m    198\u001B[0m             \u001B[0mmissing\u001B[0m \u001B[1;33m=\u001B[0m \u001B[1;34m'raise'\u001B[0m\u001B[1;33m\u001B[0m\u001B[1;33m\u001B[0m\u001B[0m\n\u001B[0;32m    199\u001B[0m \u001B[1;33m\u001B[0m\u001B[0m\n\u001B[1;32m--> 200\u001B[1;33m         tmp = handle_formula_data(data, None, formula, depth=eval_env,\n\u001B[0m\u001B[0;32m    201\u001B[0m                                   missing=missing)\n\u001B[0;32m    202\u001B[0m         \u001B[1;33m(\u001B[0m\u001B[1;33m(\u001B[0m\u001B[0mendog\u001B[0m\u001B[1;33m,\u001B[0m \u001B[0mexog\u001B[0m\u001B[1;33m)\u001B[0m\u001B[1;33m,\u001B[0m \u001B[0mmissing_idx\u001B[0m\u001B[1;33m,\u001B[0m \u001B[0mdesign_info\u001B[0m\u001B[1;33m)\u001B[0m \u001B[1;33m=\u001B[0m \u001B[0mtmp\u001B[0m\u001B[1;33m\u001B[0m\u001B[1;33m\u001B[0m\u001B[0m\n",
      "\u001B[1;32m~\\anaconda3\\envs\\park\\lib\\site-packages\\statsmodels\\formula\\formulatools.py\u001B[0m in \u001B[0;36mhandle_formula_data\u001B[1;34m(Y, X, formula, depth, missing)\u001B[0m\n\u001B[0;32m     61\u001B[0m     \u001B[1;32melse\u001B[0m\u001B[1;33m:\u001B[0m\u001B[1;33m\u001B[0m\u001B[1;33m\u001B[0m\u001B[0m\n\u001B[0;32m     62\u001B[0m         \u001B[1;32mif\u001B[0m \u001B[0mdata_util\u001B[0m\u001B[1;33m.\u001B[0m\u001B[0m_is_using_pandas\u001B[0m\u001B[1;33m(\u001B[0m\u001B[0mY\u001B[0m\u001B[1;33m,\u001B[0m \u001B[1;32mNone\u001B[0m\u001B[1;33m)\u001B[0m\u001B[1;33m:\u001B[0m\u001B[1;33m\u001B[0m\u001B[1;33m\u001B[0m\u001B[0m\n\u001B[1;32m---> 63\u001B[1;33m             result = dmatrices(formula, Y, depth, return_type='dataframe',\n\u001B[0m\u001B[0;32m     64\u001B[0m                                NA_action=na_action)\n\u001B[0;32m     65\u001B[0m         \u001B[1;32melse\u001B[0m\u001B[1;33m:\u001B[0m\u001B[1;33m\u001B[0m\u001B[1;33m\u001B[0m\u001B[0m\n",
      "\u001B[1;32m~\\anaconda3\\envs\\park\\lib\\site-packages\\patsy\\highlevel.py\u001B[0m in \u001B[0;36mdmatrices\u001B[1;34m(formula_like, data, eval_env, NA_action, return_type)\u001B[0m\n\u001B[0;32m    307\u001B[0m     \"\"\"\n\u001B[0;32m    308\u001B[0m     \u001B[0meval_env\u001B[0m \u001B[1;33m=\u001B[0m \u001B[0mEvalEnvironment\u001B[0m\u001B[1;33m.\u001B[0m\u001B[0mcapture\u001B[0m\u001B[1;33m(\u001B[0m\u001B[0meval_env\u001B[0m\u001B[1;33m,\u001B[0m \u001B[0mreference\u001B[0m\u001B[1;33m=\u001B[0m\u001B[1;36m1\u001B[0m\u001B[1;33m)\u001B[0m\u001B[1;33m\u001B[0m\u001B[1;33m\u001B[0m\u001B[0m\n\u001B[1;32m--> 309\u001B[1;33m     (lhs, rhs) = _do_highlevel_design(formula_like, data, eval_env,\n\u001B[0m\u001B[0;32m    310\u001B[0m                                       NA_action, return_type)\n\u001B[0;32m    311\u001B[0m     \u001B[1;32mif\u001B[0m \u001B[0mlhs\u001B[0m\u001B[1;33m.\u001B[0m\u001B[0mshape\u001B[0m\u001B[1;33m[\u001B[0m\u001B[1;36m1\u001B[0m\u001B[1;33m]\u001B[0m \u001B[1;33m==\u001B[0m \u001B[1;36m0\u001B[0m\u001B[1;33m:\u001B[0m\u001B[1;33m\u001B[0m\u001B[1;33m\u001B[0m\u001B[0m\n",
      "\u001B[1;32m~\\anaconda3\\envs\\park\\lib\\site-packages\\patsy\\highlevel.py\u001B[0m in \u001B[0;36m_do_highlevel_design\u001B[1;34m(formula_like, data, eval_env, NA_action, return_type)\u001B[0m\n\u001B[0;32m    162\u001B[0m     \u001B[1;32mdef\u001B[0m \u001B[0mdata_iter_maker\u001B[0m\u001B[1;33m(\u001B[0m\u001B[1;33m)\u001B[0m\u001B[1;33m:\u001B[0m\u001B[1;33m\u001B[0m\u001B[1;33m\u001B[0m\u001B[0m\n\u001B[0;32m    163\u001B[0m         \u001B[1;32mreturn\u001B[0m \u001B[0miter\u001B[0m\u001B[1;33m(\u001B[0m\u001B[1;33m[\u001B[0m\u001B[0mdata\u001B[0m\u001B[1;33m]\u001B[0m\u001B[1;33m)\u001B[0m\u001B[1;33m\u001B[0m\u001B[1;33m\u001B[0m\u001B[0m\n\u001B[1;32m--> 164\u001B[1;33m     design_infos = _try_incr_builders(formula_like, data_iter_maker, eval_env,\n\u001B[0m\u001B[0;32m    165\u001B[0m                                       NA_action)\n\u001B[0;32m    166\u001B[0m     \u001B[1;32mif\u001B[0m \u001B[0mdesign_infos\u001B[0m \u001B[1;32mis\u001B[0m \u001B[1;32mnot\u001B[0m \u001B[1;32mNone\u001B[0m\u001B[1;33m:\u001B[0m\u001B[1;33m\u001B[0m\u001B[1;33m\u001B[0m\u001B[0m\n",
      "\u001B[1;32m~\\anaconda3\\envs\\park\\lib\\site-packages\\patsy\\highlevel.py\u001B[0m in \u001B[0;36m_try_incr_builders\u001B[1;34m(formula_like, data_iter_maker, eval_env, NA_action)\u001B[0m\n\u001B[0;32m     64\u001B[0m     \u001B[1;32mif\u001B[0m \u001B[0misinstance\u001B[0m\u001B[1;33m(\u001B[0m\u001B[0mformula_like\u001B[0m\u001B[1;33m,\u001B[0m \u001B[0mModelDesc\u001B[0m\u001B[1;33m)\u001B[0m\u001B[1;33m:\u001B[0m\u001B[1;33m\u001B[0m\u001B[1;33m\u001B[0m\u001B[0m\n\u001B[0;32m     65\u001B[0m         \u001B[1;32massert\u001B[0m \u001B[0misinstance\u001B[0m\u001B[1;33m(\u001B[0m\u001B[0meval_env\u001B[0m\u001B[1;33m,\u001B[0m \u001B[0mEvalEnvironment\u001B[0m\u001B[1;33m)\u001B[0m\u001B[1;33m\u001B[0m\u001B[1;33m\u001B[0m\u001B[0m\n\u001B[1;32m---> 66\u001B[1;33m         return design_matrix_builders([formula_like.lhs_termlist,\n\u001B[0m\u001B[0;32m     67\u001B[0m                                        formula_like.rhs_termlist],\n\u001B[0;32m     68\u001B[0m                                       \u001B[0mdata_iter_maker\u001B[0m\u001B[1;33m,\u001B[0m\u001B[1;33m\u001B[0m\u001B[1;33m\u001B[0m\u001B[0m\n",
      "\u001B[1;32m~\\anaconda3\\envs\\park\\lib\\site-packages\\patsy\\build.py\u001B[0m in \u001B[0;36mdesign_matrix_builders\u001B[1;34m(termlists, data_iter_maker, eval_env, NA_action)\u001B[0m\n\u001B[0;32m    691\u001B[0m     \u001B[1;31m# on some data to find out what type of data they return.\u001B[0m\u001B[1;33m\u001B[0m\u001B[1;33m\u001B[0m\u001B[0m\n\u001B[0;32m    692\u001B[0m     (num_column_counts,\n\u001B[1;32m--> 693\u001B[1;33m      \u001B[0mcat_levels_contrasts\u001B[0m\u001B[1;33m)\u001B[0m \u001B[1;33m=\u001B[0m \u001B[0m_examine_factor_types\u001B[0m\u001B[1;33m(\u001B[0m\u001B[0mall_factors\u001B[0m\u001B[1;33m,\u001B[0m\u001B[1;33m\u001B[0m\u001B[1;33m\u001B[0m\u001B[0m\n\u001B[0m\u001B[0;32m    694\u001B[0m                                                    \u001B[0mfactor_states\u001B[0m\u001B[1;33m,\u001B[0m\u001B[1;33m\u001B[0m\u001B[1;33m\u001B[0m\u001B[0m\n\u001B[0;32m    695\u001B[0m                                                    \u001B[0mdata_iter_maker\u001B[0m\u001B[1;33m,\u001B[0m\u001B[1;33m\u001B[0m\u001B[1;33m\u001B[0m\u001B[0m\n",
      "\u001B[1;32m~\\anaconda3\\envs\\park\\lib\\site-packages\\patsy\\build.py\u001B[0m in \u001B[0;36m_examine_factor_types\u001B[1;34m(factors, factor_states, data_iter_maker, NA_action)\u001B[0m\n\u001B[0;32m    441\u001B[0m     \u001B[1;32mfor\u001B[0m \u001B[0mdata\u001B[0m \u001B[1;32min\u001B[0m \u001B[0mdata_iter_maker\u001B[0m\u001B[1;33m(\u001B[0m\u001B[1;33m)\u001B[0m\u001B[1;33m:\u001B[0m\u001B[1;33m\u001B[0m\u001B[1;33m\u001B[0m\u001B[0m\n\u001B[0;32m    442\u001B[0m         \u001B[1;32mfor\u001B[0m \u001B[0mfactor\u001B[0m \u001B[1;32min\u001B[0m \u001B[0mlist\u001B[0m\u001B[1;33m(\u001B[0m\u001B[0mexamine_needed\u001B[0m\u001B[1;33m)\u001B[0m\u001B[1;33m:\u001B[0m\u001B[1;33m\u001B[0m\u001B[1;33m\u001B[0m\u001B[0m\n\u001B[1;32m--> 443\u001B[1;33m             \u001B[0mvalue\u001B[0m \u001B[1;33m=\u001B[0m \u001B[0mfactor\u001B[0m\u001B[1;33m.\u001B[0m\u001B[0meval\u001B[0m\u001B[1;33m(\u001B[0m\u001B[0mfactor_states\u001B[0m\u001B[1;33m[\u001B[0m\u001B[0mfactor\u001B[0m\u001B[1;33m]\u001B[0m\u001B[1;33m,\u001B[0m \u001B[0mdata\u001B[0m\u001B[1;33m)\u001B[0m\u001B[1;33m\u001B[0m\u001B[1;33m\u001B[0m\u001B[0m\n\u001B[0m\u001B[0;32m    444\u001B[0m             \u001B[1;32mif\u001B[0m \u001B[0mfactor\u001B[0m \u001B[1;32min\u001B[0m \u001B[0mcat_sniffers\u001B[0m \u001B[1;32mor\u001B[0m \u001B[0mguess_categorical\u001B[0m\u001B[1;33m(\u001B[0m\u001B[0mvalue\u001B[0m\u001B[1;33m)\u001B[0m\u001B[1;33m:\u001B[0m\u001B[1;33m\u001B[0m\u001B[1;33m\u001B[0m\u001B[0m\n\u001B[0;32m    445\u001B[0m                 \u001B[1;32mif\u001B[0m \u001B[0mfactor\u001B[0m \u001B[1;32mnot\u001B[0m \u001B[1;32min\u001B[0m \u001B[0mcat_sniffers\u001B[0m\u001B[1;33m:\u001B[0m\u001B[1;33m\u001B[0m\u001B[1;33m\u001B[0m\u001B[0m\n",
      "\u001B[1;32m~\\anaconda3\\envs\\park\\lib\\site-packages\\patsy\\eval.py\u001B[0m in \u001B[0;36meval\u001B[1;34m(self, memorize_state, data)\u001B[0m\n\u001B[0;32m    562\u001B[0m \u001B[1;33m\u001B[0m\u001B[0m\n\u001B[0;32m    563\u001B[0m     \u001B[1;32mdef\u001B[0m \u001B[0meval\u001B[0m\u001B[1;33m(\u001B[0m\u001B[0mself\u001B[0m\u001B[1;33m,\u001B[0m \u001B[0mmemorize_state\u001B[0m\u001B[1;33m,\u001B[0m \u001B[0mdata\u001B[0m\u001B[1;33m)\u001B[0m\u001B[1;33m:\u001B[0m\u001B[1;33m\u001B[0m\u001B[1;33m\u001B[0m\u001B[0m\n\u001B[1;32m--> 564\u001B[1;33m         return self._eval(memorize_state[\"eval_code\"],\n\u001B[0m\u001B[0;32m    565\u001B[0m                           \u001B[0mmemorize_state\u001B[0m\u001B[1;33m,\u001B[0m\u001B[1;33m\u001B[0m\u001B[1;33m\u001B[0m\u001B[0m\n\u001B[0;32m    566\u001B[0m                           data)\n",
      "\u001B[1;32m~\\anaconda3\\envs\\park\\lib\\site-packages\\patsy\\eval.py\u001B[0m in \u001B[0;36m_eval\u001B[1;34m(self, code, memorize_state, data)\u001B[0m\n\u001B[0;32m    545\u001B[0m     \u001B[1;32mdef\u001B[0m \u001B[0m_eval\u001B[0m\u001B[1;33m(\u001B[0m\u001B[0mself\u001B[0m\u001B[1;33m,\u001B[0m \u001B[0mcode\u001B[0m\u001B[1;33m,\u001B[0m \u001B[0mmemorize_state\u001B[0m\u001B[1;33m,\u001B[0m \u001B[0mdata\u001B[0m\u001B[1;33m)\u001B[0m\u001B[1;33m:\u001B[0m\u001B[1;33m\u001B[0m\u001B[1;33m\u001B[0m\u001B[0m\n\u001B[0;32m    546\u001B[0m         \u001B[0minner_namespace\u001B[0m \u001B[1;33m=\u001B[0m \u001B[0mVarLookupDict\u001B[0m\u001B[1;33m(\u001B[0m\u001B[1;33m[\u001B[0m\u001B[0mdata\u001B[0m\u001B[1;33m,\u001B[0m \u001B[0mmemorize_state\u001B[0m\u001B[1;33m[\u001B[0m\u001B[1;34m\"transforms\"\u001B[0m\u001B[1;33m]\u001B[0m\u001B[1;33m]\u001B[0m\u001B[1;33m)\u001B[0m\u001B[1;33m\u001B[0m\u001B[1;33m\u001B[0m\u001B[0m\n\u001B[1;32m--> 547\u001B[1;33m         return call_and_wrap_exc(\"Error evaluating factor\",\n\u001B[0m\u001B[0;32m    548\u001B[0m                                  \u001B[0mself\u001B[0m\u001B[1;33m,\u001B[0m\u001B[1;33m\u001B[0m\u001B[1;33m\u001B[0m\u001B[0m\n\u001B[0;32m    549\u001B[0m                                  \u001B[0mmemorize_state\u001B[0m\u001B[1;33m[\u001B[0m\u001B[1;34m\"eval_env\"\u001B[0m\u001B[1;33m]\u001B[0m\u001B[1;33m.\u001B[0m\u001B[0meval\u001B[0m\u001B[1;33m,\u001B[0m\u001B[1;33m\u001B[0m\u001B[1;33m\u001B[0m\u001B[0m\n",
      "\u001B[1;32m~\\anaconda3\\envs\\park\\lib\\site-packages\\patsy\\compat.py\u001B[0m in \u001B[0;36mcall_and_wrap_exc\u001B[1;34m(msg, origin, f, *args, **kwargs)\u001B[0m\n\u001B[0;32m     41\u001B[0m                                  origin)\n\u001B[0;32m     42\u001B[0m             \u001B[1;31m# Use 'exec' to hide this syntax from the Python 2 parser:\u001B[0m\u001B[1;33m\u001B[0m\u001B[1;33m\u001B[0m\u001B[0m\n\u001B[1;32m---> 43\u001B[1;33m             \u001B[0mexec\u001B[0m\u001B[1;33m(\u001B[0m\u001B[1;34m\"raise new_exc from e\"\u001B[0m\u001B[1;33m)\u001B[0m\u001B[1;33m\u001B[0m\u001B[1;33m\u001B[0m\u001B[0m\n\u001B[0m\u001B[0;32m     44\u001B[0m         \u001B[1;32melse\u001B[0m\u001B[1;33m:\u001B[0m\u001B[1;33m\u001B[0m\u001B[1;33m\u001B[0m\u001B[0m\n\u001B[0;32m     45\u001B[0m             \u001B[1;31m# In python 2, we just let the original exception escape -- better\u001B[0m\u001B[1;33m\u001B[0m\u001B[1;33m\u001B[0m\u001B[0m\n",
      "\u001B[1;32m~\\anaconda3\\envs\\park\\lib\\site-packages\\patsy\\compat.py\u001B[0m in \u001B[0;36m<module>\u001B[1;34m\u001B[0m\n",
      "\u001B[1;31mPatsyError\u001B[0m: Error evaluating factor: NameError: name 'Sales' is not defined\n    Sales ~ Newspaper\n    ^^^^^"
     ]
    }
   ],
   "source": [
    "house = smf.ols('Sales ~ Newspaper', data = house).fit()\n",
    "house.summary()"
   ],
   "metadata": {
    "collapsed": false
   }
  },
  {
   "cell_type": "markdown",
   "metadata": {},
   "source": [
    "1\\.\t5개 변수들에 대한 산점도 행렬을 작성하고 변수들 간의 관계를 설명하여라. "
   ]
  },
  {
   "cell_type": "code",
   "execution_count": null,
   "metadata": {},
   "outputs": [],
   "source": []
  },
  {
   "cell_type": "markdown",
   "metadata": {},
   "source": [
    "2\\. 주택 판매가격을 종속변수로, 나머지 4개 변수를 설명변수로 하는 선형회귀모형을 적합하여라. "
   ]
  },
  {
   "cell_type": "code",
   "execution_count": null,
   "metadata": {},
   "outputs": [],
   "source": []
  },
  {
   "cell_type": "markdown",
   "metadata": {},
   "source": [
    "3\\.\t결정계수는 얼마인가? 주택 판매가격에 유의한 영향을 주는 변수들은 무엇인가?"
   ]
  },
  {
   "cell_type": "code",
   "execution_count": null,
   "metadata": {},
   "outputs": [],
   "source": []
  },
  {
   "cell_type": "markdown",
   "metadata": {},
   "source": [
    "4\\. 회귀진단을 위한 그래프들을 그리고 모형이 적절한지 판단하여라. Influential point가 있는가? 이들을 제외하면 회귀분석 결과에 영향을 줄 것으로 예상되는가? "
   ]
  },
  {
   "cell_type": "code",
   "execution_count": null,
   "metadata": {},
   "outputs": [],
   "source": []
  },
  {
   "cell_type": "markdown",
   "metadata": {},
   "source": [
    "5\\.\t세금이 150만원, 대지평수가 50평, 건물평수가 30평, 주택연령이 3년인 주택의 평균판매가격에 대한 추정값과 90% 신뢰구간을 구하여라. "
   ]
  },
  {
   "cell_type": "code",
   "execution_count": null,
   "metadata": {},
   "outputs": [],
   "source": []
  }
 ],
 "metadata": {
  "kernelspec": {
   "display_name": "TensorFlow 2.8 on Python 3.8 (CUDA 11.2)",
   "language": "python",
   "name": "python3"
  },
  "language_info": {
   "codemirror_mode": {
    "name": "ipython",
    "version": 3
   },
   "file_extension": ".py",
   "mimetype": "text/x-python",
   "name": "python",
   "nbconvert_exporter": "python",
   "pygments_lexer": "ipython3",
   "version": "3.8.10"
  }
 },
 "nbformat": 4,
 "nbformat_minor": 4
}
